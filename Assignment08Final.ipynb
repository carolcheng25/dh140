{
 "cells": [
  {
   "cell_type": "markdown",
   "id": "da30e69d-4e2c-4c7c-9b09-8248c296fb2c",
   "metadata": {},
   "source": [
    "# Assignment 8"
   ]
  },
  {
   "cell_type": "markdown",
   "id": "809a5ad4-5232-4f09-ad03-7904f09019b1",
   "metadata": {},
   "source": [
    "You must clarify (in markdown cells) what information is contained in the graph and how you are measuring it\n",
    "Also include a description (via markdown cells) of the network's density and the \"most important\" nodes\n",
    "You can choose what \"most important\" means, but use a quantitative metric and include this metric's value(s) in your description\n",
    "Tailor the graph's aesthetics to enhance the visualization\n"
   ]
  },
  {
   "cell_type": "code",
   "execution_count": 1,
   "id": "cfcb46b3-b231-4052-9b3e-0bacfd06d5ca",
   "metadata": {},
   "outputs": [],
   "source": [
    "import dash\n",
    "import dash_cytoscape as cyto\n",
    "from dash import html, dcc\n",
    "from dash.dependencies import Input, Output\n",
    "from jupyter_dash import JupyterDash\n",
    "from jupyter_dash.comms import _send_jupyter_config_comm_request"
   ]
  },
  {
   "cell_type": "code",
   "execution_count": 2,
   "id": "4487a9da-6d8c-45a6-a168-fa48236e3a8f",
   "metadata": {},
   "outputs": [],
   "source": [
    "_send_jupyter_config_comm_request()"
   ]
  },
  {
   "cell_type": "code",
   "execution_count": 4,
   "id": "c820b236-09f5-43b0-a27a-1b024f3a2570",
   "metadata": {},
   "outputs": [],
   "source": [
    "JupyterDash.infer_jupyter_proxy_config()"
   ]
  },
  {
   "cell_type": "code",
   "execution_count": 5,
   "id": "fc8d256a-b907-42b4-bbf0-1d05e447113b",
   "metadata": {},
   "outputs": [],
   "source": [
    "nodelist = [1,2,3,4,5,6]\n",
    "edgelist = [(1,2),(1,3),(1,4),(1,5),(1,6),(2,3)]\n",
    "\n",
    "graphitems = []\n",
    "\n",
    "for i in nodelist:\n",
    "    dashnode = {'data': {'id': str(i), 'label': str(i)}}\n",
    "    graphitems.append(dashnode)\n",
    "\n",
    "for i in edgelist:\n",
    "    dashedge = {'data': {'source': str(i[0]), 'target': str(i[1])}}\n",
    "    graphitems.append(dashedge)"
   ]
  },
  {
   "cell_type": "code",
   "execution_count": 6,
   "id": "603eac44-c7d3-411c-baa4-e084ffe2a2b2",
   "metadata": {},
   "outputs": [
    {
     "data": {
      "text/plain": [
       "[{'data': {'id': '1', 'label': '1'}},\n",
       " {'data': {'id': '2', 'label': '2'}},\n",
       " {'data': {'id': '3', 'label': '3'}},\n",
       " {'data': {'id': '4', 'label': '4'}},\n",
       " {'data': {'id': '5', 'label': '5'}},\n",
       " {'data': {'id': '6', 'label': '6'}},\n",
       " {'data': {'source': '1', 'target': '2'}},\n",
       " {'data': {'source': '1', 'target': '3'}},\n",
       " {'data': {'source': '1', 'target': '4'}},\n",
       " {'data': {'source': '1', 'target': '5'}},\n",
       " {'data': {'source': '1', 'target': '6'}},\n",
       " {'data': {'source': '2', 'target': '3'}}]"
      ]
     },
     "execution_count": 6,
     "metadata": {},
     "output_type": "execute_result"
    }
   ],
   "source": [
    "graphitems"
   ]
  },
  {
   "cell_type": "code",
   "execution_count": 7,
   "id": "dc519502-3bd3-4eb6-90de-fcff47aae9ff",
   "metadata": {},
   "outputs": [],
   "source": [
    "app = JupyterDash(__name__)"
   ]
  },
  {
   "cell_type": "code",
   "execution_count": 8,
   "id": "3acbf056-71bc-45a5-95af-fa4b838033ec",
   "metadata": {},
   "outputs": [],
   "source": [
    "app.layout = html.Div([\n",
    "    cyto.Cytoscape(\n",
    "        layout={'name': 'cose'},\n",
    "        elements=graphitems\n",
    "    )\n",
    "])"
   ]
  },
  {
   "cell_type": "code",
   "execution_count": 9,
   "id": "3ec74b75-6d3e-4194-ab78-6224bce44052",
   "metadata": {},
   "outputs": [
    {
     "name": "stdout",
     "output_type": "stream",
     "text": [
      "Dash app running on https://jupyter.idre.ucla.edu/user/carolcheng25@gmail.com/proxy/8050/\n"
     ]
    }
   ],
   "source": [
    "app.run_server(debug=True)"
   ]
  },
  {
   "cell_type": "code",
   "execution_count": 10,
   "id": "a71002cc-1968-41de-895e-5d1a3ffe9048",
   "metadata": {},
   "outputs": [
    {
     "name": "stdout",
     "output_type": "stream",
     "text": [
      "Dash app running on https://jupyter.idre.ucla.edu/user/carolcheng25@gmail.com/proxy/8050/\n"
     ]
    },
    {
     "name": "stderr",
     "output_type": "stream",
     "text": [
      "/opt/conda/lib/python3.9/site-packages/jupyter_dash/jupyter_app.py:139: UserWarning: The 'environ['werkzeug.server.shutdown']' function is deprecated and will be removed in Werkzeug 2.1.\n",
      "  func()\n"
     ]
    }
   ],
   "source": [
    "app = JupyterDash(__name__)\n",
    "\n",
    "app.layout = html.Div([\n",
    "\n",
    "    dcc.Dropdown(\n",
    "        id='dropdown-update-layout',\n",
    "        value='cose',\n",
    "        options=[\n",
    "            {'label': 'Grid', 'value': 'grid'},\n",
    "            {'label': 'Random', 'value': 'random'},\n",
    "            {'label': 'Circle', 'value': 'circle'},\n",
    "            {'label': 'Cose', 'value': 'cose'},\n",
    "            {'label': 'Concentric', 'value': 'concentric'}\n",
    "        ]\n",
    "    ),\n",
    "    cyto.Cytoscape(\n",
    "        id='cytoscape-compound',\n",
    "        layout={'name': 'cose'},\n",
    "        elements=graphitems\n",
    "    )\n",
    "])\n",
    "\n",
    "@app.callback(Output('cytoscape-compound', 'layout'),\n",
    "              Input('dropdown-update-layout', 'value'))\n",
    "def update_layout(layout):\n",
    "    return {'name': layout}\n",
    "\n",
    "app.run_server(debug=True)"
   ]
  },
  {
   "cell_type": "code",
   "execution_count": 11,
   "id": "d6808e52-7cee-4517-af98-a8c7d28fc7d7",
   "metadata": {},
   "outputs": [
    {
     "name": "stdout",
     "output_type": "stream",
     "text": [
      "Dash app running on https://jupyter.idre.ucla.edu/user/carolcheng25@gmail.com/proxy/8050/\n"
     ]
    }
   ],
   "source": [
    "app = JupyterDash(__name__)\n",
    "\n",
    "app.layout = html.Div([\n",
    "    dcc.Dropdown(\n",
    "        id='dropdown-update-layout',\n",
    "        value='cose',\n",
    "        options=[\n",
    "            {'label': 'Grid', 'value': 'grid'},\n",
    "            {'label': 'Random', 'value': 'random'},\n",
    "            {'label': 'Circle', 'value': 'circle'},\n",
    "            {'label': 'Cose', 'value': 'cose'},\n",
    "            {'label': 'Concentric', 'value': 'concentric'}\n",
    "        ]\n",
    "    ),\n",
    "    cyto.Cytoscape(\n",
    "        id='cytoscape-compound',\n",
    "        layout={'name': 'cose'},\n",
    "        elements=graphitems,\n",
    "        \n",
    "        # adding in some styling with css-like stylesheet\n",
    "        stylesheet=[\n",
    "            {\n",
    "                'selector': 'node',\n",
    "                'style': {\n",
    "                    'background-color': 'red',\n",
    "                    'content': 'data(label)',\n",
    "                }\n",
    "            },\n",
    "        ]\n",
    "    )\n",
    "])\n",
    "\n",
    "@app.callback(Output('cytoscape-compound', 'layout'),\n",
    "              Input('dropdown-update-layout', 'value'))\n",
    "def update_layout(layout):\n",
    "    return {'name': layout}\n",
    "\n",
    "app.run_server(debug=True)"
   ]
  },
  {
   "cell_type": "markdown",
   "id": "cd1da9be-ec0a-451e-a349-e1be986537a2",
   "metadata": {},
   "source": [
    "# Hamlet"
   ]
  },
  {
   "cell_type": "code",
   "execution_count": 25,
   "id": "e03065d6-0e2a-4832-a80c-ff14a49802b5",
   "metadata": {},
   "outputs": [],
   "source": [
    "with open('hamlet.txt') as f:\n",
    "    x = f.read()"
   ]
  },
  {
   "cell_type": "code",
   "execution_count": 26,
   "id": "c3953c8c-56a7-4aba-9897-3d71f3ed6511",
   "metadata": {
    "collapsed": true,
    "jupyter": {
     "outputs_hidden": true
    },
    "tags": []
   },
   "outputs": [
    {
     "data": {
      "text/plain": [
       "'THE TRAGEDY OF HAMLET, PRINCE OF DENMARK\\n\\nby William Shakespeare\\n\\n\\nContents\\n\\nACT I\\nScene I. Elsinore. A platform before the Castle.\\nScene II. Elsinore. A room of state in the Castle\\nScene III. A room in Polonius’s house.\\nScene IV. The platform.\\nScene V. A more remote part of the Castle.\\n\\nACT II\\nScene I. A room in Polonius’s house.\\nScene II. A room in the Castle.\\n\\nACT III\\nScene I. A room in the Castle.\\nScene II. A hall in the Castle.\\nScene III. A room in the Castle.\\nScene IV. Another room in the Castle.\\n\\nACT IV\\nScene I. A room in the Castle.\\nScene II. Another room in the Castle.\\nScene III. Another room in the Castle.\\nScene IV. A plain in Denmark.\\nScene V. Elsinore. A room in the Castle.\\nScene VI. Another room in the Castle.\\nScene VII. Another room in the Castle.\\n\\nACT V\\nScene I. A churchyard.\\nScene II. A hall in the Castle.\\n\\n\\nDramatis Personæ\\n\\nHAMLET, Prince of Denmark.\\nCLAUDIUS, King of Denmark, Hamlet’s uncle.\\nThe GHOST of the late king, Hamlet’s father.\\nGERTRUDE, the Queen, Hamlet’s mother, now wife of Claudius.\\nPOLONIUS, Lord Chamberlain.\\nLAERTES, Son to Polonius.\\nOPHELIA, Daughter to Polonius.\\nHORATIO, Friend to Hamlet.\\nFORTINBRAS, Prince of Norway.\\nVOLTEMAND, Courtier.\\nCORNELIUS, Courtier.\\nROSENCRANTZ, Courtier.\\nGUILDENSTERN, Courtier.\\nMARCELLUS, Officer.\\nBARNARDO, Officer.\\nFRANCISCO, a Soldier\\nOSRIC, Courtier.\\nREYNALDO, Servant to Polonius.\\nPlayers.\\nA Gentleman, Courtier.\\nA Priest.\\nTwo Clowns, Grave-diggers.\\nA Captain.\\nEnglish Ambassadors.\\nLords, Ladies, Officers, Soldiers, Sailors, Messengers, and Attendants.\\n\\nSCENE. Elsinore.\\n\\n\\n\\nACT I\\n\\nSCENE I. Elsinore. A platform before the Castle.\\n\\n Enter Francisco and Barnardo, two sentinels.\\n\\nBARNARDO. Who’s there?\\n\\nFRANCISCO. Nay, answer me. Stand and unfold yourself.\\n\\nBARNARDO. Long live the King!\\n\\nFRANCISCO. Barnardo?\\n\\nBARNARDO. He.\\n\\nFRANCISCO. You come most carefully upon your hour.\\n\\nBARNARDO. ’Tis now struck twelve. Get thee to bed, Francisco.\\n\\nFRANCISCO. For this relief much thanks. ’Tis bitter cold, And I am sick\\nat heart.\\n\\nBARNARDO. Have you had quiet guard?\\n\\nFRANCISCO. Not a mouse stirring.\\n\\nBARNARDO. Well, good night. If you do meet Horatio and Marcellus, The\\nrivals of my watch, bid them make haste.\\n\\n Enter Horatio and Marcellus.\\n\\nFRANCISCO. I think I hear them. Stand, ho! Who is there?\\n\\nHORATIO. Friends to this ground.\\n\\nMARCELLUS. And liegemen to the Dane.\\n\\nFRANCISCO. Give you good night.\\n\\nMARCELLUS. O, farewell, honest soldier, who hath reliev’d you?\\n\\nFRANCISCO. Barnardo has my place. Give you good-night.\\n\\n [_Exit._]\\n\\nMARCELLUS. Holla, Barnardo!\\n\\nBARNARDO. Say, what, is Horatio there?\\n\\nHORATIO. A piece of him.\\n\\nBARNARDO. Welcome, Horatio. Welcome, good Marcellus.\\n\\nMARCELLUS. What, has this thing appear’d again tonight?\\n\\nBARNARDO. I have seen nothing.\\n\\nMARCELLUS. Horatio says ’tis but our fantasy, And will not let belief\\ntake hold of him Touching this dreaded sight, twice seen of us.\\nTherefore I have entreated him along With us to watch the minutes of\\nthis night, That if again this apparition come He may approve our eyes\\nand speak to it.\\n\\nHORATIO. Tush, tush, ’twill not appear.\\n\\nBARNARDO. Sit down awhile, And let us once again assail your ears, That\\nare so fortified against our story, What we two nights have seen.\\n\\nHORATIO. Well, sit we down, And let us hear Barnardo speak of this.\\n\\nBARNARDO. Last night of all, When yond same star that’s westward from\\nthe pole, Had made his course t’illume that part of heaven Where now it\\nburns, Marcellus and myself, The bell then beating one—\\n\\nMARCELLUS. Peace, break thee off. Look where it comes again.\\n\\n Enter Ghost.\\n\\nBARNARDO. In the same figure, like the King that’s dead.\\n\\nMARCELLUS. Thou art a scholar; speak to it, Horatio.\\n\\nBARNARDO. Looks it not like the King? Mark it, Horatio.\\n\\nHORATIO. Most like. It harrows me with fear and wonder.\\n\\nBARNARDO It would be spoke to.\\n\\nMARCELLUS. Question it, Horatio.\\n\\nHORATIO. What art thou that usurp’st this time of night, Together with\\nthat fair and warlike form In which the majesty of buried Denmark Did\\nsometimes march? By heaven I charge thee speak.\\n\\nMARCELLUS. It is offended.\\n\\nBARNARDO. See, it stalks away.\\n\\nHORATIO. Stay! speak, speak! I charge thee speak!\\n\\n [_Exit Ghost._]\\n\\nMARCELLUS. ’Tis gone, and will not answer.\\n\\nBARNARDO. How now, Horatio! You tremble and look pale. Is not this\\nsomething more than fantasy? What think you on’t?\\n\\nHORATIO. Before my God, I might not this believe Without the sensible\\nand true avouch Of mine own eyes.\\n\\nMARCELLUS. Is it not like the King?\\n\\nHORATIO. As thou art to thyself: Such was the very armour he had on\\nWhen he th’ambitious Norway combated; So frown’d he once, when in an\\nangry parle He smote the sledded Polacks on the ice. ’Tis strange.\\n\\nMARCELLUS. Thus twice before, and jump at this dead hour, With martial\\nstalk hath he gone by our watch.\\n\\nHORATIO. In what particular thought to work I know not; But in the\\ngross and scope of my opinion, This bodes some strange eruption to our\\nstate.\\n\\nMARCELLUS. Good now, sit down, and tell me, he that knows, Why this\\nsame strict and most observant watch So nightly toils the subject of\\nthe land, And why such daily cast of brazen cannon And foreign mart for\\nimplements of war; Why such impress of shipwrights, whose sore task\\nDoes not divide the Sunday from the week. What might be toward, that\\nthis sweaty haste Doth make the night joint-labourer with the day: Who\\nis’t that can inform me?\\n\\nHORATIO. That can I; At least, the whisper goes so. Our last King,\\nWhose image even but now appear’d to us, Was, as you know, by\\nFortinbras of Norway, Thereto prick’d on by a most emulate pride, Dar’d\\nto the combat; in which our valiant Hamlet, For so this side of our\\nknown world esteem’d him, Did slay this Fortinbras; who by a seal’d\\ncompact, Well ratified by law and heraldry, Did forfeit, with his life,\\nall those his lands Which he stood seiz’d of, to the conqueror; Against\\nthe which, a moiety competent Was gaged by our King; which had return’d\\nTo the inheritance of Fortinbras, Had he been vanquisher; as by the\\nsame cov’nant And carriage of the article design’d, His fell to Hamlet.\\nNow, sir, young Fortinbras, Of unimproved mettle, hot and full, Hath in\\nthe skirts of Norway, here and there, Shark’d up a list of lawless\\nresolutes, For food and diet, to some enterprise That hath a stomach\\nin’t; which is no other, As it doth well appear unto our state, But to\\nrecover of us by strong hand And terms compulsatory, those foresaid\\nlands So by his father lost. And this, I take it, Is the main motive of\\nour preparations, The source of this our watch, and the chief head Of\\nthis post-haste and rummage in the land.\\n\\nBARNARDO. I think it be no other but e’en so: Well may it sort that\\nthis portentous figure Comes armed through our watch so like the King\\nThat was and is the question of these wars.\\n\\nHORATIO. A mote it is to trouble the mind’s eye. In the most high and\\npalmy state of Rome, A little ere the mightiest Julius fell, The graves\\nstood tenantless and the sheeted dead Did squeak and gibber in the\\nRoman streets; As stars with trains of fire and dews of blood,\\nDisasters in the sun; and the moist star, Upon whose influence\\nNeptune’s empire stands, Was sick almost to doomsday with eclipse. And\\neven the like precurse of fierce events, As harbingers preceding still\\nthe fates And prologue to the omen coming on, Have heaven and earth\\ntogether demonstrated Unto our climatures and countrymen.\\n\\n Re-enter Ghost.\\n\\nBut, soft, behold! Lo, where it comes again! I’ll cross it, though it\\nblast me. Stay, illusion! If thou hast any sound, or use of voice,\\nSpeak to me. If there be any good thing to be done, That may to thee do\\nease, and grace to me, Speak to me. If thou art privy to thy country’s\\nfate, Which, happily, foreknowing may avoid, O speak! Or if thou hast\\nuphoarded in thy life Extorted treasure in the womb of earth, For\\nwhich, they say, you spirits oft walk in death, Speak of it. Stay, and\\nspeak!\\n\\n [_The cock crows._]\\n\\nStop it, Marcellus!\\n\\nMARCELLUS. Shall I strike at it with my partisan?\\n\\nHORATIO. Do, if it will not stand.\\n\\nBARNARDO. ’Tis here!\\n\\nHORATIO. ’Tis here!\\n\\n [_Exit Ghost._]\\n\\nMARCELLUS. ’Tis gone! We do it wrong, being so majestical, To offer it\\nthe show of violence, For it is as the air, invulnerable, And our vain\\nblows malicious mockery.\\n\\nBARNARDO. It was about to speak, when the cock crew.\\n\\nHORATIO. And then it started, like a guilty thing Upon a fearful\\nsummons. I have heard The cock, that is the trumpet to the morn, Doth\\nwith his lofty and shrill-sounding throat Awake the god of day; and at\\nhis warning, Whether in sea or fire, in earth or air, Th’extravagant\\nand erring spirit hies To his confine. And of the truth herein This\\npresent object made probation.\\n\\nMARCELLUS. It faded on the crowing of the cock. Some say that ever\\n’gainst that season comes Wherein our Saviour’s birth is celebrated,\\nThe bird of dawning singeth all night long; And then, they say, no\\nspirit dare stir abroad, The nights are wholesome, then no planets\\nstrike, No fairy takes, nor witch hath power to charm; So hallow’d and\\nso gracious is the time.\\n\\nHORATIO. So have I heard, and do in part believe it. But look, the morn\\nin russet mantle clad, Walks o’er the dew of yon high eastward hill.\\nBreak we our watch up, and by my advice, Let us impart what we have\\nseen tonight Unto young Hamlet; for upon my life, This spirit, dumb to\\nus, will speak to him. Do you consent we shall acquaint him with it, As\\nneedful in our loves, fitting our duty?\\n\\nMARCELLUS. Let’s do’t, I pray, and I this morning know Where we shall\\nfind him most conveniently.\\n\\n [_Exeunt._]\\n\\nSCENE II. Elsinore. A room of state in the Castle.\\n\\n Enter Claudius King of Denmark, Gertrude the Queen, Hamlet, Polonius,\\n Laertes, Voltemand, Cornelius, Lords and Attendant.\\n\\nKING. Though yet of Hamlet our dear brother’s death The memory be\\ngreen, and that it us befitted To bear our hearts in grief, and our\\nwhole kingdom To be contracted in one brow of woe; Yet so far hath\\ndiscretion fought with nature That we with wisest sorrow think on him,\\nTogether with remembrance of ourselves. Therefore our sometime sister,\\nnow our queen, Th’imperial jointress to this warlike state, Have we, as\\n’twere with a defeated joy, With one auspicious and one dropping eye,\\nWith mirth in funeral, and with dirge in marriage, In equal scale\\nweighing delight and dole, Taken to wife; nor have we herein barr’d\\nYour better wisdoms, which have freely gone With this affair along. For\\nall, our thanks. Now follows, that you know young Fortinbras, Holding a\\nweak supposal of our worth, Or thinking by our late dear brother’s\\ndeath Our state to be disjoint and out of frame, Colleagued with this\\ndream of his advantage, He hath not fail’d to pester us with message,\\nImporting the surrender of those lands Lost by his father, with all\\nbonds of law, To our most valiant brother. So much for him. Now for\\nourself and for this time of meeting: Thus much the business is: we\\nhave here writ To Norway, uncle of young Fortinbras, Who, impotent and\\nbed-rid, scarcely hears Of this his nephew’s purpose, to suppress His\\nfurther gait herein; in that the levies, The lists, and full\\nproportions are all made Out of his subject: and we here dispatch You,\\ngood Cornelius, and you, Voltemand, For bearers of this greeting to old\\nNorway, Giving to you no further personal power To business with the\\nKing, more than the scope Of these dilated articles allow. Farewell;\\nand let your haste commend your duty.\\n\\nCORNELIUS and VOLTEMAND. In that, and all things, will we show our\\nduty.\\n\\nKING. We doubt it nothing: heartily farewell.\\n\\n [_Exeunt Voltemand and Cornelius._]\\n\\nAnd now, Laertes, what’s the news with you? You told us of some suit.\\nWhat is’t, Laertes? You cannot speak of reason to the Dane, And lose\\nyour voice. What wouldst thou beg, Laertes, That shall not be my offer,\\nnot thy asking? The head is not more native to the heart, The hand more\\ninstrumental to the mouth, Than is the throne of Denmark to thy father.\\nWhat wouldst thou have, Laertes?\\n\\nLAERTES. Dread my lord, Your leave and favour to return to France, From\\nwhence though willingly I came to Denmark To show my duty in your\\ncoronation; Yet now I must confess, that duty done, My thoughts and\\nwishes bend again toward France, And bow them to your gracious leave\\nand pardon.\\n\\nKING. Have you your father’s leave? What says Polonius?\\n\\nPOLONIUS. He hath, my lord, wrung from me my slow leave By laboursome\\npetition; and at last Upon his will I seal’d my hard consent. I do\\nbeseech you give him leave to go.\\n\\nKING. Take thy fair hour, Laertes; time be thine, And thy best graces\\nspend it at thy will! But now, my cousin Hamlet, and my son—\\n\\nHAMLET. [_Aside._] A little more than kin, and less than kind.\\n\\nKING. How is it that the clouds still hang on you?\\n\\nHAMLET. Not so, my lord, I am too much i’ the sun.\\n\\nQUEEN. Good Hamlet, cast thy nighted colour off, And let thine eye look\\nlike a friend on Denmark. Do not for ever with thy vailed lids Seek for\\nthy noble father in the dust. Thou know’st ’tis common, all that lives\\nmust die, Passing through nature to eternity.\\n\\nHAMLET. Ay, madam, it is common.\\n\\nQUEEN. If it be, Why seems it so particular with thee?\\n\\nHAMLET. Seems, madam! Nay, it is; I know not seems. ’Tis not alone my\\ninky cloak, good mother, Nor customary suits of solemn black, Nor windy\\nsuspiration of forc’d breath, No, nor the fruitful river in the eye,\\nNor the dejected haviour of the visage, Together with all forms, moods,\\nshows of grief, That can denote me truly. These indeed seem, For they\\nare actions that a man might play; But I have that within which passeth\\nshow; These but the trappings and the suits of woe.\\n\\nKING. ’Tis sweet and commendable in your nature, Hamlet, To give these\\nmourning duties to your father; But you must know, your father lost a\\nfather, That father lost, lost his, and the survivor bound In filial\\nobligation, for some term To do obsequious sorrow. But to persevere In\\nobstinate condolement is a course Of impious stubbornness. ’Tis unmanly\\ngrief, It shows a will most incorrect to heaven, A heart unfortified, a\\nmind impatient, An understanding simple and unschool’d; For what we\\nknow must be, and is as common As any the most vulgar thing to sense,\\nWhy should we in our peevish opposition Take it to heart? Fie, ’tis a\\nfault to heaven, A fault against the dead, a fault to nature, To reason\\nmost absurd, whose common theme Is death of fathers, and who still hath\\ncried, From the first corse till he that died today, ‘This must be so.’\\nWe pray you throw to earth This unprevailing woe, and think of us As of\\na father; for let the world take note You are the most immediate to our\\nthrone, And with no less nobility of love Than that which dearest\\nfather bears his son Do I impart toward you. For your intent In going\\nback to school in Wittenberg, It is most retrograde to our desire: And\\nwe beseech you bend you to remain Here in the cheer and comfort of our\\neye, Our chiefest courtier, cousin, and our son.\\n\\nQUEEN. Let not thy mother lose her prayers, Hamlet. I pray thee stay\\nwith us; go not to Wittenberg.\\n\\nHAMLET. I shall in all my best obey you, madam.\\n\\nKING. Why, ’tis a loving and a fair reply. Be as ourself in Denmark.\\nMadam, come; This gentle and unforc’d accord of Hamlet Sits smiling to\\nmy heart; in grace whereof, No jocund health that Denmark drinks today\\nBut the great cannon to the clouds shall tell, And the King’s rouse the\\nheaven shall bruit again, Re-speaking earthly thunder. Come away.\\n\\n [_Exeunt all but Hamlet._]\\n\\nHAMLET. O that this too too solid flesh would melt, Thaw, and resolve\\nitself into a dew! Or that the Everlasting had not fix’d His canon\\n’gainst self-slaughter. O God! O God! How weary, stale, flat, and\\nunprofitable Seem to me all the uses of this world! Fie on’t! Oh fie!\\n’tis an unweeded garden That grows to seed; things rank and gross in\\nnature Possess it merely. That it should come to this! But two months\\ndead—nay, not so much, not two: So excellent a king; that was to this\\nHyperion to a satyr; so loving to my mother, That he might not beteem\\nthe winds of heaven Visit her face too roughly. Heaven and earth! Must\\nI remember? Why, she would hang on him As if increase of appetite had\\ngrown By what it fed on; and yet, within a month— Let me not think\\non’t—Frailty, thy name is woman! A little month, or ere those shoes\\nwere old With which she followed my poor father’s body Like Niobe, all\\ntears.—Why she, even she— O God! A beast that wants discourse of reason\\nWould have mourn’d longer,—married with mine uncle, My father’s\\nbrother; but no more like my father Than I to Hercules. Within a month?\\nEre yet the salt of most unrighteous tears Had left the flushing in her\\ngalled eyes, She married. O most wicked speed, to post With such\\ndexterity to incestuous sheets! It is not, nor it cannot come to good.\\nBut break my heart, for I must hold my tongue.\\n\\n Enter Horatio, Marcellus and Barnardo.\\n\\nHORATIO. Hail to your lordship!\\n\\nHAMLET. I am glad to see you well: Horatio, or I do forget myself.\\n\\nHORATIO. The same, my lord, And your poor servant ever.\\n\\nHAMLET. Sir, my good friend; I’ll change that name with you: And what\\nmake you from Wittenberg, Horatio?— Marcellus?\\n\\nMARCELLUS. My good lord.\\n\\nHAMLET. I am very glad to see you.—Good even, sir.— But what, in faith,\\nmake you from Wittenberg?\\n\\nHORATIO. A truant disposition, good my lord.\\n\\nHAMLET. I would not hear your enemy say so; Nor shall you do my ear\\nthat violence, To make it truster of your own report Against yourself.\\nI know you are no truant. But what is your affair in Elsinore? We’ll\\nteach you to drink deep ere you depart.\\n\\nHORATIO. My lord, I came to see your father’s funeral.\\n\\nHAMLET. I prithee do not mock me, fellow-student. I think it was to see\\nmy mother’s wedding.\\n\\nHORATIO. Indeed, my lord, it follow’d hard upon.\\n\\nHAMLET. Thrift, thrift, Horatio! The funeral bak’d meats Did coldly\\nfurnish forth the marriage tables. Would I had met my dearest foe in\\nheaven Or ever I had seen that day, Horatio. My father,—methinks I see\\nmy father.\\n\\nHORATIO. Where, my lord?\\n\\nHAMLET. In my mind’s eye, Horatio.\\n\\nHORATIO. I saw him once; he was a goodly king.\\n\\nHAMLET. He was a man, take him for all in all, I shall not look upon\\nhis like again.\\n\\nHORATIO. My lord, I think I saw him yesternight.\\n\\nHAMLET. Saw? Who?\\n\\nHORATIO. My lord, the King your father.\\n\\nHAMLET. The King my father!\\n\\nHORATIO. Season your admiration for a while With an attent ear, till I\\nmay deliver Upon the witness of these gentlemen This marvel to you.\\n\\nHAMLET. For God’s love let me hear.\\n\\nHORATIO. Two nights together had these gentlemen, Marcellus and\\nBarnardo, on their watch In the dead waste and middle of the night,\\nBeen thus encounter’d. A figure like your father, Armed at point\\nexactly, cap-à-pie, Appears before them, and with solemn march Goes\\nslow and stately by them: thrice he walk’d By their oppress’d and\\nfear-surprised eyes, Within his truncheon’s length; whilst they,\\ndistill’d Almost to jelly with the act of fear, Stand dumb, and speak\\nnot to him. This to me In dreadful secrecy impart they did, And I with\\nthem the third night kept the watch, Where, as they had deliver’d, both\\nin time, Form of the thing, each word made true and good, The\\napparition comes. I knew your father; These hands are not more like.\\n\\nHAMLET. But where was this?\\n\\nMARCELLUS. My lord, upon the platform where we watch.\\n\\nHAMLET. Did you not speak to it?\\n\\nHORATIO. My lord, I did; But answer made it none: yet once methought It\\nlifted up it head, and did address Itself to motion, like as it would\\nspeak. But even then the morning cock crew loud, And at the sound it\\nshrunk in haste away, And vanish’d from our sight.\\n\\nHAMLET. ’Tis very strange.\\n\\nHORATIO. As I do live, my honour’d lord, ’tis true; And we did think it\\nwrit down in our duty To let you know of it.\\n\\nHAMLET. Indeed, indeed, sirs, but this troubles me. Hold you the watch\\ntonight?\\n\\nMar. and BARNARDO. We do, my lord.\\n\\nHAMLET. Arm’d, say you?\\n\\nBoth. Arm’d, my lord.\\n\\nHAMLET. From top to toe?\\n\\nBOTH. My lord, from head to foot.\\n\\nHAMLET. Then saw you not his face?\\n\\nHORATIO. O yes, my lord, he wore his beaver up.\\n\\nHAMLET. What, look’d he frowningly?\\n\\nHORATIO. A countenance more in sorrow than in anger.\\n\\nHAMLET. Pale, or red?\\n\\nHORATIO. Nay, very pale.\\n\\nHAMLET. And fix’d his eyes upon you?\\n\\nHORATIO. Most constantly.\\n\\nHAMLET. I would I had been there.\\n\\nHORATIO. It would have much amaz’d you.\\n\\nHAMLET. Very like, very like. Stay’d it long?\\n\\nHORATIO. While one with moderate haste might tell a hundred.\\n\\nMARCELLUS and BARNARDO. Longer, longer.\\n\\nHORATIO. Not when I saw’t.\\n\\nHAMLET. His beard was grizzled, no?\\n\\nHORATIO. It was, as I have seen it in his life, A sable silver’d.\\n\\nHAMLET. I will watch tonight; Perchance ’twill walk again.\\n\\nHORATIO. I warrant you it will.\\n\\nHAMLET. If it assume my noble father’s person, I’ll speak to it, though\\nhell itself should gape And bid me hold my peace. I pray you all, If\\nyou have hitherto conceal’d this sight, Let it be tenable in your\\nsilence still; And whatsoever else shall hap tonight, Give it an\\nunderstanding, but no tongue. I will requite your loves. So, fare ye\\nwell. Upon the platform ’twixt eleven and twelve, I’ll visit you.\\n\\nALL. Our duty to your honour.\\n\\nHAMLET. Your loves, as mine to you: farewell.\\n\\n [_Exeunt Horatio, Marcellus and Barnardo._]\\n\\nMy father’s spirit in arms! All is not well; I doubt some foul play:\\nwould the night were come! Till then sit still, my soul: foul deeds\\nwill rise, Though all the earth o’erwhelm them, to men’s eyes.\\n\\n [_Exit._]\\n\\nSCENE III. A room in Polonius’s house.\\n\\n Enter Laertes and Ophelia.\\n\\nLAERTES. My necessaries are embark’d. Farewell. And, sister, as the\\nwinds give benefit And convoy is assistant, do not sleep, But let me\\nhear from you.\\n\\nOPHELIA. Do you doubt that?\\n\\nLAERTES. For Hamlet, and the trifling of his favour, Hold it a fashion\\nand a toy in blood; A violet in the youth of primy nature, Forward, not\\npermanent, sweet, not lasting; The perfume and suppliance of a minute;\\nNo more.\\n\\nOPHELIA. No more but so?\\n\\nLAERTES. Think it no more. For nature crescent does not grow alone In\\nthews and bulk; but as this temple waxes, The inward service of the\\nmind and soul Grows wide withal. Perhaps he loves you now, And now no\\nsoil nor cautel doth besmirch The virtue of his will; but you must\\nfear, His greatness weigh’d, his will is not his own; For he himself is\\nsubject to his birth: He may not, as unvalu’d persons do, Carve for\\nhimself; for on his choice depends The sanctity and health of this\\nwhole state; And therefore must his choice be circumscrib’d Unto the\\nvoice and yielding of that body Whereof he is the head. Then if he says\\nhe loves you, It fits your wisdom so far to believe it As he in his\\nparticular act and place May give his saying deed; which is no further\\nThan the main voice of Denmark goes withal. Then weigh what loss your\\nhonour may sustain If with too credent ear you list his songs, Or lose\\nyour heart, or your chaste treasure open To his unmaster’d importunity.\\nFear it, Ophelia, fear it, my dear sister; And keep you in the rear of\\nyour affection, Out of the shot and danger of desire. The chariest maid\\nis prodigal enough If she unmask her beauty to the moon. Virtue itself\\nscopes not calumnious strokes: The canker galls the infants of the\\nspring Too oft before their buttons be disclos’d, And in the morn and\\nliquid dew of youth Contagious blastments are most imminent. Be wary\\nthen, best safety lies in fear. Youth to itself rebels, though none\\nelse near.\\n\\nOPHELIA. I shall th’effect of this good lesson keep As watchman to my\\nheart. But good my brother, Do not as some ungracious pastors do, Show\\nme the steep and thorny way to heaven; Whilst like a puff’d and\\nreckless libertine Himself the primrose path of dalliance treads, And\\nrecks not his own rede.\\n\\nLAERTES. O, fear me not. I stay too long. But here my father comes.\\n\\n Enter Polonius.\\n\\nA double blessing is a double grace; Occasion smiles upon a second\\nleave.\\n\\nPOLONIUS. Yet here, Laertes? Aboard, aboard, for shame. The wind sits\\nin the shoulder of your sail, And you are stay’d for. There, my\\nblessing with you.\\n\\n [_Laying his hand on Laertes’s head._]\\n\\nAnd these few precepts in thy memory Look thou character. Give thy\\nthoughts no tongue, Nor any unproportion’d thought his act. Be thou\\nfamiliar, but by no means vulgar. Those friends thou hast, and their\\nadoption tried, Grapple them unto thy soul with hoops of steel; But do\\nnot dull thy palm with entertainment Of each new-hatch’d, unfledg’d\\ncomrade. Beware Of entrance to a quarrel; but being in, Bear’t that\\nth’opposed may beware of thee. Give every man thine ear, but few thy\\nvoice: Take each man’s censure, but reserve thy judgment. Costly thy\\nhabit as thy purse can buy, But not express’d in fancy; rich, not\\ngaudy: For the apparel oft proclaims the man; And they in France of the\\nbest rank and station Are of a most select and generous chief in that.\\nNeither a borrower nor a lender be: For loan oft loses both itself and\\nfriend; And borrowing dulls the edge of husbandry. This above all: to\\nthine own self be true; And it must follow, as the night the day, Thou\\ncanst not then be false to any man. Farewell: my blessing season this\\nin thee.\\n\\nLAERTES. Most humbly do I take my leave, my lord.\\n\\nPOLONIUS. The time invites you; go, your servants tend.\\n\\nLAERTES. Farewell, Ophelia, and remember well What I have said to you.\\n\\nOPHELIA. ’Tis in my memory lock’d, And you yourself shall keep the key\\nof it.\\n\\nLAERTES. Farewell.\\n\\n [_Exit._]\\n\\nPOLONIUS. What is’t, Ophelia, he hath said to you?\\n\\nOPHELIA. So please you, something touching the Lord Hamlet.\\n\\nPOLONIUS. Marry, well bethought: ’Tis told me he hath very oft of late\\nGiven private time to you; and you yourself Have of your audience been\\nmost free and bounteous. If it be so,—as so ’tis put on me, And that in\\nway of caution,—I must tell you You do not understand yourself so\\nclearly As it behoves my daughter and your honour. What is between you?\\nGive me up the truth.\\n\\nOPHELIA. He hath, my lord, of late made many tenders Of his affection\\nto me.\\n\\nPOLONIUS. Affection! Pooh! You speak like a green girl, Unsifted in\\nsuch perilous circumstance. Do you believe his tenders, as you call\\nthem?\\n\\nOPHELIA. I do not know, my lord, what I should think.\\n\\nPOLONIUS. Marry, I’ll teach you; think yourself a baby; That you have\\nta’en these tenders for true pay, Which are not sterling. Tender\\nyourself more dearly; Or,—not to crack the wind of the poor phrase,\\nRoaming it thus,—you’ll tender me a fool.\\n\\nOPHELIA. My lord, he hath importun’d me with love In honourable\\nfashion.\\n\\nPOLONIUS. Ay, fashion you may call it; go to, go to.\\n\\nOPHELIA. And hath given countenance to his speech, my lord, With almost\\nall the holy vows of heaven.\\n\\nPOLONIUS. Ay, springes to catch woodcocks. I do know, When the blood\\nburns, how prodigal the soul Lends the tongue vows: these blazes,\\ndaughter, Giving more light than heat, extinct in both, Even in their\\npromise, as it is a-making, You must not take for fire. From this time\\nBe something scanter of your maiden presence; Set your entreatments at\\na higher rate Than a command to parley. For Lord Hamlet, Believe so\\nmuch in him that he is young; And with a larger tether may he walk Than\\nmay be given you. In few, Ophelia, Do not believe his vows; for they\\nare brokers, Not of that dye which their investments show, But mere\\nimplorators of unholy suits, Breathing like sanctified and pious bawds,\\nThe better to beguile. This is for all. I would not, in plain terms,\\nfrom this time forth Have you so slander any moment leisure As to give\\nwords or talk with the Lord Hamlet. Look to’t, I charge you; come your\\nways.\\n\\nOPHELIA. I shall obey, my lord.\\n\\n [_Exeunt._]\\n\\nSCENE IV. The platform.\\n\\n Enter Hamlet, Horatio and Marcellus.\\n\\nHAMLET. The air bites shrewdly; it is very cold.\\n\\nHORATIO. It is a nipping and an eager air.\\n\\nHAMLET. What hour now?\\n\\nHORATIO. I think it lacks of twelve.\\n\\nMARCELLUS. No, it is struck.\\n\\nHORATIO. Indeed? I heard it not. It then draws near the season Wherein\\nthe spirit held his wont to walk.\\n\\n [_A flourish of trumpets, and ordnance shot off within._]\\n\\nWhat does this mean, my lord?\\n\\nHAMLET. The King doth wake tonight and takes his rouse, Keeps wassail,\\nand the swaggering upspring reels; And as he drains his draughts of\\nRhenish down, The kettle-drum and trumpet thus bray out The triumph of\\nhis pledge.\\n\\nHORATIO. Is it a custom?\\n\\nHAMLET. Ay marry is’t; And to my mind, though I am native here, And to\\nthe manner born, it is a custom More honour’d in the breach than the\\nobservance. This heavy-headed revel east and west Makes us traduc’d and\\ntax’d of other nations: They clepe us drunkards, and with swinish\\nphrase Soil our addition; and indeed it takes From our achievements,\\nthough perform’d at height, The pith and marrow of our attribute. So\\noft it chances in particular men That for some vicious mole of nature\\nin them, As in their birth, wherein they are not guilty, Since nature\\ncannot choose his origin, By their o’ergrowth of some complexion, Oft\\nbreaking down the pales and forts of reason; Or by some habit, that too\\nmuch o’erleavens The form of plausive manners;—that these men,\\nCarrying, I say, the stamp of one defect, Being Nature’s livery or\\nFortune’s star,— His virtues else,—be they as pure as grace, As\\ninfinite as man may undergo, Shall in the general censure take\\ncorruption From that particular fault. The dram of evil Doth all the\\nnoble substance often doubt To his own scandal.\\n\\nHORATIO. Look, my lord, it comes!\\n\\n Enter Ghost.\\n\\nHAMLET. Angels and ministers of grace defend us! Be thou a spirit of\\nhealth or goblin damn’d, Bring with thee airs from heaven or blasts\\nfrom hell, Be thy intents wicked or charitable, Thou com’st in such a\\nquestionable shape That I will speak to thee. I’ll call thee Hamlet,\\nKing, father, royal Dane. O, answer me! Let me not burst in ignorance;\\nbut tell Why thy canoniz’d bones, hearsed in death, Have burst their\\ncerements; why the sepulchre, Wherein we saw thee quietly inurn’d, Hath\\nop’d his ponderous and marble jaws To cast thee up again! What may this\\nmean, That thou, dead corse, again in complete steel, Revisit’st thus\\nthe glimpses of the moon, Making night hideous, and we fools of nature\\nSo horridly to shake our disposition With thoughts beyond the reaches\\nof our souls? Say, why is this? Wherefore? What should we do?\\n\\n [_Ghost beckons Hamlet._]\\n\\nHORATIO. It beckons you to go away with it, As if it some impartment\\ndid desire To you alone.\\n\\nMARCELLUS. Look with what courteous action It waves you to a more\\nremoved ground. But do not go with it.\\n\\nHORATIO. No, by no means.\\n\\nHAMLET. It will not speak; then will I follow it.\\n\\nHORATIO. Do not, my lord.\\n\\nHAMLET. Why, what should be the fear? I do not set my life at a pin’s\\nfee; And for my soul, what can it do to that, Being a thing immortal as\\nitself? It waves me forth again. I’ll follow it.\\n\\nHORATIO. What if it tempt you toward the flood, my lord, Or to the\\ndreadful summit of the cliff That beetles o’er his base into the sea,\\nAnd there assume some other horrible form Which might deprive your\\nsovereignty of reason, And draw you into madness? Think of it. The very\\nplace puts toys of desperation, Without more motive, into every brain\\nThat looks so many fadoms to the sea And hears it roar beneath.\\n\\nHAMLET. It waves me still. Go on, I’ll follow thee.\\n\\nMARCELLUS. You shall not go, my lord.\\n\\nHAMLET. Hold off your hands.\\n\\nHORATIO. Be rul’d; you shall not go.\\n\\nHAMLET. My fate cries out, And makes each petty artery in this body As\\nhardy as the Nemean lion’s nerve.\\n\\n [_Ghost beckons._]\\n\\nStill am I call’d. Unhand me, gentlemen.\\n\\n [_Breaking free from them._]\\n\\nBy heaven, I’ll make a ghost of him that lets me. I say, away!—Go on,\\nI’ll follow thee.\\n\\n [_Exeunt Ghost and Hamlet._]\\n\\nHORATIO. He waxes desperate with imagination.\\n\\nMARCELLUS. Let’s follow; ’tis not fit thus to obey him.\\n\\nHORATIO. Have after. To what issue will this come?\\n\\nMARCELLUS. Something is rotten in the state of Denmark.\\n\\nHORATIO. Heaven will direct it.\\n\\nMARCELLUS. Nay, let’s follow him.\\n\\n [_Exeunt._]\\n\\nSCENE V. A more remote part of the Castle.\\n\\n Enter Ghost and Hamlet.\\n\\nHAMLET. Whither wilt thou lead me? Speak, I’ll go no further.\\n\\nGHOST. Mark me.\\n\\nHAMLET. I will.\\n\\nGHOST. My hour is almost come, When I to sulph’rous and tormenting\\nflames Must render up myself.\\n\\nHAMLET. Alas, poor ghost!\\n\\nGHOST. Pity me not, but lend thy serious hearing To what I shall\\nunfold.\\n\\nHAMLET. Speak, I am bound to hear.\\n\\nGHOST. So art thou to revenge, when thou shalt hear.\\n\\nHAMLET. What?\\n\\nGHOST. I am thy father’s spirit, Doom’d for a certain term to walk the\\nnight, And for the day confin’d to fast in fires, Till the foul crimes\\ndone in my days of nature Are burnt and purg’d away. But that I am\\nforbid To tell the secrets of my prison-house, I could a tale unfold\\nwhose lightest word Would harrow up thy soul; freeze thy young blood,\\nMake thy two eyes like stars start from their spheres, Thy knotted and\\ncombined locks to part, And each particular hair to stand on end Like\\nquills upon the fretful porcupine. But this eternal blazon must not be\\nTo ears of flesh and blood. List, list, O, list! If thou didst ever thy\\ndear father love—\\n\\nHAMLET. O God!\\n\\nGHOST. Revenge his foul and most unnatural murder.\\n\\nHAMLET. Murder!\\n\\nGHOST. Murder most foul, as in the best it is; But this most foul,\\nstrange, and unnatural.\\n\\nHAMLET. Haste me to know’t, that I, with wings as swift As meditation\\nor the thoughts of love May sweep to my revenge.\\n\\nGHOST. I find thee apt; And duller shouldst thou be than the fat weed\\nThat rots itself in ease on Lethe wharf, Wouldst thou not stir in this.\\nNow, Hamlet, hear. ’Tis given out that, sleeping in my orchard, A\\nserpent stung me; so the whole ear of Denmark Is by a forged process of\\nmy death Rankly abus’d; but know, thou noble youth, The serpent that\\ndid sting thy father’s life Now wears his crown.\\n\\nHAMLET. O my prophetic soul! Mine uncle!\\n\\nGHOST. Ay, that incestuous, that adulterate beast, With witchcraft of\\nhis wit, with traitorous gifts,— O wicked wit, and gifts, that have the\\npower So to seduce!—won to his shameful lust The will of my most\\nseeming-virtuous queen. O Hamlet, what a falling off was there, From\\nme, whose love was of that dignity That it went hand in hand even with\\nthe vow I made to her in marriage; and to decline Upon a wretch whose\\nnatural gifts were poor To those of mine. But virtue, as it never will\\nbe mov’d, Though lewdness court it in a shape of heaven; So lust,\\nthough to a radiant angel link’d, Will sate itself in a celestial bed\\nAnd prey on garbage. But soft! methinks I scent the morning air; Brief\\nlet me be. Sleeping within my orchard, My custom always of the\\nafternoon, Upon my secure hour thy uncle stole With juice of cursed\\nhebenon in a vial, And in the porches of my ears did pour The leperous\\ndistilment, whose effect Holds such an enmity with blood of man That\\nswift as quicksilver it courses through The natural gates and alleys of\\nthe body; And with a sudden vigour it doth posset And curd, like eager\\ndroppings into milk, The thin and wholesome blood. So did it mine; And\\na most instant tetter bark’d about, Most lazar-like, with vile and\\nloathsome crust All my smooth body. Thus was I, sleeping, by a\\nbrother’s hand, Of life, of crown, of queen at once dispatch’d: Cut off\\neven in the blossoms of my sin, Unhous’led, disappointed, unanel’d; No\\nreckoning made, but sent to my account With all my imperfections on my\\nhead. O horrible! O horrible! most horrible! If thou hast nature in\\nthee, bear it not; Let not the royal bed of Denmark be A couch for\\nluxury and damned incest. But howsoever thou pursu’st this act, Taint\\nnot thy mind, nor let thy soul contrive Against thy mother aught; leave\\nher to heaven, And to those thorns that in her bosom lodge, To prick\\nand sting her. Fare thee well at once! The glow-worm shows the matin to\\nbe near, And ’gins to pale his uneffectual fire. Adieu, adieu, adieu.\\nHamlet, remember me.\\n\\n [_Exit._]\\n\\nHAMLET. O all you host of heaven! O earth! What else? And shall I\\ncouple hell? O, fie! Hold, my heart; And you, my sinews, grow not\\ninstant old, But bear me stiffly up. Remember thee? Ay, thou poor\\nghost, while memory holds a seat In this distracted globe. Remember\\nthee? Yea, from the table of my memory I’ll wipe away all trivial fond\\nrecords, All saws of books, all forms, all pressures past, That youth\\nand observation copied there; And thy commandment all alone shall live\\nWithin the book and volume of my brain, Unmix’d with baser matter. Yes,\\nby heaven! O most pernicious woman! O villain, villain, smiling damned\\nvillain! My tables. Meet it is I set it down, That one may smile, and\\nsmile, and be a villain! At least I am sure it may be so in Denmark.\\n\\n [_Writing._]\\n\\nSo, uncle, there you are. Now to my word; It is ‘Adieu, adieu, remember\\nme.’ I have sworn’t.\\n\\nHORATIO and MARCELLUS. [_Within._] My lord, my lord.\\n\\nMARCELLUS. [_Within._] Lord Hamlet.\\n\\nHORATIO. [_Within._] Heaven secure him.\\n\\nHAMLET. So be it!\\n\\nMARCELLUS. [_Within._] Illo, ho, ho, my lord!\\n\\nHAMLET. Hillo, ho, ho, boy! Come, bird, come.\\n\\n Enter Horatio and Marcellus.\\n\\nMARCELLUS. How is’t, my noble lord?\\n\\nHORATIO. What news, my lord?\\n\\nHAMLET. O, wonderful!\\n\\nHORATIO. Good my lord, tell it.\\n\\nHAMLET. No, you’ll reveal it.\\n\\nHORATIO. Not I, my lord, by heaven.\\n\\nMARCELLUS. Nor I, my lord.\\n\\nHAMLET. How say you then, would heart of man once think it?— But you’ll\\nbe secret?\\n\\nHORATIO and MARCELLUS. Ay, by heaven, my lord.\\n\\nHAMLET. There’s ne’er a villain dwelling in all Denmark But he’s an\\narrant knave.\\n\\nHORATIO. There needs no ghost, my lord, come from the grave To tell us\\nthis.\\n\\nHAMLET. Why, right; you are i’ the right; And so, without more\\ncircumstance at all, I hold it fit that we shake hands and part: You,\\nas your business and desires shall point you,— For every man hath\\nbusiness and desire, Such as it is;—and for my own poor part, Look you,\\nI’ll go pray.\\n\\nHORATIO. These are but wild and whirling words, my lord.\\n\\nHAMLET. I’m sorry they offend you, heartily; Yes faith, heartily.\\n\\nHORATIO. There’s no offence, my lord.\\n\\nHAMLET. Yes, by Saint Patrick, but there is, Horatio, And much offence\\ntoo. Touching this vision here, It is an honest ghost, that let me tell\\nyou. For your desire to know what is between us, O’ermaster’t as you\\nmay. And now, good friends, As you are friends, scholars, and soldiers,\\nGive me one poor request.\\n\\nHORATIO. What is’t, my lord? We will.\\n\\nHAMLET. Never make known what you have seen tonight.\\n\\nHORATIO and MARCELLUS. My lord, we will not.\\n\\nHAMLET. Nay, but swear’t.\\n\\nHORATIO. In faith, my lord, not I.\\n\\nMARCELLUS. Nor I, my lord, in faith.\\n\\nHAMLET. Upon my sword.\\n\\nMARCELLUS. We have sworn, my lord, already.\\n\\nHAMLET. Indeed, upon my sword, indeed.\\n\\nGHOST. [_Cries under the stage._] Swear.\\n\\nHAMLET. Ha, ha boy, say’st thou so? Art thou there, truepenny? Come on,\\nyou hear this fellow in the cellarage. Consent to swear.\\n\\nHORATIO. Propose the oath, my lord.\\n\\nHAMLET. Never to speak of this that you have seen. Swear by my sword.\\n\\nGHOST. [_Beneath._] Swear.\\n\\nHAMLET. _Hic et ubique?_ Then we’ll shift our ground. Come hither,\\ngentlemen, And lay your hands again upon my sword. Never to speak of\\nthis that you have heard. Swear by my sword.\\n\\nGHOST. [_Beneath._] Swear.\\n\\nHAMLET. Well said, old mole! Canst work i’ th’earth so fast? A worthy\\npioner! Once more remove, good friends.\\n\\nHORATIO. O day and night, but this is wondrous strange.\\n\\nHAMLET. And therefore as a stranger give it welcome. There are more\\nthings in heaven and earth, Horatio, Than are dreamt of in your\\nphilosophy. But come, Here, as before, never, so help you mercy, How\\nstrange or odd soe’er I bear myself,— As I perchance hereafter shall\\nthink meet To put an antic disposition on— That you, at such times\\nseeing me, never shall, With arms encumber’d thus, or this head-shake,\\nOr by pronouncing of some doubtful phrase, As ‘Well, we know’, or ‘We\\ncould and if we would’, Or ‘If we list to speak’; or ‘There be and if\\nthey might’, Or such ambiguous giving out, to note That you know aught\\nof me:—this not to do. So grace and mercy at your most need help you,\\nSwear.\\n\\nGHOST. [_Beneath._] Swear.\\n\\nHAMLET. Rest, rest, perturbed spirit. So, gentlemen, With all my love I\\ndo commend me to you; And what so poor a man as Hamlet is May do\\nt’express his love and friending to you, God willing, shall not lack.\\nLet us go in together, And still your fingers on your lips, I pray. The\\ntime is out of joint. O cursed spite, That ever I was born to set it\\nright. Nay, come, let’s go together.\\n\\n [_Exeunt._]\\n\\n\\n\\nACT II\\n\\nSCENE I. A room in Polonius’s house.\\n\\n Enter Polonius and Reynaldo.\\n\\nPOLONIUS. Give him this money and these notes, Reynaldo.\\n\\nREYNALDO. I will, my lord.\\n\\nPOLONIUS. You shall do marvellous wisely, good Reynaldo, Before you\\nvisit him, to make inquiry Of his behaviour.\\n\\nREYNALDO. My lord, I did intend it.\\n\\nPOLONIUS. Marry, well said; very well said. Look you, sir, Enquire me\\nfirst what Danskers are in Paris; And how, and who, what means, and\\nwhere they keep, What company, at what expense; and finding By this\\nencompassment and drift of question, That they do know my son, come you\\nmore nearer Than your particular demands will touch it. Take you as\\n’twere some distant knowledge of him, As thus, ‘I know his father and\\nhis friends, And in part him’—do you mark this, Reynaldo?\\n\\nREYNALDO. Ay, very well, my lord.\\n\\nPOLONIUS. ‘And in part him, but,’ you may say, ‘not well; But if’t be\\nhe I mean, he’s very wild; Addicted so and so;’ and there put on him\\nWhat forgeries you please; marry, none so rank As may dishonour him;\\ntake heed of that; But, sir, such wanton, wild, and usual slips As are\\ncompanions noted and most known To youth and liberty.\\n\\nREYNALDO. As gaming, my lord?\\n\\nPOLONIUS. Ay, or drinking, fencing, swearing, Quarrelling, drabbing.\\nYou may go so far.\\n\\nREYNALDO. My lord, that would dishonour him.\\n\\nPOLONIUS. Faith no, as you may season it in the charge. You must not\\nput another scandal on him, That he is open to incontinency; That’s not\\nmy meaning: but breathe his faults so quaintly That they may seem the\\ntaints of liberty; The flash and outbreak of a fiery mind, A savageness\\nin unreclaimed blood, Of general assault.\\n\\nREYNALDO. But my good lord—\\n\\nPOLONIUS. Wherefore should you do this?\\n\\nREYNALDO. Ay, my lord, I would know that.\\n\\nPOLONIUS. Marry, sir, here’s my drift, And I believe it is a fetch of\\nwarrant. You laying these slight sullies on my son, As ’twere a thing a\\nlittle soil’d i’ th’ working, Mark you, Your party in converse, him you\\nwould sound, Having ever seen in the prenominate crimes The youth you\\nbreathe of guilty, be assur’d He closes with you in this consequence;\\n‘Good sir,’ or so; or ‘friend,’ or ‘gentleman’— According to the phrase\\nor the addition Of man and country.\\n\\nREYNALDO. Very good, my lord.\\n\\nPOLONIUS. And then, sir, does he this,— He does—What was I about to\\nsay? By the mass, I was about to say something. Where did I leave?\\n\\nREYNALDO. At ‘closes in the consequence.’ At ‘friend or so,’ and\\n‘gentleman.’\\n\\nPOLONIUS. At ‘closes in the consequence’ ay, marry! He closes with you\\nthus: ‘I know the gentleman, I saw him yesterday, or t’other day, Or\\nthen, or then, with such and such; and, as you say, There was he\\ngaming, there o’ertook in’s rouse, There falling out at tennis’: or\\nperchance, ‘I saw him enter such a house of sale’— _Videlicet_, a\\nbrothel, or so forth. See you now; Your bait of falsehood takes this\\ncarp of truth; And thus do we of wisdom and of reach, With windlasses,\\nand with assays of bias, By indirections find directions out. So by my\\nformer lecture and advice Shall you my son. You have me, have you not?\\n\\nREYNALDO. My lord, I have.\\n\\nPOLONIUS. God b’ wi’ you, fare you well.\\n\\nREYNALDO. Good my lord.\\n\\nPOLONIUS. Observe his inclination in yourself.\\n\\nREYNALDO. I shall, my lord.\\n\\nPOLONIUS. And let him ply his music.\\n\\nREYNALDO. Well, my lord.\\n\\nPOLONIUS. Farewell.\\n\\n [_Exit Reynaldo._]\\n\\n Enter Ophelia.\\n\\nHow now, Ophelia, what’s the matter?\\n\\nOPHELIA. Alas, my lord, I have been so affrighted.\\n\\nPOLONIUS. With what, in the name of God?\\n\\nOPHELIA. My lord, as I was sewing in my chamber, Lord Hamlet, with his\\ndoublet all unbrac’d, No hat upon his head, his stockings foul’d,\\nUngart’red, and down-gyved to his ankle, Pale as his shirt, his knees\\nknocking each other, And with a look so piteous in purport As if he had\\nbeen loosed out of hell To speak of horrors, he comes before me.\\n\\nPOLONIUS. Mad for thy love?\\n\\nOPHELIA. My lord, I do not know, but truly I do fear it.\\n\\nPOLONIUS. What said he?\\n\\nOPHELIA. He took me by the wrist and held me hard; Then goes he to the\\nlength of all his arm; And with his other hand thus o’er his brow, He\\nfalls to such perusal of my face As he would draw it. Long stay’d he\\nso, At last,—a little shaking of mine arm, And thrice his head thus\\nwaving up and down, He rais’d a sigh so piteous and profound As it did\\nseem to shatter all his bulk And end his being. That done, he lets me\\ngo, And with his head over his shoulder turn’d He seem’d to find his\\nway without his eyes, For out o’ doors he went without their help, And\\nto the last bended their light on me.\\n\\nPOLONIUS. Come, go with me. I will go seek the King. This is the very\\necstasy of love, Whose violent property fordoes itself, And leads the\\nwill to desperate undertakings, As oft as any passion under heaven That\\ndoes afflict our natures. I am sorry,— What, have you given him any\\nhard words of late?\\n\\nOPHELIA. No, my good lord; but as you did command, I did repel his\\nletters and denied His access to me.\\n\\nPOLONIUS. That hath made him mad. I am sorry that with better heed and\\njudgment I had not quoted him. I fear’d he did but trifle, And meant to\\nwreck thee. But beshrew my jealousy! It seems it is as proper to our\\nage To cast beyond ourselves in our opinions As it is common for the\\nyounger sort To lack discretion. Come, go we to the King. This must be\\nknown, which, being kept close, might move More grief to hide than hate\\nto utter love.\\n\\n [_Exeunt._]\\n\\nSCENE II. A room in the Castle.\\n\\n Enter King, Queen, Rosencrantz, Guildenstern and Attendants.\\n\\nKING. Welcome, dear Rosencrantz and Guildenstern. Moreover that we much\\ndid long to see you, The need we have to use you did provoke Our hasty\\nsending. Something have you heard Of Hamlet’s transformation; so I call\\nit, Since nor th’exterior nor the inward man Resembles that it was.\\nWhat it should be, More than his father’s death, that thus hath put him\\nSo much from th’understanding of himself, I cannot dream of. I entreat\\nyou both That, being of so young days brought up with him, And since so\\nneighbour’d to his youth and humour, That you vouchsafe your rest here\\nin our court Some little time, so by your companies To draw him on to\\npleasures and to gather, So much as from occasion you may glean,\\nWhether aught to us unknown afflicts him thus That, open’d, lies within\\nour remedy.\\n\\nQUEEN. Good gentlemen, he hath much talk’d of you, And sure I am, two\\nmen there are not living To whom he more adheres. If it will please you\\nTo show us so much gentry and good will As to expend your time with us\\nawhile, For the supply and profit of our hope, Your visitation shall\\nreceive such thanks As fits a king’s remembrance.\\n\\nROSENCRANTZ. Both your majesties Might, by the sovereign power you have\\nof us, Put your dread pleasures more into command Than to entreaty.\\n\\nGUILDENSTERN. We both obey, And here give up ourselves, in the full\\nbent, To lay our service freely at your feet To be commanded.\\n\\nKING. Thanks, Rosencrantz and gentle Guildenstern.\\n\\nQUEEN. Thanks, Guildenstern and gentle Rosencrantz. And I beseech you\\ninstantly to visit My too much changed son. Go, some of you, And bring\\nthese gentlemen where Hamlet is.\\n\\nGUILDENSTERN. Heavens make our presence and our practices Pleasant and\\nhelpful to him.\\n\\nQUEEN. Ay, amen.\\n\\n [_Exeunt Rosencrantz, Guildenstern and some Attendants._]\\n\\n Enter Polonius.\\n\\nPOLONIUS. Th’ambassadors from Norway, my good lord, Are joyfully\\nreturn’d.\\n\\nKING. Thou still hast been the father of good news.\\n\\nPOLONIUS. Have I, my lord? Assure you, my good liege, I hold my duty,\\nas I hold my soul, Both to my God and to my gracious King: And I do\\nthink,—or else this brain of mine Hunts not the trail of policy so sure\\nAs it hath us’d to do—that I have found The very cause of Hamlet’s\\nlunacy.\\n\\nKING. O speak of that, that do I long to hear.\\n\\nPOLONIUS. Give first admittance to th’ambassadors; My news shall be the\\nfruit to that great feast.\\n\\nKING. Thyself do grace to them, and bring them in.\\n\\n [_Exit Polonius._]\\n\\nHe tells me, my sweet queen, that he hath found The head and source of\\nall your son’s distemper.\\n\\nQUEEN. I doubt it is no other but the main, His father’s death and our\\no’erhasty marriage.\\n\\nKING. Well, we shall sift him.\\n\\n Enter Polonius with Voltemand and Cornelius.\\n\\nWelcome, my good friends! Say, Voltemand, what from our brother Norway?\\n\\nVOLTEMAND. Most fair return of greetings and desires. Upon our first,\\nhe sent out to suppress His nephew’s levies, which to him appear’d To\\nbe a preparation ’gainst the Polack; But better look’d into, he truly\\nfound It was against your Highness; whereat griev’d, That so his\\nsickness, age, and impotence Was falsely borne in hand, sends out\\narrests On Fortinbras; which he, in brief, obeys, Receives rebuke from\\nNorway; and in fine, Makes vow before his uncle never more To give\\nth’assay of arms against your Majesty. Whereon old Norway, overcome\\nwith joy, Gives him three thousand crowns in annual fee, And his\\ncommission to employ those soldiers So levied as before, against the\\nPolack: With an entreaty, herein further shown, [_Gives a paper._] That\\nit might please you to give quiet pass Through your dominions for this\\nenterprise, On such regards of safety and allowance As therein are set\\ndown.\\n\\nKING. It likes us well; And at our more consider’d time we’ll read,\\nAnswer, and think upon this business. Meantime we thank you for your\\nwell-took labour. Go to your rest, at night we’ll feast together:. Most\\nwelcome home.\\n\\n [_Exeunt Voltemand and Cornelius._]\\n\\nPOLONIUS. This business is well ended. My liege and madam, to\\nexpostulate What majesty should be, what duty is, Why day is day, night\\nnight, and time is time. Were nothing but to waste night, day and time.\\nTherefore, since brevity is the soul of wit, And tediousness the limbs\\nand outward flourishes, I will be brief. Your noble son is mad. Mad\\ncall I it; for to define true madness, What is’t but to be nothing else\\nbut mad? But let that go.\\n\\nQUEEN. More matter, with less art.\\n\\nPOLONIUS. Madam, I swear I use no art at all. That he is mad, ’tis\\ntrue: ’tis true ’tis pity; And pity ’tis ’tis true. A foolish figure,\\nBut farewell it, for I will use no art. Mad let us grant him then. And\\nnow remains That we find out the cause of this effect, Or rather say,\\nthe cause of this defect, For this effect defective comes by cause.\\nThus it remains, and the remainder thus. Perpend, I have a\\ndaughter—have whilst she is mine— Who in her duty and obedience, mark,\\nHath given me this. Now gather, and surmise. [_Reads._] _To the\\ncelestial, and my soul’s idol, the most beautified Ophelia_— That’s an\\nill phrase, a vile phrase; ‘beautified’ is a vile phrase: but you shall\\nhear. [_Reads._] _these; in her excellent white bosom, these, &c._\\n\\nQUEEN. Came this from Hamlet to her?\\n\\nPOLONIUS. Good madam, stay awhile; I will be faithful. [_Reads._]\\n_Doubt thou the stars are fire, Doubt that the sun doth move, Doubt\\ntruth to be a liar, But never doubt I love. O dear Ophelia, I am ill at\\nthese numbers. I have not art to reckon my groans. But that I love thee\\nbest, O most best, believe it. Adieu. Thine evermore, most dear lady,\\nwhilst this machine is to him, HAMLET._ This in obedience hath my\\ndaughter show’d me; And more above, hath his solicitings, As they fell\\nout by time, by means, and place, All given to mine ear.\\n\\nKING. But how hath she receiv’d his love?\\n\\nPOLONIUS. What do you think of me?\\n\\nKING. As of a man faithful and honourable.\\n\\nPOLONIUS. I would fain prove so. But what might you think, When I had\\nseen this hot love on the wing, As I perceiv’d it, I must tell you\\nthat, Before my daughter told me, what might you, Or my dear Majesty\\nyour queen here, think, If I had play’d the desk or table-book, Or\\ngiven my heart a winking, mute and dumb, Or look’d upon this love with\\nidle sight, What might you think? No, I went round to work, And my\\nyoung mistress thus I did bespeak: ‘Lord Hamlet is a prince, out of thy\\nstar. This must not be.’ And then I precepts gave her, That she should\\nlock herself from his resort, Admit no messengers, receive no tokens.\\nWhich done, she took the fruits of my advice, And he, repulsed,—a short\\ntale to make— Fell into a sadness, then into a fast, Thence to a watch,\\nthence into a weakness, Thence to a lightness, and, by this declension,\\nInto the madness wherein now he raves, And all we wail for.\\n\\nKING. Do you think ’tis this?\\n\\nQUEEN. It may be, very likely.\\n\\nPOLONIUS. Hath there been such a time, I’d fain know that, That I have\\npositively said ‘’Tis so,’ When it prov’d otherwise?\\n\\nKING. Not that I know.\\n\\nPOLONIUS. Take this from this, if this be otherwise. [_Points to his\\nhead and shoulder._] If circumstances lead me, I will find Where truth\\nis hid, though it were hid indeed Within the centre.\\n\\nKING. How may we try it further?\\n\\nPOLONIUS. You know sometimes he walks four hours together Here in the\\nlobby.\\n\\nQUEEN. So he does indeed.\\n\\nPOLONIUS. At such a time I’ll loose my daughter to him. Be you and I\\nbehind an arras then, Mark the encounter. If he love her not, And be\\nnot from his reason fall’n thereon, Let me be no assistant for a state,\\nBut keep a farm and carters.\\n\\nKING. We will try it.\\n\\n Enter Hamlet, reading.\\n\\nQUEEN. But look where sadly the poor wretch comes reading.\\n\\nPOLONIUS. Away, I do beseech you, both away I’ll board him presently.\\nO, give me leave.\\n\\n [_Exeunt King, Queen and Attendants._]\\n\\nHow does my good Lord Hamlet?\\n\\nHAMLET. Well, God-a-mercy.\\n\\nPOLONIUS. Do you know me, my lord?\\n\\nHAMLET. Excellent well. You’re a fishmonger.\\n\\nPOLONIUS. Not I, my lord.\\n\\nHAMLET. Then I would you were so honest a man.\\n\\nPOLONIUS. Honest, my lord?\\n\\nHAMLET. Ay sir, to be honest, as this world goes, is to be one man\\npicked out of ten thousand.\\n\\nPOLONIUS. That’s very true, my lord.\\n\\nHAMLET. For if the sun breed maggots in a dead dog, being a good\\nkissing carrion,— Have you a daughter?\\n\\nPOLONIUS. I have, my lord.\\n\\nHAMLET. Let her not walk i’ th’ sun. Conception is a blessing, but not\\nas your daughter may conceive. Friend, look to’t.\\n\\nPOLONIUS. How say you by that? [_Aside._] Still harping on my daughter.\\nYet he knew me not at first; he said I was a fishmonger. He is far\\ngone, far gone. And truly in my youth I suffered much extremity for\\nlove; very near this. I’ll speak to him again.—What do you read, my\\nlord?\\n\\nHAMLET. Words, words, words.\\n\\nPOLONIUS. What is the matter, my lord?\\n\\nHAMLET. Between who?\\n\\nPOLONIUS. I mean the matter that you read, my lord.\\n\\nHAMLET. Slanders, sir. For the satirical slave says here that old men\\nhave grey beards; that their faces are wrinkled; their eyes purging\\nthick amber and plum-tree gum; and that they have a plentiful lack of\\nwit, together with most weak hams. All which, sir, though I most\\npowerfully and potently believe, yet I hold it not honesty to have it\\nthus set down. For you yourself, sir, should be old as I am, if like a\\ncrab you could go backward.\\n\\nPOLONIUS. [_Aside._] Though this be madness, yet there is a method\\nin’t.— Will you walk out of the air, my lord?\\n\\nHAMLET. Into my grave?\\n\\nPOLONIUS. Indeed, that is out o’ the air. [_Aside._] How pregnant\\nsometimes his replies are! A happiness that often madness hits on,\\nwhich reason and sanity could not so prosperously be delivered of. I\\nwill leave him and suddenly contrive the means of meeting between him\\nand my daughter. My honourable lord, I will most humbly take my leave\\nof you.\\n\\nHAMLET. You cannot, sir, take from me anything that I will more\\nwillingly part withal, except my life, except my life, except my life.\\n\\nPOLONIUS. Fare you well, my lord.\\n\\nHAMLET. These tedious old fools.\\n\\n Enter Rosencrantz and Guildenstern.\\n\\nPOLONIUS. You go to seek the Lord Hamlet; there he is.\\n\\nROSENCRANTZ. [_To Polonius._] God save you, sir.\\n\\n [_Exit Polonius._]\\n\\nGUILDENSTERN. My honoured lord!\\n\\nROSENCRANTZ. My most dear lord!\\n\\nHAMLET. My excellent good friends! How dost thou, Guildenstern? Ah,\\nRosencrantz. Good lads, how do ye both?\\n\\nROSENCRANTZ. As the indifferent children of the earth.\\n\\nGUILDENSTERN. Happy in that we are not over-happy; On Fortune’s cap we\\nare not the very button.\\n\\nHAMLET. Nor the soles of her shoe?\\n\\nROSENCRANTZ. Neither, my lord.\\n\\nHAMLET. Then you live about her waist, or in the middle of her favours?\\n\\nGUILDENSTERN. Faith, her privates we.\\n\\nHAMLET. In the secret parts of Fortune? O, most true; she is a\\nstrumpet. What’s the news?\\n\\nROSENCRANTZ. None, my lord, but that the world’s grown honest.\\n\\nHAMLET. Then is doomsday near. But your news is not true. Let me\\nquestion more in particular. What have you, my good friends, deserved\\nat the hands of Fortune, that she sends you to prison hither?\\n\\nGUILDENSTERN. Prison, my lord?\\n\\nHAMLET. Denmark’s a prison.\\n\\nROSENCRANTZ. Then is the world one.\\n\\nHAMLET. A goodly one; in which there are many confines, wards, and\\ndungeons, Denmark being one o’ th’ worst.\\n\\nROSENCRANTZ. We think not so, my lord.\\n\\nHAMLET. Why, then ’tis none to you; for there is nothing either good or\\nbad but thinking makes it so. To me it is a prison.\\n\\nROSENCRANTZ. Why, then your ambition makes it one; ’tis too narrow for\\nyour mind.\\n\\nHAMLET. O God, I could be bounded in a nutshell, and count myself a\\nking of infinite space, were it not that I have bad dreams.\\n\\nGUILDENSTERN. Which dreams, indeed, are ambition; for the very\\nsubstance of the ambitious is merely the shadow of a dream.\\n\\nHAMLET. A dream itself is but a shadow.\\n\\nROSENCRANTZ. Truly, and I hold ambition of so airy and light a quality\\nthat it is but a shadow’s shadow.\\n\\nHAMLET. Then are our beggars bodies, and our monarchs and outstretch’d\\nheroes the beggars’ shadows. Shall we to th’ court? For, by my fay, I\\ncannot reason.\\n\\nROSENCRANTZ and GUILDENSTERN. We’ll wait upon you.\\n\\nHAMLET. No such matter. I will not sort you with the rest of my\\nservants; for, to speak to you like an honest man, I am most dreadfully\\nattended. But, in the beaten way of friendship, what make you at\\nElsinore?\\n\\nROSENCRANTZ. To visit you, my lord, no other occasion.\\n\\nHAMLET. Beggar that I am, I am even poor in thanks; but I thank you.\\nAnd sure, dear friends, my thanks are too dear a halfpenny. Were you\\nnot sent for? Is it your own inclining? Is it a free visitation? Come,\\ndeal justly with me. Come, come; nay, speak.\\n\\nGUILDENSTERN. What should we say, my lord?\\n\\nHAMLET. Why, anything. But to the purpose. You were sent for; and there\\nis a kind of confession in your looks, which your modesties have not\\ncraft enough to colour. I know the good King and Queen have sent for\\nyou.\\n\\nROSENCRANTZ. To what end, my lord?\\n\\nHAMLET. That you must teach me. But let me conjure you, by the rights\\nof our fellowship, by the consonancy of our youth, by the obligation of\\nour ever-preserved love, and by what more dear a better proposer could\\ncharge you withal, be even and direct with me, whether you were sent\\nfor or no.\\n\\nROSENCRANTZ. [_To Guildenstern._] What say you?\\n\\nHAMLET. [_Aside._] Nay, then I have an eye of you. If you love me, hold\\nnot off.\\n\\nGUILDENSTERN. My lord, we were sent for.\\n\\nHAMLET. I will tell you why; so shall my anticipation prevent your\\ndiscovery, and your secrecy to the King and Queen moult no feather. I\\nhave of late, but wherefore I know not, lost all my mirth, forgone all\\ncustom of exercises; and indeed, it goes so heavily with my disposition\\nthat this goodly frame the earth, seems to me a sterile promontory;\\nthis most excellent canopy the air, look you, this brave o’erhanging\\nfirmament, this majestical roof fretted with golden fire, why, it\\nappears no other thing to me than a foul and pestilent congregation of\\nvapours. What a piece of work is man! How noble in reason? How infinite\\nin faculties, in form and moving, how express and admirable? In action\\nhow like an angel? In apprehension, how like a god? The beauty of the\\nworld, the paragon of animals. And yet, to me, what is this\\nquintessence of dust? Man delights not me; no, nor woman neither,\\nthough by your smiling you seem to say so.\\n\\nROSENCRANTZ. My lord, there was no such stuff in my thoughts.\\n\\nHAMLET. Why did you laugh then, when I said ‘Man delights not me’?\\n\\nROSENCRANTZ. To think, my lord, if you delight not in man, what Lenten\\nentertainment the players shall receive from you. We coted them on the\\nway, and hither are they coming to offer you service.\\n\\nHAMLET. He that plays the king shall be welcome,—his Majesty shall have\\ntribute of me; the adventurous knight shall use his foil and target;\\nthe lover shall not sigh gratis, the humorous man shall end his part in\\npeace; the clown shall make those laugh whose lungs are tickle a’ th’\\nsere; and the lady shall say her mind freely, or the blank verse shall\\nhalt for’t. What players are they?\\n\\nROSENCRANTZ. Even those you were wont to take such delight in—the\\ntragedians of the city.\\n\\nHAMLET. How chances it they travel? Their residence, both in reputation\\nand profit, was better both ways.\\n\\nROSENCRANTZ. I think their inhibition comes by the means of the late\\ninnovation.\\n\\nHAMLET. Do they hold the same estimation they did when I was in the\\ncity? Are they so followed?\\n\\nROSENCRANTZ. No, indeed, they are not.\\n\\nHAMLET. How comes it? Do they grow rusty?\\n\\nROSENCRANTZ. Nay, their endeavour keeps in the wonted pace; but there\\nis, sir, an ayry of children, little eyases, that cry out on the top of\\nquestion, and are most tyrannically clapped for’t. These are now the\\nfashion, and so berattle the common stages—so they call them—that many\\nwearing rapiers are afraid of goose-quills and dare scarce come\\nthither.\\n\\nHAMLET. What, are they children? Who maintains ’em? How are they\\nescoted? Will they pursue the quality no longer than they can sing?\\nWill they not say afterwards, if they should grow themselves to common\\nplayers—as it is most like, if their means are no better—their writers\\ndo them wrong to make them exclaim against their own succession?\\n\\nROSENCRANTZ. Faith, there has been much to do on both sides; and the\\nnation holds it no sin to tarre them to controversy. There was for a\\nwhile, no money bid for argument unless the poet and the player went to\\ncuffs in the question.\\n\\nHAMLET. Is’t possible?\\n\\nGUILDENSTERN. O, there has been much throwing about of brains.\\n\\nHAMLET. Do the boys carry it away?\\n\\nROSENCRANTZ. Ay, that they do, my lord. Hercules and his load too.\\n\\nHAMLET. It is not very strange; for my uncle is King of Denmark, and\\nthose that would make mouths at him while my father lived, give twenty,\\nforty, fifty, a hundred ducats apiece for his picture in little.\\n’Sblood, there is something in this more than natural, if philosophy\\ncould find it out.\\n\\n [_Flourish of trumpets within._]\\n\\nGUILDENSTERN. There are the players.\\n\\nHAMLET. Gentlemen, you are welcome to Elsinore. Your hands, come. The\\nappurtenance of welcome is fashion and ceremony. Let me comply with you\\nin this garb, lest my extent to the players, which I tell you must show\\nfairly outward, should more appear like entertainment than yours. You\\nare welcome. But my uncle-father and aunt-mother are deceived.\\n\\nGUILDENSTERN. In what, my dear lord?\\n\\nHAMLET. I am but mad north-north-west. When the wind is southerly, I\\nknow a hawk from a handsaw.\\n\\n Enter Polonius.\\n\\nPOLONIUS. Well be with you, gentlemen.\\n\\nHAMLET. Hark you, Guildenstern, and you too, at each ear a hearer. That\\ngreat baby you see there is not yet out of his swaddling clouts.\\n\\nROSENCRANTZ. Happily he’s the second time come to them; for they say an\\nold man is twice a child.\\n\\nHAMLET. I will prophesy he comes to tell me of the players. Mark\\nit.—You say right, sir: for a Monday morning ’twas so indeed.\\n\\nPOLONIUS. My lord, I have news to tell you.\\n\\nHAMLET. My lord, I have news to tell you. When Roscius was an actor in\\nRome—\\n\\nPOLONIUS. The actors are come hither, my lord.\\n\\nHAMLET. Buzz, buzz.\\n\\nPOLONIUS. Upon my honour.\\n\\nHAMLET. Then came each actor on his ass—\\n\\nPOLONIUS. The best actors in the world, either for tragedy, comedy,\\nhistory, pastoral, pastoral-comical, historical-pastoral,\\ntragical-historical, tragical-comical-historical-pastoral, scene\\nindividable, or poem unlimited. Seneca cannot be too heavy, nor Plautus\\ntoo light, for the law of writ and the liberty. These are the only men.\\n\\nHAMLET. O Jephthah, judge of Israel, what a treasure hadst thou!\\n\\nPOLONIUS. What treasure had he, my lord?\\n\\nHAMLET. Why— ’One fair daughter, and no more, The which he loved\\npassing well.’\\n\\nPOLONIUS. [_Aside._] Still on my daughter.\\n\\nHAMLET. Am I not i’ th’ right, old Jephthah?\\n\\nPOLONIUS. If you call me Jephthah, my lord, I have a daughter that I\\nlove passing well.\\n\\nHAMLET. Nay, that follows not.\\n\\nPOLONIUS. What follows then, my lord?\\n\\nHAMLET. Why, As by lot, God wot, and then, you know, It came to pass,\\nas most like it was. The first row of the pious chanson will show you\\nmore. For look where my abridgement comes.\\n\\n Enter four or five Players.\\n\\nYou are welcome, masters, welcome all. I am glad to see thee well.\\nWelcome, good friends. O, my old friend! Thy face is valanc’d since I\\nsaw thee last. Com’st thou to beard me in Denmark? What, my young lady\\nand mistress! By’r lady, your ladyship is nearer to heaven than when I\\nsaw you last, by the altitude of a chopine. Pray God your voice, like a\\npiece of uncurrent gold, be not cracked within the ring. Masters, you\\nare all welcome. We’ll e’en to’t like French falconers, fly at anything\\nwe see. We’ll have a speech straight. Come, give us a taste of your\\nquality. Come, a passionate speech.\\n\\nFIRST PLAYER. What speech, my lord?\\n\\nHAMLET. I heard thee speak me a speech once, but it was never acted, or\\nif it was, not above once, for the play, I remember, pleased not the\\nmillion, ’twas caviare to the general. But it was—as I received it, and\\nothers, whose judgments in such matters cried in the top of mine—an\\nexcellent play, well digested in the scenes, set down with as much\\nmodesty as cunning. I remember one said there were no sallets in the\\nlines to make the matter savoury, nor no matter in the phrase that\\nmight indite the author of affectation, but called it an honest method,\\nas wholesome as sweet, and by very much more handsome than fine. One\\nspeech in it, I chiefly loved. ’Twas Aeneas’ tale to Dido, and\\nthereabout of it especially where he speaks of Priam’s slaughter. If it\\nlive in your memory, begin at this line, let me see, let me see: _The\\nrugged Pyrrhus, like th’ Hyrcanian beast,—_ It is not so: it begins\\nwith Pyrrhus— _The rugged Pyrrhus, he whose sable arms, Black as his\\npurpose, did the night resemble When he lay couched in the ominous\\nhorse, Hath now this dread and black complexion smear’d With heraldry\\nmore dismal. Head to foot Now is he total gules, horridly trick’d With\\nblood of fathers, mothers, daughters, sons, Bak’d and impasted with the\\nparching streets, That lend a tyrannous and a damned light To their\\nvile murders. Roasted in wrath and fire, And thus o’ersized with\\ncoagulate gore, With eyes like carbuncles, the hellish Pyrrhus Old\\ngrandsire Priam seeks._ So, proceed you.\\n\\nPOLONIUS. ’Fore God, my lord, well spoken, with good accent and good\\ndiscretion.\\n\\nFIRST PLAYER. _Anon he finds him, Striking too short at Greeks. His\\nantique sword, Rebellious to his arm, lies where it falls, Repugnant to\\ncommand. Unequal match’d, Pyrrhus at Priam drives, in rage strikes\\nwide; But with the whiff and wind of his fell sword Th’unnerved father\\nfalls. Then senseless Ilium, Seeming to feel this blow, with flaming\\ntop Stoops to his base, and with a hideous crash Takes prisoner\\nPyrrhus’ ear. For lo, his sword, Which was declining on the milky head\\nOf reverend Priam, seem’d i’ th’air to stick. So, as a painted tyrant,\\nPyrrhus stood, And like a neutral to his will and matter, Did nothing.\\nBut as we often see against some storm, A silence in the heavens, the\\nrack stand still, The bold winds speechless, and the orb below As hush\\nas death, anon the dreadful thunder Doth rend the region; so after\\nPyrrhus’ pause, Aroused vengeance sets him new a-work, And never did\\nthe Cyclops’ hammers fall On Mars’s armour, forg’d for proof eterne,\\nWith less remorse than Pyrrhus’ bleeding sword Now falls on Priam. Out,\\nout, thou strumpet Fortune! All you gods, In general synod, take away\\nher power; Break all the spokes and fellies from her wheel, And bowl\\nthe round nave down the hill of heaven, As low as to the fiends._\\n\\nPOLONIUS. This is too long.\\n\\nHAMLET. It shall to the barber’s, with your beard.—Prythee say on. He’s\\nfor a jig or a tale of bawdry, or he sleeps. Say on; come to Hecuba.\\n\\nFIRST PLAYER. _But who, O who, had seen the mobled queen,—_\\n\\nHAMLET. ‘The mobled queen’?\\n\\nPOLONIUS. That’s good! ‘Mobled queen’ is good.\\n\\nFIRST PLAYER. _Run barefoot up and down, threat’ning the flames With\\nbisson rheum. A clout upon that head Where late the diadem stood, and\\nfor a robe, About her lank and all o’erteemed loins, A blanket, in\\nth’alarm of fear caught up— Who this had seen, with tongue in venom\\nsteep’d, ’Gainst Fortune’s state would treason have pronounc’d. But if\\nthe gods themselves did see her then, When she saw Pyrrhus make\\nmalicious sport In mincing with his sword her husband’s limbs, The\\ninstant burst of clamour that she made,— Unless things mortal move them\\nnot at all,— Would have made milch the burning eyes of heaven, And\\npassion in the gods._\\n\\nPOLONIUS. Look, where he has not turn’d his colour, and has tears in’s\\neyes. Pray you, no more.\\n\\nHAMLET. ’Tis well. I’ll have thee speak out the rest of this soon.—Good\\nmy lord, will you see the players well bestowed? Do you hear, let them\\nbe well used; for they are the abstracts and brief chronicles of the\\ntime. After your death you were better have a bad epitaph than their\\nill report while you live.\\n\\nPOLONIUS. My lord, I will use them according to their desert.\\n\\nHAMLET. God’s bodikin, man, better. Use every man after his desert, and\\nwho should scape whipping? Use them after your own honour and dignity.\\nThe less they deserve, the more merit is in your bounty. Take them in.\\n\\nPOLONIUS. Come, sirs.\\n\\nHAMLET. Follow him, friends. We’ll hear a play tomorrow.\\n\\n [_Exeunt Polonius with all the Players but the First._]\\n\\nDost thou hear me, old friend? Can you play _The Murder of Gonzago_?\\n\\nFIRST PLAYER. Ay, my lord.\\n\\nHAMLET. We’ll ha’t tomorrow night. You could for a need study a speech\\nof some dozen or sixteen lines, which I would set down and insert in’t,\\ncould you not?\\n\\nFIRST PLAYER. Ay, my lord.\\n\\nHAMLET. Very well. Follow that lord, and look you mock him not.\\n\\n [_Exit First Player._]\\n\\n[_To Rosencrantz and Guildenstern_] My good friends, I’ll leave you\\ntill night. You are welcome to Elsinore.\\n\\nROSENCRANTZ. Good my lord.\\n\\n [_Exeunt Rosencrantz and Guildenstern._]\\n\\nHAMLET. Ay, so, God b’ wi’ ye. Now I am alone. O what a rogue and\\npeasant slave am I! Is it not monstrous that this player here, But in a\\nfiction, in a dream of passion, Could force his soul so to his own\\nconceit That from her working all his visage wan’d; Tears in his eyes,\\ndistraction in’s aspect, A broken voice, and his whole function suiting\\nWith forms to his conceit? And all for nothing! For Hecuba? What’s\\nHecuba to him, or he to Hecuba, That he should weep for her? What would\\nhe do, Had he the motive and the cue for passion That I have? He would\\ndrown the stage with tears And cleave the general ear with horrid\\nspeech; Make mad the guilty, and appal the free, Confound the ignorant,\\nand amaze indeed, The very faculties of eyes and ears. Yet I, A dull\\nand muddy-mettled rascal, peak Like John-a-dreams, unpregnant of my\\ncause, And can say nothing. No, not for a king Upon whose property and\\nmost dear life A damn’d defeat was made. Am I a coward? Who calls me\\nvillain, breaks my pate across? Plucks off my beard and blows it in my\\nface? Tweaks me by the nose, gives me the lie i’ th’ throat As deep as\\nto the lungs? Who does me this? Ha! ’Swounds, I should take it: for it\\ncannot be But I am pigeon-liver’d, and lack gall To make oppression\\nbitter, or ere this I should have fatted all the region kites With this\\nslave’s offal. Bloody, bawdy villain! Remorseless, treacherous,\\nlecherous, kindless villain! Oh vengeance! Why, what an ass am I! This\\nis most brave, That I, the son of a dear father murder’d, Prompted to\\nmy revenge by heaven and hell, Must, like a whore, unpack my heart with\\nwords And fall a-cursing like a very drab, A scullion! Fie upon’t! Foh!\\nAbout, my brain! I have heard That guilty creatures sitting at a play,\\nHave by the very cunning of the scene, Been struck so to the soul that\\npresently They have proclaim’d their malefactions. For murder, though\\nit have no tongue, will speak With most miraculous organ. I’ll have\\nthese players Play something like the murder of my father Before mine\\nuncle. I’ll observe his looks; I’ll tent him to the quick. If he but\\nblench, I know my course. The spirit that I have seen May be the devil,\\nand the devil hath power T’assume a pleasing shape, yea, and perhaps\\nOut of my weakness and my melancholy, As he is very potent with such\\nspirits, Abuses me to damn me. I’ll have grounds More relative than\\nthis. The play’s the thing Wherein I’ll catch the conscience of the\\nKing.\\n\\n [_Exit._]\\n\\n\\n\\nACT III\\n\\nSCENE I. A room in the Castle.\\n\\n Enter King, Queen, Polonius, Ophelia, Rosencrantz and Guildenstern.\\n\\nKING. And can you by no drift of circumstance Get from him why he puts\\non this confusion, Grating so harshly all his days of quiet With\\nturbulent and dangerous lunacy?\\n\\nROSENCRANTZ. He does confess he feels himself distracted, But from what\\ncause he will by no means speak.\\n\\nGUILDENSTERN. Nor do we find him forward to be sounded, But with a\\ncrafty madness keeps aloof When we would bring him on to some\\nconfession Of his true state.\\n\\nQUEEN. Did he receive you well?\\n\\nROSENCRANTZ. Most like a gentleman.\\n\\nGUILDENSTERN. But with much forcing of his disposition.\\n\\nROSENCRANTZ. Niggard of question, but of our demands, Most free in his\\nreply.\\n\\nQUEEN. Did you assay him to any pastime?\\n\\nROSENCRANTZ. Madam, it so fell out that certain players We o’er-raught\\non the way. Of these we told him, And there did seem in him a kind of\\njoy To hear of it. They are about the court, And, as I think, they have\\nalready order This night to play before him.\\n\\nPOLONIUS. ’Tis most true; And he beseech’d me to entreat your Majesties\\nTo hear and see the matter.\\n\\nKING. With all my heart; and it doth much content me To hear him so\\ninclin’d. Good gentlemen, give him a further edge, And drive his\\npurpose on to these delights.\\n\\nROSENCRANTZ. We shall, my lord.\\n\\n [_Exeunt Rosencrantz and Guildenstern._]\\n\\nKING. Sweet Gertrude, leave us too, For we have closely sent for Hamlet\\nhither, That he, as ’twere by accident, may here Affront Ophelia. Her\\nfather and myself, lawful espials, Will so bestow ourselves that,\\nseeing unseen, We may of their encounter frankly judge, And gather by\\nhim, as he is behav’d, If’t be th’affliction of his love or no That\\nthus he suffers for.\\n\\nQUEEN. I shall obey you. And for your part, Ophelia, I do wish That\\nyour good beauties be the happy cause Of Hamlet’s wildness: so shall I\\nhope your virtues Will bring him to his wonted way again, To both your\\nhonours.\\n\\nOPHELIA. Madam, I wish it may.\\n\\n [_Exit Queen._]\\n\\nPOLONIUS. Ophelia, walk you here.—Gracious, so please you, We will\\nbestow ourselves.—[_To Ophelia._] Read on this book, That show of such\\nan exercise may colour Your loneliness.—We are oft to blame in this,\\n’Tis too much prov’d, that with devotion’s visage And pious action we\\ndo sugar o’er The devil himself.\\n\\nKING. [_Aside._] O ’tis too true! How smart a lash that speech doth\\ngive my conscience! The harlot’s cheek, beautied with plastering art,\\nIs not more ugly to the thing that helps it Than is my deed to my most\\npainted word. O heavy burden!\\n\\nPOLONIUS. I hear him coming. Let’s withdraw, my lord.\\n\\n [_Exeunt King and Polonius._]\\n\\n Enter Hamlet.\\n\\nHAMLET. To be, or not to be, that is the question: Whether ’tis nobler\\nin the mind to suffer The slings and arrows of outrageous fortune, Or\\nto take arms against a sea of troubles, And by opposing end them? To\\ndie—to sleep, No more; and by a sleep to say we end The heart-ache, and\\nthe thousand natural shocks That flesh is heir to: ’tis a consummation\\nDevoutly to be wish’d. To die, to sleep. To sleep, perchance to\\ndream—ay, there’s the rub, For in that sleep of death what dreams may\\ncome, When we have shuffled off this mortal coil, Must give us pause.\\nThere’s the respect That makes calamity of so long life. For who would\\nbear the whips and scorns of time, The oppressor’s wrong, the proud\\nman’s contumely, The pangs of dispriz’d love, the law’s delay, The\\ninsolence of office, and the spurns That patient merit of the unworthy\\ntakes, When he himself might his quietus make With a bare bodkin? Who\\nwould these fardels bear, To grunt and sweat under a weary life, But\\nthat the dread of something after death, The undiscover’d country, from\\nwhose bourn No traveller returns, puzzles the will, And makes us rather\\nbear those ills we have Than fly to others that we know not of? Thus\\nconscience does make cowards of us all, And thus the native hue of\\nresolution Is sicklied o’er with the pale cast of thought, And\\nenterprises of great pith and moment, With this regard their currents\\nturn awry And lose the name of action. Soft you now, The fair Ophelia!\\nNymph, in thy orisons Be all my sins remember’d.\\n\\nOPHELIA. Good my lord, How does your honour for this many a day?\\n\\nHAMLET. I humbly thank you; well, well, well.\\n\\nOPHELIA. My lord, I have remembrances of yours That I have longed long\\nto re-deliver. I pray you, now receive them.\\n\\nHAMLET. No, not I. I never gave you aught.\\n\\nOPHELIA. My honour’d lord, you know right well you did, And with them\\nwords of so sweet breath compos’d As made the things more rich; their\\nperfume lost, Take these again; for to the noble mind Rich gifts wax\\npoor when givers prove unkind. There, my lord.\\n\\nHAMLET. Ha, ha! Are you honest?\\n\\nOPHELIA. My lord?\\n\\nHAMLET. Are you fair?\\n\\nOPHELIA. What means your lordship?\\n\\nHAMLET. That if you be honest and fair, your honesty should admit no\\ndiscourse to your beauty.\\n\\nOPHELIA. Could beauty, my lord, have better commerce than with honesty?\\n\\nHAMLET. Ay, truly; for the power of beauty will sooner transform\\nhonesty from what it is to a bawd than the force of honesty can\\ntranslate beauty into his likeness. This was sometime a paradox, but\\nnow the time gives it proof. I did love you once.\\n\\nOPHELIA. Indeed, my lord, you made me believe so.\\n\\nHAMLET. You should not have believed me; for virtue cannot so inoculate\\nour old stock but we shall relish of it. I loved you not.\\n\\nOPHELIA. I was the more deceived.\\n\\nHAMLET. Get thee to a nunnery. Why wouldst thou be a breeder of\\nsinners? I am myself indifferent honest; but yet I could accuse me of\\nsuch things that it were better my mother had not borne me. I am very\\nproud, revengeful, ambitious, with more offences at my beck than I have\\nthoughts to put them in, imagination to give them shape, or time to act\\nthem in. What should such fellows as I do crawling between earth and\\nheaven? We are arrant knaves all, believe none of us. Go thy ways to a\\nnunnery. Where’s your father?\\n\\nOPHELIA. At home, my lord.\\n\\nHAMLET. Let the doors be shut upon him, that he may play the fool\\nnowhere but in’s own house. Farewell.\\n\\nOPHELIA. O help him, you sweet heavens!\\n\\nHAMLET. If thou dost marry, I’ll give thee this plague for thy dowry.\\nBe thou as chaste as ice, as pure as snow, thou shalt not escape\\ncalumny. Get thee to a nunnery, go: farewell. Or if thou wilt needs\\nmarry, marry a fool; for wise men know well enough what monsters you\\nmake of them. To a nunnery, go; and quickly too. Farewell.\\n\\nOPHELIA. O heavenly powers, restore him!\\n\\nHAMLET. I have heard of your paintings too, well enough. God hath given\\nyou one face, and you make yourselves another. You jig, you amble, and\\nyou lisp, and nickname God’s creatures, and make your wantonness your\\nignorance. Go to, I’ll no more on’t, it hath made me mad. I say, we\\nwill have no more marriages. Those that are married already, all but\\none, shall live; the rest shall keep as they are. To a nunnery, go.\\n\\n [_Exit._]\\n\\nOPHELIA. O, what a noble mind is here o’erthrown! The courtier’s,\\nsoldier’s, scholar’s, eye, tongue, sword, Th’expectancy and rose of the\\nfair state, The glass of fashion and the mould of form, Th’observ’d of\\nall observers, quite, quite down! And I, of ladies most deject and\\nwretched, That suck’d the honey of his music vows, Now see that noble\\nand most sovereign reason, Like sweet bells jangled out of tune and\\nharsh, That unmatch’d form and feature of blown youth Blasted with\\necstasy. O woe is me, T’have seen what I have seen, see what I see.\\n\\n Enter King and Polonius.\\n\\nKING. Love? His affections do not that way tend, Nor what he spake,\\nthough it lack’d form a little, Was not like madness. There’s something\\nin his soul O’er which his melancholy sits on brood, And I do doubt the\\nhatch and the disclose Will be some danger, which for to prevent, I\\nhave in quick determination Thus set it down: he shall with speed to\\nEngland For the demand of our neglected tribute: Haply the seas and\\ncountries different, With variable objects, shall expel This something\\nsettled matter in his heart, Whereon his brains still beating puts him\\nthus From fashion of himself. What think you on’t?\\n\\nPOLONIUS. It shall do well. But yet do I believe The origin and\\ncommencement of his grief Sprung from neglected love. How now, Ophelia?\\nYou need not tell us what Lord Hamlet said, We heard it all. My lord,\\ndo as you please, But if you hold it fit, after the play, Let his queen\\nmother all alone entreat him To show his grief, let her be round with\\nhim, And I’ll be plac’d, so please you, in the ear Of all their\\nconference. If she find him not, To England send him; or confine him\\nwhere Your wisdom best shall think.\\n\\nKING. It shall be so. Madness in great ones must not unwatch’d go.\\n\\n [_Exeunt._]\\n\\nSCENE II. A hall in the Castle.\\n\\n Enter Hamlet and certain Players.\\n\\nHAMLET. Speak the speech, I pray you, as I pronounced it to you,\\ntrippingly on the tongue. But if you mouth it, as many of your players\\ndo, I had as lief the town-crier spoke my lines. Nor do not saw the air\\ntoo much with your hand, thus, but use all gently; for in the very\\ntorrent, tempest, and, as I may say, whirlwind of passion, you must\\nacquire and beget a temperance that may give it smoothness. O, it\\noffends me to the soul to hear a robustious periwig-pated fellow tear a\\npassion to tatters, to very rags, to split the ears of the groundlings,\\nwho, for the most part, are capable of nothing but inexplicable dumb\\nshows and noise. I would have such a fellow whipped for o’erdoing\\nTermagant. It out-Herods Herod. Pray you avoid it.\\n\\nFIRST PLAYER. I warrant your honour.\\n\\nHAMLET. Be not too tame neither; but let your own discretion be your\\ntutor. Suit the action to the word, the word to the action, with this\\nspecial observance, that you o’erstep not the modesty of nature; for\\nanything so overdone is from the purpose of playing, whose end, both at\\nthe first and now, was and is, to hold as ’twere the mirror up to\\nnature; to show virtue her own feature, scorn her own image, and the\\nvery age and body of the time his form and pressure. Now, this\\noverdone, or come tardy off, though it make the unskilful laugh, cannot\\nbut make the judicious grieve; the censure of the which one must in\\nyour allowance o’erweigh a whole theatre of others. O, there be players\\nthat I have seen play—and heard others praise, and that highly—not to\\nspeak it profanely, that, neither having the accent of Christians, nor\\nthe gait of Christian, pagan, nor man, have so strutted and bellowed\\nthat I have thought some of Nature’s journeymen had made men, and not\\nmade them well, they imitated humanity so abominably.\\n\\nFIRST PLAYER. I hope we have reform’d that indifferently with us, sir.\\n\\nHAMLET. O reform it altogether. And let those that play your clowns\\nspeak no more than is set down for them. For there be of them that will\\nthemselves laugh, to set on some quantity of barren spectators to laugh\\ntoo, though in the meantime some necessary question of the play be then\\nto be considered. That’s villanous, and shows a most pitiful ambition\\nin the fool that uses it. Go make you ready.\\n\\n [_Exeunt Players._]\\n\\n Enter Polonius, Rosencrantz and Guildenstern.\\n\\nHow now, my lord? Will the King hear this piece of work?\\n\\nPOLONIUS. And the Queen too, and that presently.\\n\\nHAMLET. Bid the players make haste.\\n\\n [_Exit Polonius._]\\n\\nWill you two help to hasten them?\\n\\nROSENCRANTZ and GUILDENSTERN. We will, my lord.\\n\\n [_Exeunt Rosencrantz and Guildenstern._]\\n\\nHAMLET. What ho, Horatio!\\n\\n Enter Horatio.\\n\\nHORATIO. Here, sweet lord, at your service.\\n\\nHAMLET. Horatio, thou art e’en as just a man As e’er my conversation\\ncop’d withal.\\n\\nHORATIO. O my dear lord.\\n\\nHAMLET. Nay, do not think I flatter; For what advancement may I hope\\nfrom thee, That no revenue hast, but thy good spirits To feed and\\nclothe thee? Why should the poor be flatter’d? No, let the candied\\ntongue lick absurd pomp, And crook the pregnant hinges of the knee\\nWhere thrift may follow fawning. Dost thou hear? Since my dear soul was\\nmistress of her choice, And could of men distinguish, her election Hath\\nseal’d thee for herself. For thou hast been As one, in suffering all,\\nthat suffers nothing, A man that Fortune’s buffets and rewards Hast\\nta’en with equal thanks. And bles’d are those Whose blood and judgment\\nare so well co-mingled That they are not a pipe for Fortune’s finger To\\nsound what stop she please. Give me that man That is not passion’s\\nslave, and I will wear him In my heart’s core, ay, in my heart of\\nheart, As I do thee. Something too much of this. There is a play\\ntonight before the King. One scene of it comes near the circumstance\\nWhich I have told thee, of my father’s death. I prythee, when thou\\nsee’st that act a-foot, Even with the very comment of thy soul Observe\\nmine uncle. If his occulted guilt Do not itself unkennel in one speech,\\nIt is a damned ghost that we have seen; And my imaginations are as foul\\nAs Vulcan’s stithy. Give him heedful note; For I mine eyes will rivet\\nto his face; And after we will both our judgments join In censure of\\nhis seeming.\\n\\nHORATIO. Well, my lord. If he steal aught the whilst this play is\\nplaying, And scape detecting, I will pay the theft.\\n\\nHAMLET. They are coming to the play. I must be idle. Get you a place.\\n\\n Danish march. A flourish. Enter King, Queen, Polonius, Ophelia,\\n Rosencrantz, Guildenstern and others.\\n\\nKING. How fares our cousin Hamlet?\\n\\nHAMLET. Excellent, i’ faith; of the chameleon’s dish: I eat the air,\\npromise-crammed: you cannot feed capons so.\\n\\nKING. I have nothing with this answer, Hamlet; these words are not\\nmine.\\n\\nHAMLET. No, nor mine now. [_To Polonius._] My lord, you play’d once i’\\nth’university, you say?\\n\\nPOLONIUS. That did I, my lord, and was accounted a good actor.\\n\\nHAMLET. What did you enact?\\n\\nPOLONIUS. I did enact Julius Caesar. I was kill’d i’ th’ Capitol.\\nBrutus killed me.\\n\\nHAMLET. It was a brute part of him to kill so capital a calf there. Be\\nthe players ready?\\n\\nROSENCRANTZ. Ay, my lord; they stay upon your patience.\\n\\nQUEEN. Come hither, my dear Hamlet, sit by me.\\n\\nHAMLET. No, good mother, here’s metal more attractive.\\n\\nPOLONIUS. [_To the King._] O ho! do you mark that?\\n\\nHAMLET. Lady, shall I lie in your lap?\\n\\n [_Lying down at Ophelia’s feet._]\\n\\nOPHELIA. No, my lord.\\n\\nHAMLET. I mean, my head upon your lap?\\n\\nOPHELIA. Ay, my lord.\\n\\nHAMLET. Do you think I meant country matters?\\n\\nOPHELIA. I think nothing, my lord.\\n\\nHAMLET. That’s a fair thought to lie between maids’ legs.\\n\\nOPHELIA. What is, my lord?\\n\\nHAMLET. Nothing.\\n\\nOPHELIA. You are merry, my lord.\\n\\nHAMLET. Who, I?\\n\\nOPHELIA. Ay, my lord.\\n\\nHAMLET. O God, your only jig-maker! What should a man do but be merry?\\nFor look you how cheerfully my mother looks, and my father died\\nwithin’s two hours.\\n\\nOPHELIA. Nay, ’tis twice two months, my lord.\\n\\nHAMLET. So long? Nay then, let the devil wear black, for I’ll have a\\nsuit of sables. O heavens! die two months ago, and not forgotten yet?\\nThen there’s hope a great man’s memory may outlive his life half a\\nyear. But by’r lady, he must build churches then; or else shall he\\nsuffer not thinking on, with the hobby-horse, whose epitaph is ‘For, O,\\nfor O, the hobby-horse is forgot!’\\n\\n Trumpets sound. The dumb show enters.\\n\\n_Enter a King and a Queen very lovingly; the Queen embracing him and he\\nher. She kneels, and makes show of protestation unto him. He takes her\\nup, and declines his head upon her neck. Lays him down upon a bank of\\nflowers. She, seeing him asleep, leaves him. Anon comes in a fellow,\\ntakes off his crown, kisses it, pours poison in the King’s ears, and\\nexits. The Queen returns, finds the King dead, and makes passionate\\naction. The Poisoner with some three or four Mutes, comes in again,\\nseeming to lament with her. The dead body is carried away. The Poisoner\\nwoos the Queen with gifts. She seems loth and unwilling awhile, but in\\nthe end accepts his love._\\n\\n [_Exeunt._]\\n\\nOPHELIA. What means this, my lord?\\n\\nHAMLET. Marry, this is miching mallicho; it means mischief.\\n\\nOPHELIA. Belike this show imports the argument of the play.\\n\\n Enter Prologue.\\n\\nHAMLET. We shall know by this fellow: the players cannot keep counsel;\\nthey’ll tell all.\\n\\nOPHELIA. Will they tell us what this show meant?\\n\\nHAMLET. Ay, or any show that you’ll show him. Be not you ashamed to\\nshow, he’ll not shame to tell you what it means.\\n\\nOPHELIA. You are naught, you are naught: I’ll mark the play.\\n\\nPROLOGUE. _For us, and for our tragedy, Here stooping to your clemency,\\nWe beg your hearing patiently._\\n\\nHAMLET. Is this a prologue, or the posy of a ring?\\n\\nOPHELIA. ’Tis brief, my lord.\\n\\nHAMLET. As woman’s love.\\n\\n Enter a King and a Queen.\\n\\nPLAYER KING. Full thirty times hath Phoebus’ cart gone round Neptune’s\\nsalt wash and Tellus’ orbed ground, And thirty dozen moons with\\nborrow’d sheen About the world have times twelve thirties been, Since\\nlove our hearts, and Hymen did our hands Unite commutual in most sacred\\nbands.\\n\\nPLAYER QUEEN. So many journeys may the sun and moon Make us again count\\no’er ere love be done. But, woe is me, you are so sick of late, So far\\nfrom cheer and from your former state, That I distrust you. Yet, though\\nI distrust, Discomfort you, my lord, it nothing must: For women’s fear\\nand love holds quantity, In neither aught, or in extremity. Now what my\\nlove is, proof hath made you know, And as my love is siz’d, my fear is\\nso. Where love is great, the littlest doubts are fear; Where little\\nfears grow great, great love grows there.\\n\\nPLAYER KING. Faith, I must leave thee, love, and shortly too: My\\noperant powers their functions leave to do: And thou shalt live in this\\nfair world behind, Honour’d, belov’d, and haply one as kind For husband\\nshalt thou—\\n\\nPLAYER QUEEN. O confound the rest. Such love must needs be treason in\\nmy breast. In second husband let me be accurst! None wed the second but\\nwho kill’d the first.\\n\\nHAMLET. [_Aside._] Wormwood, wormwood.\\n\\nPLAYER QUEEN. The instances that second marriage move Are base respects\\nof thrift, but none of love. A second time I kill my husband dead, When\\nsecond husband kisses me in bed.\\n\\nPLAYER KING. I do believe you think what now you speak; But what we do\\ndetermine, oft we break. Purpose is but the slave to memory, Of violent\\nbirth, but poor validity: Which now, like fruit unripe, sticks on the\\ntree, But fall unshaken when they mellow be. Most necessary ’tis that\\nwe forget To pay ourselves what to ourselves is debt. What to ourselves\\nin passion we propose, The passion ending, doth the purpose lose. The\\nviolence of either grief or joy Their own enactures with themselves\\ndestroy. Where joy most revels, grief doth most lament; Grief joys, joy\\ngrieves, on slender accident. This world is not for aye; nor ’tis not\\nstrange That even our loves should with our fortunes change, For ’tis a\\nquestion left us yet to prove, Whether love lead fortune, or else\\nfortune love. The great man down, you mark his favourite flies, The\\npoor advanc’d makes friends of enemies; And hitherto doth love on\\nfortune tend: For who not needs shall never lack a friend, And who in\\nwant a hollow friend doth try, Directly seasons him his enemy. But\\norderly to end where I begun, Our wills and fates do so contrary run\\nThat our devices still are overthrown. Our thoughts are ours, their\\nends none of our own. So think thou wilt no second husband wed, But die\\nthy thoughts when thy first lord is dead.\\n\\nPLAYER QUEEN. Nor earth to me give food, nor heaven light, Sport and\\nrepose lock from me day and night, To desperation turn my trust and\\nhope, An anchor’s cheer in prison be my scope, Each opposite that\\nblanks the face of joy, Meet what I would have well, and it destroy!\\nBoth here and hence pursue me lasting strife, If, once a widow, ever I\\nbe wife.\\n\\nHAMLET. [_To Ophelia._] If she should break it now.\\n\\nPLAYER KING. ’Tis deeply sworn. Sweet, leave me here awhile. My spirits\\ngrow dull, and fain I would beguile The tedious day with sleep.\\n[_Sleeps._]\\n\\nPLAYER QUEEN. Sleep rock thy brain, And never come mischance between us\\ntwain.\\n\\n [_Exit._]\\n\\nHAMLET. Madam, how like you this play?\\n\\nQUEEN. The lady protests too much, methinks.\\n\\nHAMLET. O, but she’ll keep her word.\\n\\nKING. Have you heard the argument? Is there no offence in’t?\\n\\nHAMLET. No, no, they do but jest, poison in jest; no offence i’ th’\\nworld.\\n\\nKING. What do you call the play?\\n\\nHAMLET. _The Mousetrap._ Marry, how? Tropically. This play is the image\\nof a murder done in Vienna. Gonzago is the Duke’s name, his wife\\nBaptista: you shall see anon; ’tis a knavish piece of work: but what o’\\nthat? Your majesty, and we that have free souls, it touches us not. Let\\nthe gall’d jade wince; our withers are unwrung.\\n\\n Enter Lucianus.\\n\\nThis is one Lucianus, nephew to the King.\\n\\nOPHELIA. You are a good chorus, my lord.\\n\\nHAMLET. I could interpret between you and your love, if I could see the\\npuppets dallying.\\n\\nOPHELIA. You are keen, my lord, you are keen.\\n\\nHAMLET. It would cost you a groaning to take off my edge.\\n\\nOPHELIA. Still better, and worse.\\n\\nHAMLET. So you mistake your husbands.—Begin, murderer. Pox, leave thy\\ndamnable faces, and begin. Come, the croaking raven doth bellow for\\nrevenge.\\n\\nLUCIANUS. Thoughts black, hands apt, drugs fit, and time agreeing,\\nConfederate season, else no creature seeing; Thou mixture rank, of\\nmidnight weeds collected, With Hecate’s ban thrice blasted, thrice\\ninfected, Thy natural magic and dire property On wholesome life usurp\\nimmediately.\\n\\n [_Pours the poison into the sleeper’s ears._]\\n\\nHAMLET. He poisons him i’ th’garden for’s estate. His name’s Gonzago.\\nThe story is extant, and written in very choice Italian. You shall see\\nanon how the murderer gets the love of Gonzago’s wife.\\n\\nOPHELIA. The King rises.\\n\\nHAMLET. What, frighted with false fire?\\n\\nQUEEN. How fares my lord?\\n\\nPOLONIUS. Give o’er the play.\\n\\nKING. Give me some light. Away.\\n\\nAll. Lights, lights, lights.\\n\\n [_Exeunt all but Hamlet and Horatio._]\\n\\nHAMLET. Why, let the strucken deer go weep, The hart ungalled play; For\\nsome must watch, while some must sleep, So runs the world away. Would\\nnot this, sir, and a forest of feathers, if the rest of my fortunes\\nturn Turk with me; with two Provincial roses on my razed shoes, get me\\na fellowship in a cry of players, sir?\\n\\nHORATIO. Half a share.\\n\\nHAMLET. A whole one, I. For thou dost know, O Damon dear, This realm\\ndismantled was Of Jove himself, and now reigns here A very,\\nvery—pajock.\\n\\nHORATIO. You might have rhymed.\\n\\nHAMLET. O good Horatio, I’ll take the ghost’s word for a thousand\\npound. Didst perceive?\\n\\nHORATIO. Very well, my lord.\\n\\nHAMLET. Upon the talk of the poisoning?\\n\\nHORATIO. I did very well note him.\\n\\nHAMLET. Ah, ha! Come, some music. Come, the recorders. For if the king\\nlike not the comedy, Why then, belike he likes it not, perdie. Come,\\nsome music.\\n\\n Enter Rosencrantz and Guildenstern.\\n\\nGUILDENSTERN. Good my lord, vouchsafe me a word with you.\\n\\nHAMLET. Sir, a whole history.\\n\\nGUILDENSTERN. The King, sir—\\n\\nHAMLET. Ay, sir, what of him?\\n\\nGUILDENSTERN. Is in his retirement, marvellous distempered.\\n\\nHAMLET. With drink, sir?\\n\\nGUILDENSTERN. No, my lord; rather with choler.\\n\\nHAMLET. Your wisdom should show itself more richer to signify this to\\nthe doctor, for me to put him to his purgation would perhaps plunge him\\ninto far more choler.\\n\\nGUILDENSTERN. Good my lord, put your discourse into some frame, and\\nstart not so wildly from my affair.\\n\\nHAMLET. I am tame, sir, pronounce.\\n\\nGUILDENSTERN. The Queen your mother, in most great affliction of\\nspirit, hath sent me to you.\\n\\nHAMLET. You are welcome.\\n\\nGUILDENSTERN. Nay, good my lord, this courtesy is not of the right\\nbreed. If it shall please you to make me a wholesome answer, I will do\\nyour mother’s commandment; if not, your pardon and my return shall be\\nthe end of my business.\\n\\nHAMLET. Sir, I cannot.\\n\\nGUILDENSTERN. What, my lord?\\n\\nHAMLET. Make you a wholesome answer. My wit’s diseased. But, sir, such\\nanswer as I can make, you shall command; or rather, as you say, my\\nmother. Therefore no more, but to the matter. My mother, you say,—\\n\\nROSENCRANTZ. Then thus she says: your behaviour hath struck her into\\namazement and admiration.\\n\\nHAMLET. O wonderful son, that can so stonish a mother! But is there no\\nsequel at the heels of this mother’s admiration?\\n\\nROSENCRANTZ. She desires to speak with you in her closet ere you go to\\nbed.\\n\\nHAMLET. We shall obey, were she ten times our mother. Have you any\\nfurther trade with us?\\n\\nROSENCRANTZ. My lord, you once did love me.\\n\\nHAMLET. And so I do still, by these pickers and stealers.\\n\\nROSENCRANTZ. Good my lord, what is your cause of distemper? You do\\nsurely bar the door upon your own liberty if you deny your griefs to\\nyour friend.\\n\\nHAMLET. Sir, I lack advancement.\\n\\nROSENCRANTZ. How can that be, when you have the voice of the King\\nhimself for your succession in Denmark?\\n\\nHAMLET. Ay, sir, but while the grass grows—the proverb is something\\nmusty.\\n\\n Re-enter the Players with recorders.\\n\\nO, the recorders. Let me see one.—To withdraw with you, why do you go\\nabout to recover the wind of me, as if you would drive me into a toil?\\n\\nGUILDENSTERN. O my lord, if my duty be too bold, my love is too\\nunmannerly.\\n\\nHAMLET. I do not well understand that. Will you play upon this pipe?\\n\\nGUILDENSTERN. My lord, I cannot.\\n\\nHAMLET. I pray you.\\n\\nGUILDENSTERN. Believe me, I cannot.\\n\\nHAMLET. I do beseech you.\\n\\nGUILDENSTERN. I know no touch of it, my lord.\\n\\nHAMLET. ’Tis as easy as lying: govern these ventages with your finger\\nand thumb, give it breath with your mouth, and it will discourse most\\neloquent music. Look you, these are the stops.\\n\\nGUILDENSTERN. But these cannot I command to any utterance of harmony. I\\nhave not the skill.\\n\\nHAMLET. Why, look you now, how unworthy a thing you make of me! You\\nwould play upon me; you would seem to know my stops; you would pluck\\nout the heart of my mystery; you would sound me from my lowest note to\\nthe top of my compass; and there is much music, excellent voice, in\\nthis little organ, yet cannot you make it speak. ’Sblood, do you think\\nI am easier to be played on than a pipe? Call me what instrument you\\nwill, though you can fret me, you cannot play upon me.\\n\\n Enter Polonius.\\n\\nGod bless you, sir.\\n\\nPOLONIUS. My lord, the Queen would speak with you, and presently.\\n\\nHAMLET. Do you see yonder cloud that’s almost in shape of a camel?\\n\\nPOLONIUS. By the mass, and ’tis like a camel indeed.\\n\\nHAMLET. Methinks it is like a weasel.\\n\\nPOLONIUS. It is backed like a weasel.\\n\\nHAMLET. Or like a whale.\\n\\nPOLONIUS. Very like a whale.\\n\\nHAMLET. Then will I come to my mother by and by.—They fool me to the\\ntop of my bent.—I will come by and by.\\n\\nPOLONIUS. I will say so.\\n\\n [_Exit._]\\n\\nHAMLET. By and by is easily said. Leave me, friends.\\n\\n [_Exeunt all but Hamlet._]\\n\\n’Tis now the very witching time of night, When churchyards yawn, and\\nhell itself breathes out Contagion to this world. Now could I drink hot\\nblood, And do such bitter business as the day Would quake to look on.\\nSoft now, to my mother. O heart, lose not thy nature; let not ever The\\nsoul of Nero enter this firm bosom: Let me be cruel, not unnatural. I\\nwill speak daggers to her, but use none; My tongue and soul in this be\\nhypocrites. How in my words somever she be shent, To give them seals\\nnever, my soul, consent.\\n\\n [_Exit._]\\n\\nSCENE III. A room in the Castle.\\n\\n Enter King, Rosencrantz and Guildenstern.\\n\\nKING. I like him not, nor stands it safe with us To let his madness\\nrange. Therefore prepare you, I your commission will forthwith\\ndispatch, And he to England shall along with you. The terms of our\\nestate may not endure Hazard so near us as doth hourly grow Out of his\\nlunacies.\\n\\nGUILDENSTERN. We will ourselves provide. Most holy and religious fear\\nit is To keep those many many bodies safe That live and feed upon your\\nMajesty.\\n\\nROSENCRANTZ. The single and peculiar life is bound With all the\\nstrength and armour of the mind, To keep itself from ’noyance; but much\\nmore That spirit upon whose weal depend and rest The lives of many. The\\ncease of majesty Dies not alone; but like a gulf doth draw What’s near\\nit with it. It is a massy wheel Fix’d on the summit of the highest\\nmount, To whose huge spokes ten thousand lesser things Are mortis’d and\\nadjoin’d; which when it falls, Each small annexment, petty consequence,\\nAttends the boist’rous ruin. Never alone Did the King sigh, but with a\\ngeneral groan.\\n\\nKING. Arm you, I pray you, to this speedy voyage; For we will fetters\\nput upon this fear, Which now goes too free-footed.\\n\\nROSENCRANTZ and GUILDENSTERN. We will haste us.\\n\\n [_Exeunt Rosencrantz and Guildenstern._]\\n\\n Enter Polonius.\\n\\nPOLONIUS. My lord, he’s going to his mother’s closet. Behind the arras\\nI’ll convey myself To hear the process. I’ll warrant she’ll tax him\\nhome, And as you said, and wisely was it said, ’Tis meet that some more\\naudience than a mother, Since nature makes them partial, should\\no’erhear The speech of vantage. Fare you well, my liege, I’ll call upon\\nyou ere you go to bed, And tell you what I know.\\n\\nKING. Thanks, dear my lord.\\n\\n [_Exit Polonius._]\\n\\nO, my offence is rank, it smells to heaven; It hath the primal eldest\\ncurse upon’t,— A brother’s murder! Pray can I not, Though inclination\\nbe as sharp as will: My stronger guilt defeats my strong intent, And,\\nlike a man to double business bound, I stand in pause where I shall\\nfirst begin, And both neglect. What if this cursed hand Were thicker\\nthan itself with brother’s blood, Is there not rain enough in the sweet\\nheavens To wash it white as snow? Whereto serves mercy But to confront\\nthe visage of offence? And what’s in prayer but this twofold force, To\\nbe forestalled ere we come to fall, Or pardon’d being down? Then I’ll\\nlook up. My fault is past. But O, what form of prayer Can serve my\\nturn? Forgive me my foul murder! That cannot be; since I am still\\npossess’d Of those effects for which I did the murder,— My crown, mine\\nown ambition, and my queen. May one be pardon’d and retain th’offence?\\nIn the corrupted currents of this world Offence’s gilded hand may shove\\nby justice, And oft ’tis seen the wicked prize itself Buys out the law.\\nBut ’tis not so above; There is no shuffling, there the action lies In\\nhis true nature, and we ourselves compell’d Even to the teeth and\\nforehead of our faults, To give in evidence. What then? What rests? Try\\nwhat repentance can. What can it not? Yet what can it, when one cannot\\nrepent? O wretched state! O bosom black as death! O limed soul, that\\nstruggling to be free, Art more engag’d! Help, angels! Make assay: Bow,\\nstubborn knees; and heart with strings of steel, Be soft as sinews of\\nthe new-born babe. All may be well.\\n\\n [_Retires and kneels._]\\n\\n Enter Hamlet.\\n\\nHAMLET. Now might I do it pat, now he is praying. And now I’ll do’t.\\nAnd so he goes to heaven; And so am I reveng’d. That would be scann’d:\\nA villain kills my father, and for that I, his sole son, do this same\\nvillain send To heaven. O, this is hire and salary, not revenge. He\\ntook my father grossly, full of bread, With all his crimes broad blown,\\nas flush as May; And how his audit stands, who knows save heaven? But\\nin our circumstance and course of thought, ’Tis heavy with him. And am\\nI then reveng’d, To take him in the purging of his soul, When he is fit\\nand season’d for his passage? No. Up, sword, and know thou a more\\nhorrid hent: When he is drunk asleep; or in his rage, Or in\\nth’incestuous pleasure of his bed, At gaming, swearing; or about some\\nact That has no relish of salvation in’t, Then trip him, that his heels\\nmay kick at heaven, And that his soul may be as damn’d and black As\\nhell, whereto it goes. My mother stays. This physic but prolongs thy\\nsickly days.\\n\\n [_Exit._]\\n\\n The King rises and advances.\\n\\nKING. My words fly up, my thoughts remain below. Words without thoughts\\nnever to heaven go.\\n\\n [_Exit._]\\n\\nSCENE IV. Another room in the Castle.\\n\\n Enter Queen and Polonius.\\n\\nPOLONIUS. He will come straight. Look you lay home to him, Tell him his\\npranks have been too broad to bear with, And that your Grace hath\\nscreen’d and stood between Much heat and him. I’ll silence me e’en\\nhere. Pray you be round with him.\\n\\nHAMLET. [_Within._] Mother, mother, mother.\\n\\nQUEEN. I’ll warrant you, Fear me not. Withdraw, I hear him coming.\\n\\n [_Polonius goes behind the arras._]\\n\\n Enter Hamlet.\\n\\nHAMLET. Now, mother, what’s the matter?\\n\\nQUEEN. Hamlet, thou hast thy father much offended.\\n\\nHAMLET. Mother, you have my father much offended.\\n\\nQUEEN. Come, come, you answer with an idle tongue.\\n\\nHAMLET. Go, go, you question with a wicked tongue.\\n\\nQUEEN. Why, how now, Hamlet?\\n\\nHAMLET. What’s the matter now?\\n\\nQUEEN. Have you forgot me?\\n\\nHAMLET. No, by the rood, not so. You are the Queen, your husband’s\\nbrother’s wife, And, would it were not so. You are my mother.\\n\\nQUEEN. Nay, then I’ll set those to you that can speak.\\n\\nHAMLET. Come, come, and sit you down, you shall not budge. You go not\\ntill I set you up a glass Where you may see the inmost part of you.\\n\\nQUEEN. What wilt thou do? Thou wilt not murder me? Help, help, ho!\\n\\nPOLONIUS. [_Behind._] What, ho! help, help, help!\\n\\nHAMLET. How now? A rat? [_Draws._] Dead for a ducat, dead!\\n\\n [_Makes a pass through the arras._]\\n\\nPOLONIUS. [_Behind._] O, I am slain!\\n\\n [_Falls and dies._]\\n\\nQUEEN. O me, what hast thou done?\\n\\nHAMLET. Nay, I know not. is it the King?\\n\\n [_Draws forth Polonius._]\\n\\nQUEEN. O what a rash and bloody deed is this!\\n\\nHAMLET. A bloody deed. Almost as bad, good mother, As kill a king and\\nmarry with his brother.\\n\\nQUEEN. As kill a king?\\n\\nHAMLET. Ay, lady, ’twas my word.— [_To Polonius._] Thou wretched, rash,\\nintruding fool, farewell! I took thee for thy better. Take thy fortune,\\nThou find’st to be too busy is some danger.— Leave wringing of your\\nhands. Peace, sit you down, And let me wring your heart, for so I\\nshall, If it be made of penetrable stuff; If damned custom have not\\nbraz’d it so, That it is proof and bulwark against sense.\\n\\nQUEEN. What have I done, that thou dar’st wag thy tongue In noise so\\nrude against me?\\n\\nHAMLET. Such an act That blurs the grace and blush of modesty, Calls\\nvirtue hypocrite, takes off the rose From the fair forehead of an\\ninnocent love, And sets a blister there. Makes marriage vows As false\\nas dicers’ oaths. O such a deed As from the body of contraction plucks\\nThe very soul, and sweet religion makes A rhapsody of words. Heaven’s\\nface doth glow, Yea this solidity and compound mass, With tristful\\nvisage, as against the doom, Is thought-sick at the act.\\n\\nQUEEN. Ay me, what act, That roars so loud, and thunders in the index?\\n\\nHAMLET. Look here upon this picture, and on this, The counterfeit\\npresentment of two brothers. See what a grace was seated on this brow,\\nHyperion’s curls, the front of Jove himself, An eye like Mars, to\\nthreaten and command, A station like the herald Mercury New lighted on\\na heaven-kissing hill: A combination and a form indeed, Where every god\\ndid seem to set his seal, To give the world assurance of a man. This\\nwas your husband. Look you now what follows. Here is your husband, like\\na mildew’d ear Blasting his wholesome brother. Have you eyes? Could you\\non this fair mountain leave to feed, And batten on this moor? Ha! have\\nyou eyes? You cannot call it love; for at your age The hey-day in the\\nblood is tame, it’s humble, And waits upon the judgment: and what\\njudgment Would step from this to this? Sense sure you have, Else could\\nyou not have motion; but sure that sense Is apoplex’d, for madness\\nwould not err Nor sense to ecstacy was ne’er so thrall’d But it\\nreserv’d some quantity of choice To serve in such a difference. What\\ndevil was’t That thus hath cozen’d you at hoodman-blind? Eyes without\\nfeeling, feeling without sight, Ears without hands or eyes, smelling\\nsans all, Or but a sickly part of one true sense Could not so mope. O\\nshame! where is thy blush? Rebellious hell, If thou canst mutine in a\\nmatron’s bones, To flaming youth let virtue be as wax, And melt in her\\nown fire. Proclaim no shame When the compulsive ardour gives the\\ncharge, Since frost itself as actively doth burn, And reason panders\\nwill.\\n\\nQUEEN. O Hamlet, speak no more. Thou turn’st mine eyes into my very\\nsoul, And there I see such black and grained spots As will not leave\\ntheir tinct.\\n\\nHAMLET. Nay, but to live In the rank sweat of an enseamed bed, Stew’d\\nin corruption, honeying and making love Over the nasty sty.\\n\\nQUEEN. O speak to me no more; These words like daggers enter in mine\\nears; No more, sweet Hamlet.\\n\\nHAMLET. A murderer and a villain; A slave that is not twentieth part\\nthe tithe Of your precedent lord. A vice of kings, A cutpurse of the\\nempire and the rule, That from a shelf the precious diadem stole And\\nput it in his pocket!\\n\\nQUEEN. No more.\\n\\nHAMLET. A king of shreds and patches!—\\n\\n Enter Ghost.\\n\\nSave me and hover o’er me with your wings, You heavenly guards! What\\nwould your gracious figure?\\n\\nQUEEN. Alas, he’s mad.\\n\\nHAMLET. Do you not come your tardy son to chide, That, laps’d in time\\nand passion, lets go by The important acting of your dread command? O\\nsay!\\n\\nGHOST. Do not forget. This visitation Is but to whet thy almost blunted\\npurpose. But look, amazement on thy mother sits. O step between her and\\nher fighting soul. Conceit in weakest bodies strongest works. Speak to\\nher, Hamlet.\\n\\nHAMLET. How is it with you, lady?\\n\\nQUEEN. Alas, how is’t with you, That you do bend your eye on vacancy,\\nAnd with the incorporal air do hold discourse? Forth at your eyes your\\nspirits wildly peep, And, as the sleeping soldiers in the alarm, Your\\nbedded hairs, like life in excrements, Start up and stand an end. O\\ngentle son, Upon the heat and flame of thy distemper Sprinkle cool\\npatience. Whereon do you look?\\n\\nHAMLET. On him, on him! Look you how pale he glares, His form and cause\\nconjoin’d, preaching to stones, Would make them capable.—Do not look\\nupon me, Lest with this piteous action you convert My stern effects.\\nThen what I have to do Will want true colour; tears perchance for\\nblood.\\n\\nQUEEN. To whom do you speak this?\\n\\nHAMLET. Do you see nothing there?\\n\\nQUEEN. Nothing at all; yet all that is I see.\\n\\nHAMLET. Nor did you nothing hear?\\n\\nQUEEN. No, nothing but ourselves.\\n\\nHAMLET. Why, look you there! look how it steals away! My father, in his\\nhabit as he liv’d! Look where he goes even now out at the portal.\\n\\n [_Exit Ghost._]\\n\\nQUEEN. This is the very coinage of your brain. This bodiless creation\\necstasy Is very cunning in.\\n\\nHAMLET. Ecstasy! My pulse as yours doth temperately keep time, And\\nmakes as healthful music. It is not madness That I have utter’d. Bring\\nme to the test, And I the matter will re-word; which madness Would\\ngambol from. Mother, for love of grace, Lay not that flattering unction\\nto your soul That not your trespass, but my madness speaks. It will but\\nskin and film the ulcerous place, Whilst rank corruption, mining all\\nwithin, Infects unseen. Confess yourself to heaven, Repent what’s past,\\navoid what is to come; And do not spread the compost on the weeds, To\\nmake them ranker. Forgive me this my virtue; For in the fatness of\\nthese pursy times Virtue itself of vice must pardon beg, Yea, curb and\\nwoo for leave to do him good.\\n\\nQUEEN. O Hamlet, thou hast cleft my heart in twain.\\n\\nHAMLET. O throw away the worser part of it, And live the purer with the\\nother half. Good night. But go not to mine uncle’s bed. Assume a\\nvirtue, if you have it not. That monster custom, who all sense doth\\neat, Of habits evil, is angel yet in this, That to the use of actions\\nfair and good He likewise gives a frock or livery That aptly is put on.\\nRefrain tonight, And that shall lend a kind of easiness To the next\\nabstinence. The next more easy; For use almost can change the stamp of\\nnature, And either curb the devil, or throw him out With wondrous\\npotency. Once more, good night, And when you are desirous to be bles’d,\\nI’ll blessing beg of you. For this same lord [_Pointing to Polonius._]\\nI do repent; but heaven hath pleas’d it so, To punish me with this, and\\nthis with me, That I must be their scourge and minister. I will bestow\\nhim, and will answer well The death I gave him. So again, good night. I\\nmust be cruel, only to be kind: Thus bad begins, and worse remains\\nbehind. One word more, good lady.\\n\\nQUEEN. What shall I do?\\n\\nHAMLET. Not this, by no means, that I bid you do: Let the bloat King\\ntempt you again to bed, Pinch wanton on your cheek, call you his mouse,\\nAnd let him, for a pair of reechy kisses, Or paddling in your neck with\\nhis damn’d fingers, Make you to ravel all this matter out, That I\\nessentially am not in madness, But mad in craft. ’Twere good you let\\nhim know, For who that’s but a queen, fair, sober, wise, Would from a\\npaddock, from a bat, a gib, Such dear concernings hide? Who would do\\nso? No, in despite of sense and secrecy, Unpeg the basket on the\\nhouse’s top, Let the birds fly, and like the famous ape, To try\\nconclusions, in the basket creep And break your own neck down.\\n\\nQUEEN. Be thou assur’d, if words be made of breath, And breath of life,\\nI have no life to breathe What thou hast said to me.\\n\\nHAMLET. I must to England, you know that?\\n\\nQUEEN. Alack, I had forgot. ’Tis so concluded on.\\n\\nHAMLET. There’s letters seal’d: and my two schoolfellows, Whom I will\\ntrust as I will adders fang’d,— They bear the mandate, they must sweep\\nmy way And marshal me to knavery. Let it work; For ’tis the sport to\\nhave the enginer Hoist with his own petard, and ’t shall go hard But I\\nwill delve one yard below their mines And blow them at the moon. O,\\n’tis most sweet, When in one line two crafts directly meet. This man\\nshall set me packing. I’ll lug the guts into the neighbour room.\\nMother, good night. Indeed, this counsellor Is now most still, most\\nsecret, and most grave, Who was in life a foolish peating knave. Come,\\nsir, to draw toward an end with you. Good night, mother.\\n\\n [_Exit Hamlet dragging out Polonius._]\\n\\n\\n\\nACT IV\\n\\nSCENE I. A room in the Castle.\\n\\n Enter King, Queen, Rosencrantz and Guildenstern.\\n\\nKING. There’s matter in these sighs. These profound heaves You must\\ntranslate. ’tis fit we understand them. Where is your son?\\n\\nQUEEN. Bestow this place on us a little while.\\n\\n [_To Rosencrantz and Guildenstern, who go out._]\\n\\nAh, my good lord, what have I seen tonight!\\n\\nKING. What, Gertrude? How does Hamlet?\\n\\nQUEEN. Mad as the sea and wind, when both contend Which is the\\nmightier. In his lawless fit Behind the arras hearing something stir,\\nWhips out his rapier, cries ‘A rat, a rat!’ And in this brainish\\napprehension kills The unseen good old man.\\n\\nKING. O heavy deed! It had been so with us, had we been there. His\\nliberty is full of threats to all; To you yourself, to us, to everyone.\\nAlas, how shall this bloody deed be answer’d? It will be laid to us,\\nwhose providence Should have kept short, restrain’d, and out of haunt\\nThis mad young man. But so much was our love We would not understand\\nwhat was most fit, But like the owner of a foul disease, To keep it\\nfrom divulging, let it feed Even on the pith of life. Where is he gone?\\n\\nQUEEN. To draw apart the body he hath kill’d, O’er whom his very\\nmadness, like some ore Among a mineral of metals base, Shows itself\\npure. He weeps for what is done.\\n\\nKING. O Gertrude, come away! The sun no sooner shall the mountains\\ntouch But we will ship him hence, and this vile deed We must with all\\nour majesty and skill Both countenance and excuse.—Ho, Guildenstern!\\n\\n Re-enter Rosencrantz and Guildenstern.\\n\\nFriends both, go join you with some further aid: Hamlet in madness hath\\nPolonius slain, And from his mother’s closet hath he dragg’d him. Go\\nseek him out, speak fair, and bring the body Into the chapel. I pray\\nyou haste in this.\\n\\n [_Exeunt Rosencrantz and Guildenstern._]\\n\\nCome, Gertrude, we’ll call up our wisest friends, And let them know\\nboth what we mean to do And what’s untimely done, so haply slander,\\nWhose whisper o’er the world’s diameter, As level as the cannon to his\\nblank, Transports his poison’d shot, may miss our name, And hit the\\nwoundless air. O, come away! My soul is full of discord and dismay.\\n\\n [_Exeunt._]\\n\\nSCENE II. Another room in the Castle.\\n\\n Enter Hamlet.\\n\\nHAMLET. Safely stowed.\\n\\nROSENCRANTZ and GUILDENSTERN. [_Within._] Hamlet! Lord Hamlet!\\n\\nHAMLET. What noise? Who calls on Hamlet? O, here they come.\\n\\n Enter Rosencrantz and Guildenstern.\\n\\nROSENCRANTZ. What have you done, my lord, with the dead body?\\n\\nHAMLET. Compounded it with dust, whereto ’tis kin.\\n\\nROSENCRANTZ. Tell us where ’tis, that we may take it thence, And bear\\nit to the chapel.\\n\\nHAMLET. Do not believe it.\\n\\nROSENCRANTZ. Believe what?\\n\\nHAMLET. That I can keep your counsel, and not mine own. Besides, to be\\ndemanded of a sponge—what replication should be made by the son of a\\nking?\\n\\nROSENCRANTZ. Take you me for a sponge, my lord?\\n\\nHAMLET. Ay, sir; that soaks up the King’s countenance, his rewards, his\\nauthorities. But such officers do the King best service in the end: he\\nkeeps them, like an ape, in the corner of his jaw; first mouthed, to be\\nlast swallowed: when he needs what you have gleaned, it is but\\nsqueezing you, and, sponge, you shall be dry again.\\n\\nROSENCRANTZ. I understand you not, my lord.\\n\\nHAMLET. I am glad of it. A knavish speech sleeps in a foolish ear.\\n\\nROSENCRANTZ. My lord, you must tell us where the body is and go with us\\nto the King.\\n\\nHAMLET. The body is with the King, but the King is not with the body.\\nThe King is a thing—\\n\\nGUILDENSTERN. A thing, my lord!\\n\\nHAMLET. Of nothing. Bring me to him. Hide fox, and all after.\\n\\n [_Exeunt._]\\n\\nSCENE III. Another room in the Castle.\\n\\n Enter King, attended.\\n\\nKING. I have sent to seek him and to find the body. How dangerous is it\\nthat this man goes loose! Yet must not we put the strong law on him:\\nHe’s lov’d of the distracted multitude, Who like not in their judgment,\\nbut their eyes; And where ’tis so, th’offender’s scourge is weigh’d,\\nBut never the offence. To bear all smooth and even, This sudden sending\\nhim away must seem Deliberate pause. Diseases desperate grown By\\ndesperate appliance are reliev’d, Or not at all.\\n\\n Enter Rosencrantz.\\n\\nHow now? What hath befall’n?\\n\\nROSENCRANTZ. Where the dead body is bestow’d, my lord, We cannot get\\nfrom him.\\n\\nKING. But where is he?\\n\\nROSENCRANTZ. Without, my lord, guarded, to know your pleasure.\\n\\nKING. Bring him before us.\\n\\nROSENCRANTZ. Ho, Guildenstern! Bring in my lord.\\n\\n Enter Hamlet and Guildenstern.\\n\\nKING. Now, Hamlet, where’s Polonius?\\n\\nHAMLET. At supper.\\n\\nKING. At supper? Where?\\n\\nHAMLET. Not where he eats, but where he is eaten. A certain convocation\\nof politic worms are e’en at him. Your worm is your only emperor for\\ndiet. We fat all creatures else to fat us, and we fat ourselves for\\nmaggots. Your fat king and your lean beggar is but variable\\nservice,—two dishes, but to one table. That’s the end.\\n\\nKING. Alas, alas!\\n\\nHAMLET. A man may fish with the worm that hath eat of a king, and eat\\nof the fish that hath fed of that worm.\\n\\nKING. What dost thou mean by this?\\n\\nHAMLET. Nothing but to show you how a king may go a progress through\\nthe guts of a beggar.\\n\\nKING. Where is Polonius?\\n\\nHAMLET. In heaven. Send thither to see. If your messenger find him not\\nthere, seek him i’ th’other place yourself. But indeed, if you find him\\nnot within this month, you shall nose him as you go up the stairs into\\nthe lobby.\\n\\nKING. [_To some Attendants._] Go seek him there.\\n\\nHAMLET. He will stay till you come.\\n\\n [_Exeunt Attendants._]\\n\\nKING. Hamlet, this deed, for thine especial safety,— Which we do\\ntender, as we dearly grieve For that which thou hast done,—must send\\nthee hence With fiery quickness. Therefore prepare thyself; The bark is\\nready, and the wind at help, Th’associates tend, and everything is bent\\nFor England.\\n\\nHAMLET. For England?\\n\\nKING. Ay, Hamlet.\\n\\nHAMLET. Good.\\n\\nKING. So is it, if thou knew’st our purposes.\\n\\nHAMLET. I see a cherub that sees them. But, come; for England!\\nFarewell, dear mother.\\n\\nKING. Thy loving father, Hamlet.\\n\\nHAMLET. My mother. Father and mother is man and wife; man and wife is\\none flesh; and so, my mother. Come, for England.\\n\\n [_Exit._]\\n\\nKING. Follow him at foot. Tempt him with speed aboard; Delay it not;\\nI’ll have him hence tonight. Away, for everything is seal’d and done\\nThat else leans on th’affair. Pray you make haste.\\n\\n [_Exeunt Rosencrantz and Guildenstern._]\\n\\nAnd England, if my love thou hold’st at aught,— As my great power\\nthereof may give thee sense, Since yet thy cicatrice looks raw and red\\nAfter the Danish sword, and thy free awe Pays homage to us,—thou mayst\\nnot coldly set Our sovereign process, which imports at full, By letters\\nconjuring to that effect, The present death of Hamlet. Do it, England;\\nFor like the hectic in my blood he rages, And thou must cure me. Till I\\nknow ’tis done, Howe’er my haps, my joys were ne’er begun.\\n\\n [_Exit._]\\n\\nSCENE IV. A plain in Denmark.\\n\\n Enter Fortinbras and Forces marching.\\n\\nFORTINBRAS. Go, Captain, from me greet the Danish king. Tell him that\\nby his license, Fortinbras Craves the conveyance of a promis’d march\\nOver his kingdom. You know the rendezvous. If that his Majesty would\\naught with us, We shall express our duty in his eye; And let him know\\nso.\\n\\nCAPTAIN. I will do’t, my lord.\\n\\nFORTINBRAS. Go softly on.\\n\\n [_Exeunt all but the Captain._]\\n\\n Enter Hamlet, Rosencrantz, Guildenstern &c.\\n\\nHAMLET. Good sir, whose powers are these?\\n\\nCAPTAIN. They are of Norway, sir.\\n\\nHAMLET. How purpos’d, sir, I pray you?\\n\\nCAPTAIN. Against some part of Poland.\\n\\nHAMLET. Who commands them, sir?\\n\\nCAPTAIN. The nephew to old Norway, Fortinbras.\\n\\nHAMLET. Goes it against the main of Poland, sir, Or for some frontier?\\n\\nCAPTAIN. Truly to speak, and with no addition, We go to gain a little\\npatch of ground That hath in it no profit but the name. To pay five\\nducats, five, I would not farm it; Nor will it yield to Norway or the\\nPole A ranker rate, should it be sold in fee.\\n\\nHAMLET. Why, then the Polack never will defend it.\\n\\nCAPTAIN. Yes, it is already garrison’d.\\n\\nHAMLET. Two thousand souls and twenty thousand ducats Will not debate\\nthe question of this straw! This is th’imposthume of much wealth and\\npeace, That inward breaks, and shows no cause without Why the man dies.\\nI humbly thank you, sir.\\n\\nCAPTAIN. God b’ wi’ you, sir.\\n\\n [_Exit._]\\n\\nROSENCRANTZ. Will’t please you go, my lord?\\n\\nHAMLET. I’ll be with you straight. Go a little before.\\n\\n [_Exeunt all but Hamlet._]\\n\\nHow all occasions do inform against me, And spur my dull revenge. What\\nis a man If his chief good and market of his time Be but to sleep and\\nfeed? A beast, no more. Sure he that made us with such large discourse,\\nLooking before and after, gave us not That capability and godlike\\nreason To fust in us unus’d. Now whether it be Bestial oblivion, or\\nsome craven scruple Of thinking too precisely on th’event,— A thought\\nwhich, quarter’d, hath but one part wisdom And ever three parts\\ncoward,—I do not know Why yet I live to say this thing’s to do, Sith I\\nhave cause, and will, and strength, and means To do’t. Examples gross\\nas earth exhort me, Witness this army of such mass and charge, Led by a\\ndelicate and tender prince, Whose spirit, with divine ambition puff’d,\\nMakes mouths at the invisible event, Exposing what is mortal and unsure\\nTo all that fortune, death, and danger dare, Even for an eggshell.\\nRightly to be great Is not to stir without great argument, But greatly\\nto find quarrel in a straw When honour’s at the stake. How stand I\\nthen, That have a father kill’d, a mother stain’d, Excitements of my\\nreason and my blood, And let all sleep, while to my shame I see The\\nimminent death of twenty thousand men That, for a fantasy and trick of\\nfame, Go to their graves like beds, fight for a plot Whereon the\\nnumbers cannot try the cause, Which is not tomb enough and continent To\\nhide the slain? O, from this time forth, My thoughts be bloody or be\\nnothing worth.\\n\\n [_Exit._]\\n\\nSCENE V. Elsinore. A room in the Castle.\\n\\n Enter Queen, Horatio and a Gentleman.\\n\\nQUEEN. I will not speak with her.\\n\\nGENTLEMAN. She is importunate, indeed distract. Her mood will needs be\\npitied.\\n\\nQUEEN. What would she have?\\n\\nGENTLEMAN. She speaks much of her father; says she hears There’s tricks\\ni’ th’ world, and hems, and beats her heart, Spurns enviously at\\nstraws, speaks things in doubt, That carry but half sense. Her speech\\nis nothing, Yet the unshaped use of it doth move The hearers to\\ncollection; they aim at it, And botch the words up fit to their own\\nthoughts, Which, as her winks, and nods, and gestures yield them,\\nIndeed would make one think there might be thought, Though nothing\\nsure, yet much unhappily. ’Twere good she were spoken with, for she may\\nstrew Dangerous conjectures in ill-breeding minds.\\n\\nQUEEN. Let her come in.\\n\\n [_Exit Gentleman._]\\n\\nTo my sick soul, as sin’s true nature is, Each toy seems prologue to\\nsome great amiss. So full of artless jealousy is guilt, It spills\\nitself in fearing to be spilt.\\n\\n Enter Ophelia.\\n\\nOPHELIA. Where is the beauteous Majesty of Denmark?\\n\\nQUEEN. How now, Ophelia?\\n\\nOPHELIA. [_Sings._] How should I your true love know From another one?\\nBy his cockle bat and staff And his sandal shoon.\\n\\nQUEEN. Alas, sweet lady, what imports this song?\\n\\nOPHELIA. Say you? Nay, pray you mark. [_Sings._] He is dead and gone,\\nlady, He is dead and gone, At his head a grass green turf, At his heels\\na stone.\\n\\nQUEEN. Nay, but Ophelia—\\n\\nOPHELIA. Pray you mark. [_Sings._] White his shroud as the mountain\\nsnow.\\n\\n Enter King.\\n\\nQUEEN. Alas, look here, my lord!\\n\\nOPHELIA. [_Sings._] Larded all with sweet flowers; Which bewept to the\\ngrave did go With true-love showers.\\n\\nKING. How do you, pretty lady?\\n\\nOPHELIA. Well, God dild you! They say the owl was a baker’s daughter.\\nLord, we know what we are, but know not what we may be. God be at your\\ntable!\\n\\nKING. Conceit upon her father.\\n\\nOPHELIA. Pray you, let’s have no words of this; but when they ask you\\nwhat it means, say you this: [_Sings._] Tomorrow is Saint Valentine’s\\nday, All in the morning betime, And I a maid at your window, To be your\\nValentine.\\n\\n   Then up he rose and donn’d his clothes, And dupp’d the chamber door,\\n   Let in the maid, that out a maid Never departed more.\\n\\nKING. Pretty Ophelia!\\n\\nOPHELIA. Indeed la, without an oath, I’ll make an end on’t. [_Sings._]\\nBy Gis and by Saint Charity, Alack, and fie for shame! Young men will\\ndo’t if they come to’t; By Cock, they are to blame.\\n\\n   Quoth she, before you tumbled me, You promis’d me to wed. So would I\\n   ha’ done, by yonder sun, An thou hadst not come to my bed.\\n\\nKING. How long hath she been thus?\\n\\nOPHELIA. I hope all will be well. We must be patient. But I cannot\\nchoose but weep, to think they would lay him i’ th’ cold ground. My\\nbrother shall know of it. And so I thank you for your good counsel.\\nCome, my coach! Good night, ladies; good night, sweet ladies; good\\nnight, good night.\\n\\n [_Exit._]\\n\\nKING. Follow her close; give her good watch, I pray you.\\n\\n [_Exit Horatio._]\\n\\nO, this is the poison of deep grief; it springs All from her father’s\\ndeath. O Gertrude, Gertrude, When sorrows come, they come not single\\nspies, But in battalions. First, her father slain; Next, your son gone;\\nand he most violent author Of his own just remove; the people muddied,\\nThick and and unwholesome in their thoughts and whispers For good\\nPolonius’ death; and we have done but greenly In hugger-mugger to inter\\nhim. Poor Ophelia Divided from herself and her fair judgment, Without\\nthe which we are pictures or mere beasts. Last, and as much containing\\nas all these, Her brother is in secret come from France, Feeds on his\\nwonder, keeps himself in clouds, And wants not buzzers to infect his\\near With pestilent speeches of his father’s death, Wherein necessity,\\nof matter beggar’d, Will nothing stick our person to arraign In ear and\\near. O my dear Gertrude, this, Like to a murdering piece, in many\\nplaces Gives me superfluous death.\\n\\n [_A noise within._]\\n\\nQUEEN. Alack, what noise is this?\\n\\nKING. Where are my Switzers? Let them guard the door.\\n\\n Enter a Gentleman.\\n\\nWhat is the matter?\\n\\nGENTLEMAN. Save yourself, my lord. The ocean, overpeering of his list,\\nEats not the flats with more impetuous haste Than young Laertes, in a\\nriotous head, O’erbears your offices. The rabble call him lord, And, as\\nthe world were now but to begin, Antiquity forgot, custom not known,\\nThe ratifiers and props of every word, They cry ‘Choose we! Laertes\\nshall be king!’ Caps, hands, and tongues applaud it to the clouds,\\n‘Laertes shall be king, Laertes king.’\\n\\nQUEEN. How cheerfully on the false trail they cry. O, this is counter,\\nyou false Danish dogs.\\n\\n [_A noise within._]\\n\\nKING. The doors are broke.\\n\\n Enter Laertes, armed; Danes following.\\n\\nLAERTES. Where is this king?—Sirs, stand you all without.\\n\\nDanes. No, let’s come in.\\n\\nLAERTES. I pray you, give me leave.\\n\\nDANES. We will, we will.\\n\\n [_They retire without the door._]\\n\\nLAERTES. I thank you. Keep the door. O thou vile king, Give me my\\nfather.\\n\\nQUEEN. Calmly, good Laertes.\\n\\nLAERTES. That drop of blood that’s calm proclaims me bastard; Cries\\ncuckold to my father, brands the harlot Even here between the chaste\\nunsmirched brow Of my true mother.\\n\\nKING. What is the cause, Laertes, That thy rebellion looks so\\ngiant-like?— Let him go, Gertrude. Do not fear our person. There’s such\\ndivinity doth hedge a king, That treason can but peep to what it would,\\nActs little of his will.—Tell me, Laertes, Why thou art thus\\nincens’d.—Let him go, Gertrude:— Speak, man.\\n\\nLAERTES. Where is my father?\\n\\nKING. Dead.\\n\\nQUEEN. But not by him.\\n\\nKING. Let him demand his fill.\\n\\nLAERTES. How came he dead? I’ll not be juggled with. To hell,\\nallegiance! Vows, to the blackest devil! Conscience and grace, to the\\nprofoundest pit! I dare damnation. To this point I stand, That both the\\nworlds, I give to negligence, Let come what comes; only I’ll be\\nreveng’d Most throughly for my father.\\n\\nKING. Who shall stay you?\\n\\nLAERTES. My will, not all the world. And for my means, I’ll husband\\nthem so well, They shall go far with little.\\n\\nKING. Good Laertes, If you desire to know the certainty Of your dear\\nfather’s death, is’t writ in your revenge That, sweepstake, you will\\ndraw both friend and foe, Winner and loser?\\n\\nLAERTES. None but his enemies.\\n\\nKING. Will you know them then?\\n\\nLAERTES. To his good friends thus wide I’ll ope my arms; And, like the\\nkind life-rendering pelican, Repast them with my blood.\\n\\nKING. Why, now you speak Like a good child and a true gentleman. That I\\nam guiltless of your father’s death, And am most sensibly in grief for\\nit, It shall as level to your judgment ’pear As day does to your eye.\\n\\nDANES. [_Within._] Let her come in.\\n\\nLAERTES. How now! What noise is that?\\n\\n Re-enter Ophelia, fantastically dressed with straws and flowers.\\n\\nO heat, dry up my brains. Tears seven times salt, Burn out the sense\\nand virtue of mine eye. By heaven, thy madness shall be paid by weight,\\nTill our scale turn the beam. O rose of May! Dear maid, kind sister,\\nsweet Ophelia! O heavens, is’t possible a young maid’s wits Should be\\nas mortal as an old man’s life? Nature is fine in love, and where ’tis\\nfine, It sends some precious instance of itself After the thing it\\nloves.\\n\\nOPHELIA. [_Sings._] They bore him barefac’d on the bier, Hey no nonny,\\nnonny, hey nonny And on his grave rain’d many a tear.— Fare you well,\\nmy dove!\\n\\nLAERTES. Hadst thou thy wits, and didst persuade revenge, It could not\\nmove thus.\\n\\nOPHELIA. You must sing ‘Down a-down, and you call him a-down-a.’ O, how\\nthe wheel becomes it! It is the false steward that stole his master’s\\ndaughter.\\n\\nLAERTES. This nothing’s more than matter.\\n\\nOPHELIA. There’s rosemary, that’s for remembrance; pray love, remember.\\nAnd there is pansies, that’s for thoughts.\\n\\nLAERTES. A document in madness, thoughts and remembrance fitted.\\n\\nOPHELIA. There’s fennel for you, and columbines. There’s rue for you;\\nand here’s some for me. We may call it herb of grace o’ Sundays. O you\\nmust wear your rue with a difference. There’s a daisy. I would give you\\nsome violets, but they wither’d all when my father died. They say he\\nmade a good end. [_Sings._] For bonny sweet Robin is all my joy.\\n\\nLAERTES. Thought and affliction, passion, hell itself She turns to\\nfavour and to prettiness.\\n\\nOPHELIA. [_Sings._] And will he not come again? And will he not come\\nagain? No, no, he is dead, Go to thy death-bed, He never will come\\nagain.\\n\\n   His beard was as white as snow, All flaxen was his poll. He is gone,\\n   he is gone, And we cast away moan. God ha’ mercy on his soul.\\n\\nAnd of all Christian souls, I pray God. God b’ wi’ ye.\\n\\n [_Exit._]\\n\\nLAERTES. Do you see this, O God?\\n\\nKING. Laertes, I must commune with your grief, Or you deny me right. Go\\nbut apart, Make choice of whom your wisest friends you will, And they\\nshall hear and judge ’twixt you and me. If by direct or by collateral\\nhand They find us touch’d, we will our kingdom give, Our crown, our\\nlife, and all that we call ours To you in satisfaction; but if not, Be\\nyou content to lend your patience to us, And we shall jointly labour\\nwith your soul To give it due content.\\n\\nLAERTES. Let this be so; His means of death, his obscure burial,— No\\ntrophy, sword, nor hatchment o’er his bones, No noble rite, nor formal\\nostentation,— Cry to be heard, as ’twere from heaven to earth, That I\\nmust call’t in question.\\n\\nKING. So you shall. And where th’offence is let the great axe fall. I\\npray you go with me.\\n\\n [_Exeunt._]\\n\\nSCENE VI. Another room in the Castle.\\n\\n Enter Horatio and a Servant.\\n\\nHORATIO. What are they that would speak with me?\\n\\nSERVANT. Sailors, sir. They say they have letters for you.\\n\\nHORATIO. Let them come in.\\n\\n [_Exit Servant._]\\n\\nI do not know from what part of the world I should be greeted, if not\\nfrom Lord Hamlet.\\n\\n Enter Sailors.\\n\\nFIRST SAILOR. God bless you, sir.\\n\\nHORATIO. Let him bless thee too.\\n\\nFIRST SAILOR. He shall, sir, and’t please him. There’s a letter for\\nyou, sir. It comes from th’ambassador that was bound for England; if\\nyour name be Horatio, as I am let to know it is.\\n\\nHORATIO. [_Reads._] ‘Horatio, when thou shalt have overlooked this,\\ngive these fellows some means to the King. They have letters for him.\\nEre we were two days old at sea, a pirate of very warlike appointment\\ngave us chase. Finding ourselves too slow of sail, we put on a\\ncompelled valour, and in the grapple I boarded them. On the instant\\nthey got clear of our ship, so I alone became their prisoner. They have\\ndealt with me like thieves of mercy. But they knew what they did; I am\\nto do a good turn for them. Let the King have the letters I have sent,\\nand repair thou to me with as much haste as thou wouldst fly death. I\\nhave words to speak in thine ear will make thee dumb; yet are they much\\ntoo light for the bore of the matter. These good fellows will bring\\nthee where I am. Rosencrantz and Guildenstern hold their course for\\nEngland: of them I have much to tell thee. Farewell. He that thou\\nknowest thine, HAMLET.’\\n\\nCome, I will give you way for these your letters, And do’t the\\nspeedier, that you may direct me To him from whom you brought them.\\n\\n [_Exeunt._]\\n\\nSCENE VII. Another room in the Castle.\\n\\n Enter King and Laertes.\\n\\nKING. Now must your conscience my acquittance seal, And you must put me\\nin your heart for friend, Sith you have heard, and with a knowing ear,\\nThat he which hath your noble father slain Pursu’d my life.\\n\\nLAERTES. It well appears. But tell me Why you proceeded not against\\nthese feats, So crimeful and so capital in nature, As by your safety,\\nwisdom, all things else, You mainly were stirr’d up.\\n\\nKING. O, for two special reasons, Which may to you, perhaps, seem much\\nunsinew’d, But yet to me they are strong. The Queen his mother Lives\\nalmost by his looks; and for myself,— My virtue or my plague, be it\\neither which,— She’s so conjunctive to my life and soul, That, as the\\nstar moves not but in his sphere, I could not but by her. The other\\nmotive, Why to a public count I might not go, Is the great love the\\ngeneral gender bear him, Who, dipping all his faults in their\\naffection, Would like the spring that turneth wood to stone, Convert\\nhis gyves to graces; so that my arrows, Too slightly timber’d for so\\nloud a wind, Would have reverted to my bow again, And not where I had\\naim’d them.\\n\\nLAERTES. And so have I a noble father lost, A sister driven into\\ndesperate terms, Whose worth, if praises may go back again, Stood\\nchallenger on mount of all the age For her perfections. But my revenge\\nwill come.\\n\\nKING. Break not your sleeps for that. You must not think That we are\\nmade of stuff so flat and dull That we can let our beard be shook with\\ndanger, And think it pastime. You shortly shall hear more. I lov’d your\\nfather, and we love ourself, And that, I hope, will teach you to\\nimagine—\\n\\n Enter a Messenger.\\n\\nHow now? What news?\\n\\nMESSENGER. Letters, my lord, from Hamlet. This to your Majesty; this to\\nthe Queen.\\n\\nKING. From Hamlet! Who brought them?\\n\\nMESSENGER. Sailors, my lord, they say; I saw them not. They were given\\nme by Claudio. He receiv’d them Of him that brought them.\\n\\nKING. Laertes, you shall hear them. Leave us.\\n\\n [_Exit Messenger._]\\n\\n[_Reads._] ‘High and mighty, you shall know I am set naked on your\\nkingdom. Tomorrow shall I beg leave to see your kingly eyes. When I\\nshall, first asking your pardon thereunto, recount the occasions of my\\nsudden and more strange return. HAMLET.’\\n\\nWhat should this mean? Are all the rest come back? Or is it some abuse,\\nand no such thing?\\n\\nLAERTES. Know you the hand?\\n\\nKING. ’Tis Hamlet’s character. ’Naked!’ And in a postscript here he\\nsays ‘alone.’ Can you advise me?\\n\\nLAERTES. I am lost in it, my lord. But let him come, It warms the very\\nsickness in my heart That I shall live and tell him to his teeth, ‘Thus\\ndiest thou.’\\n\\nKING. If it be so, Laertes,— As how should it be so? How otherwise?—\\nWill you be rul’d by me?\\n\\nLAERTES. Ay, my lord; So you will not o’errule me to a peace.\\n\\nKING. To thine own peace. If he be now return’d, As checking at his\\nvoyage, and that he means No more to undertake it, I will work him To\\nexploit, now ripe in my device, Under the which he shall not choose but\\nfall; And for his death no wind shall breathe, But even his mother\\nshall uncharge the practice And call it accident.\\n\\nLAERTES. My lord, I will be rul’d; The rather if you could devise it so\\nThat I might be the organ.\\n\\nKING. It falls right. You have been talk’d of since your travel much,\\nAnd that in Hamlet’s hearing, for a quality Wherein they say you shine.\\nYour sum of parts Did not together pluck such envy from him As did that\\none, and that, in my regard, Of the unworthiest siege.\\n\\nLAERTES. What part is that, my lord?\\n\\nKING. A very riband in the cap of youth, Yet needful too, for youth no\\nless becomes The light and careless livery that it wears Than settled\\nage his sables and his weeds, Importing health and graveness. Two\\nmonths since Here was a gentleman of Normandy,— I’ve seen myself, and\\nserv’d against, the French, And they can well on horseback, but this\\ngallant Had witchcraft in’t. He grew unto his seat, And to such\\nwondrous doing brought his horse, As had he been incorps’d and\\ndemi-natur’d With the brave beast. So far he topp’d my thought That I\\nin forgery of shapes and tricks, Come short of what he did.\\n\\nLAERTES. A Norman was’t?\\n\\nKING. A Norman.\\n\\nLAERTES. Upon my life, Lamond.\\n\\nKING. The very same.\\n\\nLAERTES. I know him well. He is the brooch indeed And gem of all the\\nnation.\\n\\nKING. He made confession of you, And gave you such a masterly report\\nFor art and exercise in your defence, And for your rapier most\\nespecially, That he cried out ’twould be a sight indeed If one could\\nmatch you. The scrimers of their nation He swore had neither motion,\\nguard, nor eye, If you oppos’d them. Sir, this report of his Did Hamlet\\nso envenom with his envy That he could nothing do but wish and beg Your\\nsudden coming o’er to play with him. Now, out of this,—\\n\\nLAERTES. What out of this, my lord?\\n\\nKING. Laertes, was your father dear to you? Or are you like the\\npainting of a sorrow, A face without a heart?\\n\\nLAERTES. Why ask you this?\\n\\nKING. Not that I think you did not love your father, But that I know\\nlove is begun by time, And that I see, in passages of proof, Time\\nqualifies the spark and fire of it. There lives within the very flame\\nof love A kind of wick or snuff that will abate it; And nothing is at a\\nlike goodness still, For goodness, growing to a pleurisy, Dies in his\\nown too much. That we would do, We should do when we would; for this\\n‘would’ changes, And hath abatements and delays as many As there are\\ntongues, are hands, are accidents; And then this ‘should’ is like a\\nspendthrift sigh That hurts by easing. But to the quick o’ th’ulcer:\\nHamlet comes back: what would you undertake To show yourself your\\nfather’s son in deed, More than in words?\\n\\nLAERTES. To cut his throat i’ th’ church.\\n\\nKING. No place, indeed, should murder sanctuarize; Revenge should have\\nno bounds. But good Laertes, Will you do this, keep close within your\\nchamber. Hamlet return’d shall know you are come home: We’ll put on\\nthose shall praise your excellence, And set a double varnish on the\\nfame The Frenchman gave you, bring you in fine together And wager on\\nyour heads. He, being remiss, Most generous, and free from all\\ncontriving, Will not peruse the foils; so that with ease, Or with a\\nlittle shuffling, you may choose A sword unbated, and in a pass of\\npractice, Requite him for your father.\\n\\nLAERTES. I will do’t. And for that purpose I’ll anoint my sword. I\\nbought an unction of a mountebank So mortal that, but dip a knife in\\nit, Where it draws blood no cataplasm so rare, Collected from all\\nsimples that have virtue Under the moon, can save the thing from death\\nThis is but scratch’d withal. I’ll touch my point With this contagion,\\nthat if I gall him slightly, It may be death.\\n\\nKING. Let’s further think of this, Weigh what convenience both of time\\nand means May fit us to our shape. If this should fail, And that our\\ndrift look through our bad performance. ’Twere better not assay’d.\\nTherefore this project Should have a back or second, that might hold If\\nthis did blast in proof. Soft, let me see. We’ll make a solemn wager on\\nyour cunnings,— I ha’t! When in your motion you are hot and dry, As\\nmake your bouts more violent to that end, And that he calls for drink,\\nI’ll have prepar’d him A chalice for the nonce; whereon but sipping, If\\nhe by chance escape your venom’d stuck, Our purpose may hold there.\\n\\n Enter Queen.\\n\\nHow now, sweet Queen?\\n\\nQUEEN. One woe doth tread upon another’s heel, So fast they follow.\\nYour sister’s drown’d, Laertes.\\n\\nLAERTES. Drown’d! O, where?\\n\\nQUEEN. There is a willow grows aslant a brook, That shows his hoary\\nleaves in the glassy stream. There with fantastic garlands did she make\\nOf crow-flowers, nettles, daisies, and long purples, That liberal\\nshepherds give a grosser name, But our cold maids do dead men’s fingers\\ncall them. There on the pendant boughs her coronet weeds Clamb’ring to\\nhang, an envious sliver broke, When down her weedy trophies and herself\\nFell in the weeping brook. Her clothes spread wide, And mermaid-like,\\nawhile they bore her up, Which time she chaunted snatches of old tunes,\\nAs one incapable of her own distress, Or like a creature native and\\nindued Unto that element. But long it could not be Till that her\\ngarments, heavy with their drink, Pull’d the poor wretch from her\\nmelodious lay To muddy death.\\n\\nLAERTES. Alas, then she is drown’d?\\n\\nQUEEN. Drown’d, drown’d.\\n\\nLAERTES. Too much of water hast thou, poor Ophelia, And therefore I\\nforbid my tears. But yet It is our trick; nature her custom holds, Let\\nshame say what it will. When these are gone, The woman will be out.\\nAdieu, my lord, I have a speech of fire, that fain would blaze, But\\nthat this folly douts it.\\n\\n [_Exit._]\\n\\nKING. Let’s follow, Gertrude; How much I had to do to calm his rage!\\nNow fear I this will give it start again; Therefore let’s follow.\\n\\n [_Exeunt._]\\n\\n\\n\\nACT V\\n\\nSCENE I. A churchyard.\\n\\n Enter two Clowns with spades, &c.\\n\\nFIRST CLOWN. Is she to be buried in Christian burial, when she wilfully\\nseeks her own salvation?\\n\\nSECOND CLOWN. I tell thee she is, and therefore make her grave\\nstraight. The crowner hath sat on her, and finds it Christian burial.\\n\\nFIRST CLOWN. How can that be, unless she drowned herself in her own\\ndefence?\\n\\nSECOND CLOWN. Why, ’tis found so.\\n\\nFIRST CLOWN. It must be _se offendendo_, it cannot be else. For here\\nlies the point: if I drown myself wittingly, it argues an act: and an\\nact hath three branches. It is to act, to do, and to perform: argal,\\nshe drowned herself wittingly.\\n\\nSECOND CLOWN. Nay, but hear you, goodman delver,—\\n\\nFIRST CLOWN. Give me leave. Here lies the water; good. Here stands the\\nman; good. If the man go to this water and drown himself, it is, will\\nhe nill he, he goes,—mark you that. But if the water come to him and\\ndrown him, he drowns not himself. Argal, he that is not guilty of his\\nown death shortens not his own life.\\n\\nSECOND CLOWN. But is this law?\\n\\nFIRST CLOWN. Ay, marry, is’t, crowner’s quest law.\\n\\nSECOND CLOWN. Will you ha’ the truth on’t? If this had not been a\\ngentlewoman, she should have been buried out o’ Christian burial.\\n\\nFIRST CLOWN. Why, there thou say’st. And the more pity that great folk\\nshould have countenance in this world to drown or hang themselves more\\nthan their even Christian. Come, my spade. There is no ancient\\ngentlemen but gardeners, ditchers, and grave-makers: they hold up\\nAdam’s profession.\\n\\nSECOND CLOWN. Was he a gentleman?\\n\\nFIRST CLOWN. He was the first that ever bore arms.\\n\\nSECOND CLOWN. Why, he had none.\\n\\nFIRST CLOWN. What, art a heathen? How dost thou understand the\\nScripture? The Scripture says Adam digg’d. Could he dig without arms?\\nI’ll put another question to thee. If thou answerest me not to the\\npurpose, confess thyself—\\n\\nSECOND CLOWN. Go to.\\n\\nFIRST CLOWN. What is he that builds stronger than either the mason, the\\nshipwright, or the carpenter?\\n\\nSECOND CLOWN. The gallows-maker; for that frame outlives a thousand\\ntenants.\\n\\nFIRST CLOWN. I like thy wit well in good faith, the gallows does well.\\nBut how does it well? It does well to those that do ill. Now, thou dost\\nill to say the gallows is built stronger than the church; argal, the\\ngallows may do well to thee. To’t again, come.\\n\\nSECOND CLOWN. Who builds stronger than a mason, a shipwright, or a\\ncarpenter?\\n\\nFIRST CLOWN. Ay, tell me that, and unyoke.\\n\\nSECOND CLOWN. Marry, now I can tell.\\n\\nFIRST CLOWN. To’t.\\n\\nSECOND CLOWN. Mass, I cannot tell.\\n\\n Enter Hamlet and Horatio, at a distance.\\n\\nFIRST CLOWN. Cudgel thy brains no more about it, for your dull ass will\\nnot mend his pace with beating; and when you are asked this question\\nnext, say ‘a grave-maker’. The houses he makes last till doomsday. Go,\\nget thee to Yaughan; fetch me a stoup of liquor.\\n\\n [_Exit Second Clown._]\\n\\n[_Digs and sings._]\\n\\n   In youth when I did love, did love, Methought it was very sweet; To\\n   contract, O, the time for, a, my behove, O methought there was\\n   nothing meet.\\n\\nHAMLET. Has this fellow no feeling of his business, that he sings at\\ngrave-making?\\n\\nHORATIO. Custom hath made it in him a property of easiness.\\n\\nHAMLET. ’Tis e’en so; the hand of little employment hath the daintier\\nsense.\\n\\nFIRST CLOWN. [_Sings._] But age with his stealing steps Hath claw’d me\\nin his clutch, And hath shipp’d me into the land, As if I had never\\nbeen such.\\n\\n [_Throws up a skull._]\\n\\nHAMLET. That skull had a tongue in it, and could sing once. How the\\nknave jowls it to th’ ground, as if ’twere Cain’s jawbone, that did the\\nfirst murder! This might be the pate of a politician which this ass now\\no’er-offices, one that would circumvent God, might it not?\\n\\nHORATIO. It might, my lord.\\n\\nHAMLET. Or of a courtier, which could say ‘Good morrow, sweet lord! How\\ndost thou, good lord?’ This might be my lord such-a-one, that praised\\nmy lord such-a-one’s horse when he meant to beg it, might it not?\\n\\nHORATIO. Ay, my lord.\\n\\nHAMLET. Why, e’en so: and now my Lady Worm’s; chapless, and knocked\\nabout the mazard with a sexton’s spade. Here’s fine revolution, an we\\nhad the trick to see’t. Did these bones cost no more the breeding but\\nto play at loggets with ’em? Mine ache to think on’t.\\n\\nFIRST CLOWN. [_Sings._] A pickaxe and a spade, a spade, For and a\\nshrouding-sheet; O, a pit of clay for to be made For such a guest is\\nmeet.\\n\\n [_Throws up another skull._]\\n\\nHAMLET. There’s another. Why may not that be the skull of a lawyer?\\nWhere be his quiddits now, his quillets, his cases, his tenures, and\\nhis tricks? Why does he suffer this rude knave now to knock him about\\nthe sconce with a dirty shovel, and will not tell him of his action of\\nbattery? Hum. This fellow might be in’s time a great buyer of land,\\nwith his statutes, his recognizances, his fines, his double vouchers,\\nhis recoveries. Is this the fine of his fines, and the recovery of his\\nrecoveries, to have his fine pate full of fine dirt? Will his vouchers\\nvouch him no more of his purchases, and double ones too, than the\\nlength and breadth of a pair of indentures? The very conveyances of his\\nlands will scarcely lie in this box; and must the inheritor himself\\nhave no more, ha?\\n\\nHORATIO. Not a jot more, my lord.\\n\\nHAMLET. Is not parchment made of sheep-skins?\\n\\nHORATIO. Ay, my lord, and of calf-skins too.\\n\\nHAMLET. They are sheep and calves which seek out assurance in that. I\\nwill speak to this fellow.—Whose grave’s this, sir?\\n\\nFIRST CLOWN. Mine, sir. [_Sings._] O, a pit of clay for to be made For\\nsuch a guest is meet.\\n\\nHAMLET. I think it be thine indeed, for thou liest in’t.\\n\\nFIRST CLOWN. You lie out on’t, sir, and therefore ’tis not yours. For\\nmy part, I do not lie in’t, yet it is mine.\\n\\nHAMLET. Thou dost lie in’t, to be in’t and say it is thine. ’Tis for\\nthe dead, not for the quick; therefore thou liest.\\n\\nFIRST CLOWN. ’Tis a quick lie, sir; ’t will away again from me to you.\\n\\nHAMLET. What man dost thou dig it for?\\n\\nFIRST CLOWN. For no man, sir.\\n\\nHAMLET. What woman then?\\n\\nFIRST CLOWN. For none neither.\\n\\nHAMLET. Who is to be buried in’t?\\n\\nFIRST CLOWN. One that was a woman, sir; but, rest her soul, she’s dead.\\n\\nHAMLET. How absolute the knave is! We must speak by the card, or\\nequivocation will undo us. By the Lord, Horatio, these three years I\\nhave taken note of it, the age is grown so picked that the toe of the\\npeasant comes so near the heel of the courtier he galls his kibe.—How\\nlong hast thou been a grave-maker?\\n\\nFIRST CLOWN. Of all the days i’ th’ year, I came to’t that day that our\\nlast King Hamlet o’ercame Fortinbras.\\n\\nHAMLET. How long is that since?\\n\\nFIRST CLOWN. Cannot you tell that? Every fool can tell that. It was the\\nvery day that young Hamlet was born,—he that is mad, and sent into\\nEngland.\\n\\nHAMLET. Ay, marry, why was he sent into England?\\n\\nFIRST CLOWN. Why, because he was mad; he shall recover his wits there;\\nor if he do not, it’s no great matter there.\\n\\nHAMLET. Why?\\n\\nFIRST CLOWN. ’Twill not be seen in him there; there the men are as mad\\nas he.\\n\\nHAMLET. How came he mad?\\n\\nFIRST CLOWN. Very strangely, they say.\\n\\nHAMLET. How strangely?\\n\\nFIRST CLOWN. Faith, e’en with losing his wits.\\n\\nHAMLET. Upon what ground?\\n\\nFIRST CLOWN. Why, here in Denmark. I have been sexton here, man and\\nboy, thirty years.\\n\\nHAMLET. How long will a man lie i’ th’earth ere he rot?\\n\\nFIRST CLOWN. Faith, if he be not rotten before he die,—as we have many\\npocky corses nowadays that will scarce hold the laying in,—he will last\\nyou some eight year or nine year. A tanner will last you nine year.\\n\\nHAMLET. Why he more than another?\\n\\nFIRST CLOWN. Why, sir, his hide is so tann’d with his trade that he\\nwill keep out water a great while. And your water is a sore decayer of\\nyour whoreson dead body. Here’s a skull now; this skull hath lain in\\nthe earth three-and-twenty years.\\n\\nHAMLET. Whose was it?\\n\\nFIRST CLOWN. A whoreson, mad fellow’s it was. Whose do you think it\\nwas?\\n\\nHAMLET. Nay, I know not.\\n\\nFIRST CLOWN. A pestilence on him for a mad rogue! A pour’d a flagon of\\nRhenish on my head once. This same skull, sir, was Yorick’s skull, the\\nKing’s jester.\\n\\nHAMLET. This?\\n\\nFIRST CLOWN. E’en that.\\n\\nHAMLET. Let me see. [_Takes the skull._] Alas, poor Yorick. I knew him,\\nHoratio, a fellow of infinite jest, of most excellent fancy. He hath\\nborne me on his back a thousand times; and now, how abhorred in my\\nimagination it is! My gorge rises at it. Here hung those lips that I\\nhave kiss’d I know not how oft. Where be your gibes now? your gambols?\\nyour songs? your flashes of merriment, that were wont to set the table\\non a roar? Not one now, to mock your own grinning? Quite chop-fallen?\\nNow get you to my lady’s chamber, and tell her, let her paint an inch\\nthick, to this favour she must come. Make her laugh at that.—Prythee,\\nHoratio, tell me one thing.\\n\\nHORATIO. What’s that, my lord?\\n\\nHAMLET. Dost thou think Alexander looked o’ this fashion i’ th’earth?\\n\\nHORATIO. E’en so.\\n\\nHAMLET. And smelt so? Pah!\\n\\n [_Throws down the skull._]\\n\\nHORATIO. E’en so, my lord.\\n\\nHAMLET. To what base uses we may return, Horatio! Why may not\\nimagination trace the noble dust of Alexander till he find it stopping\\na bung-hole?\\n\\nHORATIO. ’Twere to consider too curiously to consider so.\\n\\nHAMLET. No, faith, not a jot. But to follow him thither with modesty\\nenough, and likelihood to lead it; as thus. Alexander died, Alexander\\nwas buried, Alexander returneth into dust; the dust is earth; of earth\\nwe make loam; and why of that loam whereto he was converted might they\\nnot stop a beer-barrel? Imperious Caesar, dead and turn’d to clay,\\nMight stop a hole to keep the wind away. O, that that earth which kept\\nthe world in awe Should patch a wall t’expel the winter’s flaw. But\\nsoft! but soft! aside! Here comes the King.\\n\\n Enter priests, &c, in procession; the corpse of Ophelia, Laertes and\\n Mourners following; King, Queen, their Trains, &c.\\n\\nThe Queen, the courtiers. Who is that they follow? And with such maimed\\nrites? This doth betoken The corse they follow did with desperate hand\\nFordo it own life. ’Twas of some estate. Couch we awhile and mark.\\n\\n [_Retiring with Horatio._]\\n\\nLAERTES. What ceremony else?\\n\\nHAMLET. That is Laertes, a very noble youth. Mark.\\n\\nLAERTES. What ceremony else?\\n\\nPRIEST. Her obsequies have been as far enlarg’d As we have warranties.\\nHer death was doubtful; And but that great command o’ersways the order,\\nShe should in ground unsanctified have lodg’d Till the last trumpet.\\nFor charitable prayers, Shards, flints, and pebbles should be thrown on\\nher. Yet here she is allowed her virgin rites, Her maiden strewments,\\nand the bringing home Of bell and burial.\\n\\nLAERTES. Must there no more be done?\\n\\nPRIEST. No more be done. We should profane the service of the dead To\\nsing sage requiem and such rest to her As to peace-parted souls.\\n\\nLAERTES. Lay her i’ th’earth, And from her fair and unpolluted flesh\\nMay violets spring. I tell thee, churlish priest, A minist’ring angel\\nshall my sister be When thou liest howling.\\n\\nHAMLET. What, the fair Ophelia?\\n\\nQUEEN. [_Scattering flowers._] Sweets to the sweet. Farewell. I hop’d\\nthou shouldst have been my Hamlet’s wife; I thought thy bride-bed to\\nhave deck’d, sweet maid, And not have strew’d thy grave.\\n\\nLAERTES. O, treble woe Fall ten times treble on that cursed head Whose\\nwicked deed thy most ingenious sense Depriv’d thee of. Hold off the\\nearth a while, Till I have caught her once more in mine arms. [_Leaps\\ninto the grave._] Now pile your dust upon the quick and dead, Till of\\nthis flat a mountain you have made, To o’ertop old Pelion or the skyish\\nhead Of blue Olympus.\\n\\nHAMLET. [_Advancing._] What is he whose grief Bears such an emphasis?\\nwhose phrase of sorrow Conjures the wand’ring stars, and makes them\\nstand Like wonder-wounded hearers? This is I, Hamlet the Dane. [_Leaps\\ninto the grave._]\\n\\nLAERTES. [_Grappling with him._] The devil take thy soul!\\n\\nHAMLET. Thou pray’st not well. I prythee take thy fingers from my\\nthroat; For though I am not splenative and rash, Yet have I in me\\nsomething dangerous, Which let thy wiseness fear. Away thy hand!\\n\\nKING. Pluck them asunder.\\n\\nQUEEN. Hamlet! Hamlet!\\n\\nAll. Gentlemen!\\n\\nHORATIO. Good my lord, be quiet.\\n\\n [_The Attendants part them, and they come out of the grave._]\\n\\nHAMLET. Why, I will fight with him upon this theme Until my eyelids\\nwill no longer wag.\\n\\nQUEEN. O my son, what theme?\\n\\nHAMLET. I lov’d Ophelia; forty thousand brothers Could not, with all\\ntheir quantity of love, Make up my sum. What wilt thou do for her?\\n\\nKING. O, he is mad, Laertes.\\n\\nQUEEN. For love of God forbear him!\\n\\nHAMLET. ’Swounds, show me what thou’lt do: Woul’t weep? woul’t fight?\\nwoul’t fast? woul’t tear thyself? Woul’t drink up eisel? eat a\\ncrocodile? I’ll do’t. Dost thou come here to whine? To outface me with\\nleaping in her grave? Be buried quick with her, and so will I. And if\\nthou prate of mountains, let them throw Millions of acres on us, till\\nour ground, Singeing his pate against the burning zone, Make Ossa like\\na wart. Nay, an thou’lt mouth, I’ll rant as well as thou.\\n\\nQUEEN. This is mere madness: And thus awhile the fit will work on him;\\nAnon, as patient as the female dove, When that her golden couplets are\\ndisclos’d, His silence will sit drooping.\\n\\nHAMLET. Hear you, sir; What is the reason that you use me thus? I lov’d\\nyou ever. But it is no matter. Let Hercules himself do what he may, The\\ncat will mew, and dog will have his day.\\n\\n [_Exit._]\\n\\nKING. I pray thee, good Horatio, wait upon him.\\n\\n [_Exit Horatio._]\\n\\n[_To Laertes_] Strengthen your patience in our last night’s speech;\\nWe’ll put the matter to the present push.— Good Gertrude, set some\\nwatch over your son. This grave shall have a living monument. An hour\\nof quiet shortly shall we see; Till then in patience our proceeding be.\\n\\n [_Exeunt._]\\n\\nSCENE II. A hall in the Castle.\\n\\n Enter Hamlet and Horatio.\\n\\nHAMLET. So much for this, sir. Now let me see the other; You do\\nremember all the circumstance?\\n\\nHORATIO. Remember it, my lord!\\n\\nHAMLET. Sir, in my heart there was a kind of fighting That would not\\nlet me sleep. Methought I lay Worse than the mutinies in the bilboes.\\nRashly, And prais’d be rashness for it,—let us know, Our indiscretion\\nsometime serves us well, When our deep plots do pall; and that should\\nteach us There’s a divinity that shapes our ends, Rough-hew them how we\\nwill.\\n\\nHORATIO. That is most certain.\\n\\nHAMLET. Up from my cabin, My sea-gown scarf’d about me, in the dark\\nGrop’d I to find out them; had my desire, Finger’d their packet, and in\\nfine, withdrew To mine own room again, making so bold, My fears\\nforgetting manners, to unseal Their grand commission; where I found,\\nHoratio, Oh royal knavery! an exact command, Larded with many several\\nsorts of reasons, Importing Denmark’s health, and England’s too, With\\nho! such bugs and goblins in my life, That on the supervise, no leisure\\nbated, No, not to stay the grinding of the axe, My head should be\\nstruck off.\\n\\nHORATIO. Is’t possible?\\n\\nHAMLET. Here’s the commission, read it at more leisure. But wilt thou\\nhear me how I did proceed?\\n\\nHORATIO. I beseech you.\\n\\nHAMLET. Being thus benetted round with villanies,— Or I could make a\\nprologue to my brains, They had begun the play,—I sat me down, Devis’d\\na new commission, wrote it fair: I once did hold it, as our statists\\ndo, A baseness to write fair, and labour’d much How to forget that\\nlearning; but, sir, now It did me yeoman’s service. Wilt thou know The\\neffect of what I wrote?\\n\\nHORATIO. Ay, good my lord.\\n\\nHAMLET. An earnest conjuration from the King, As England was his\\nfaithful tributary, As love between them like the palm might flourish,\\nAs peace should still her wheaten garland wear And stand a comma ’tween\\ntheir amities, And many such-like ‘as’es of great charge, That on the\\nview and know of these contents, Without debatement further, more or\\nless, He should the bearers put to sudden death, Not shriving-time\\nallow’d.\\n\\nHORATIO. How was this seal’d?\\n\\nHAMLET. Why, even in that was heaven ordinant. I had my father’s signet\\nin my purse, Which was the model of that Danish seal: Folded the writ\\nup in the form of the other, Subscrib’d it: gave’t th’impression;\\nplac’d it safely, The changeling never known. Now, the next day Was our\\nsea-fight, and what to this was sequent Thou know’st already.\\n\\nHORATIO. So Guildenstern and Rosencrantz go to’t.\\n\\nHAMLET. Why, man, they did make love to this employment. They are not\\nnear my conscience; their defeat Does by their own insinuation grow.\\n’Tis dangerous when the baser nature comes Between the pass and fell\\nincensed points Of mighty opposites.\\n\\nHORATIO. Why, what a king is this!\\n\\nHAMLET. Does it not, thinks’t thee, stand me now upon,— He that hath\\nkill’d my king, and whor’d my mother, Popp’d in between th’election and\\nmy hopes, Thrown out his angle for my proper life, And with such\\ncozenage—is’t not perfect conscience To quit him with this arm? And\\nis’t not to be damn’d To let this canker of our nature come In further\\nevil?\\n\\nHORATIO. It must be shortly known to him from England What is the issue\\nof the business there.\\n\\nHAMLET. It will be short. The interim is mine; And a man’s life’s no\\nmore than to say ‘One’. But I am very sorry, good Horatio, That to\\nLaertes I forgot myself; For by the image of my cause I see The\\nportraiture of his. I’ll court his favours. But sure the bravery of his\\ngrief did put me Into a tow’ring passion.\\n\\nHORATIO. Peace, who comes here?\\n\\n Enter Osric.\\n\\nOSRIC. Your lordship is right welcome back to Denmark.\\n\\nHAMLET. I humbly thank you, sir. Dost know this waterfly?\\n\\nHORATIO. No, my good lord.\\n\\nHAMLET. Thy state is the more gracious; for ’tis a vice to know him. He\\nhath much land, and fertile; let a beast be lord of beasts, and his\\ncrib shall stand at the king’s mess; ’tis a chough; but, as I say,\\nspacious in the possession of dirt.\\n\\nOSRIC. Sweet lord, if your lordship were at leisure, I should impart a\\nthing to you from his Majesty.\\n\\nHAMLET. I will receive it with all diligence of spirit. Put your bonnet\\nto his right use; ’tis for the head.\\n\\nOSRIC. I thank your lordship, ’tis very hot.\\n\\nHAMLET. No, believe me, ’tis very cold, the wind is northerly.\\n\\nOSRIC. It is indifferent cold, my lord, indeed.\\n\\nHAMLET. Methinks it is very sultry and hot for my complexion.\\n\\nOSRIC. Exceedingly, my lord; it is very sultry,—as ’twere—I cannot tell\\nhow. But, my lord, his Majesty bade me signify to you that he has laid\\na great wager on your head. Sir, this is the matter,—\\n\\nHAMLET. I beseech you, remember,—\\n\\n [_Hamlet moves him to put on his hat._]\\n\\nOSRIC. Nay, in good faith; for mine ease, in good faith. Sir, here is\\nnewly come to court Laertes; believe me, an absolute gentleman, full of\\nmost excellent differences, of very soft society and great showing.\\nIndeed, to speak feelingly of him, he is the card or calendar of\\ngentry; for you shall find in him the continent of what part a\\ngentleman would see.\\n\\nHAMLET. Sir, his definement suffers no perdition in you, though I know,\\nto divide him inventorially would dizzy th’arithmetic of memory, and\\nyet but yaw neither, in respect of his quick sail. But, in the verity\\nof extolment, I take him to be a soul of great article and his infusion\\nof such dearth and rareness as, to make true diction of him, his\\nsemblable is his mirror and who else would trace him his umbrage,\\nnothing more.\\n\\nOSRIC. Your lordship speaks most infallibly of him.\\n\\nHAMLET. The concernancy, sir? Why do we wrap the gentleman in our more\\nrawer breath?\\n\\nOSRIC. Sir?\\n\\nHORATIO. Is’t not possible to understand in another tongue? You will\\ndo’t, sir, really.\\n\\nHAMLET. What imports the nomination of this gentleman?\\n\\nOSRIC. Of Laertes?\\n\\nHORATIO. His purse is empty already, all’s golden words are spent.\\n\\nHAMLET. Of him, sir.\\n\\nOSRIC. I know you are not ignorant,—\\n\\nHAMLET. I would you did, sir; yet in faith if you did, it would not\\nmuch approve me. Well, sir?\\n\\nOSRIC. You are not ignorant of what excellence Laertes is,—\\n\\nHAMLET. I dare not confess that, lest I should compare with him in\\nexcellence; but to know a man well were to know himself.\\n\\nOSRIC. I mean, sir, for his weapon; but in the imputation laid on him,\\nby them in his meed he’s unfellowed.\\n\\nHAMLET. What’s his weapon?\\n\\nOSRIC. Rapier and dagger.\\n\\nHAMLET. That’s two of his weapons. But well.\\n\\nOSRIC. The King, sir, hath wager’d with him six Barbary horses, against\\nthe which he has imponed, as I take it, six French rapiers and\\nponiards, with their assigns, as girdle, hangers, and so. Three of the\\ncarriages, in faith, are very dear to fancy, very responsive to the\\nhilts, most delicate carriages, and of very liberal conceit.\\n\\nHAMLET. What call you the carriages?\\n\\nHORATIO. I knew you must be edified by the margin ere you had done.\\n\\nOSRIC. The carriages, sir, are the hangers.\\n\\nHAMLET. The phrase would be more german to the matter if we could carry\\ncannon by our sides. I would it might be hangers till then. But on. Six\\nBarbary horses against six French swords, their assigns, and three\\nliberal conceited carriages: that’s the French bet against the Danish.\\nWhy is this all imponed, as you call it?\\n\\nOSRIC. The King, sir, hath laid that in a dozen passes between you and\\nhim, he shall not exceed you three hits. He hath laid on twelve for\\nnine. And it would come to immediate trial if your lordship would\\nvouchsafe the answer.\\n\\nHAMLET. How if I answer no?\\n\\nOSRIC. I mean, my lord, the opposition of your person in trial.\\n\\nHAMLET. Sir, I will walk here in the hall. If it please his Majesty, it\\nis the breathing time of day with me. Let the foils be brought, the\\ngentleman willing, and the King hold his purpose, I will win for him if\\nI can; if not, I will gain nothing but my shame and the odd hits.\\n\\nOSRIC. Shall I re-deliver you e’en so?\\n\\nHAMLET. To this effect, sir; after what flourish your nature will.\\n\\nOSRIC. I commend my duty to your lordship.\\n\\nHAMLET. Yours, yours.\\n\\n [_Exit Osric._]\\n\\nHe does well to commend it himself, there are no tongues else for’s\\nturn.\\n\\nHORATIO. This lapwing runs away with the shell on his head.\\n\\nHAMLET. He did comply with his dug before he suck’d it. Thus has\\nhe,—and many more of the same bevy that I know the drossy age dotes\\non,— only got the tune of the time and outward habit of encounter; a\\nkind of yeasty collection, which carries them through and through the\\nmost fanned and winnowed opinions; and do but blow them to their trial,\\nthe bubbles are out,\\n\\n Enter a Lord.\\n\\nLORD. My lord, his Majesty commended him to you by young Osric, who\\nbrings back to him that you attend him in the hall. He sends to know if\\nyour pleasure hold to play with Laertes or that you will take longer\\ntime.\\n\\nHAMLET. I am constant to my purposes, they follow the King’s pleasure.\\nIf his fitness speaks, mine is ready. Now or whensoever, provided I be\\nso able as now.\\n\\nLORD. The King and Queen and all are coming down.\\n\\nHAMLET. In happy time.\\n\\nLORD. The Queen desires you to use some gentle entertainment to Laertes\\nbefore you fall to play.\\n\\nHAMLET. She well instructs me.\\n\\n [_Exit Lord._]\\n\\nHORATIO. You will lose this wager, my lord.\\n\\nHAMLET. I do not think so. Since he went into France, I have been in\\ncontinual practice. I shall win at the odds. But thou wouldst not think\\nhow ill all’s here about my heart: but it is no matter.\\n\\nHORATIO. Nay, good my lord.\\n\\nHAMLET. It is but foolery; but it is such a kind of gain-giving as\\nwould perhaps trouble a woman.\\n\\nHORATIO. If your mind dislike anything, obey it. I will forestall their\\nrepair hither, and say you are not fit.\\n\\nHAMLET. Not a whit, we defy augury. There’s a special providence in the\\nfall of a sparrow. If it be now, ’tis not to come; if it be not to\\ncome, it will be now; if it be not now, yet it will come. The readiness\\nis all. Since no man has aught of what he leaves, what is’t to leave\\nbetimes?\\n\\n Enter King, Queen, Laertes, Lords, Osric and Attendants with foils &c.\\n\\nKING. Come, Hamlet, come, and take this hand from me.\\n\\n [_The King puts Laertes’s hand into Hamlet’s._]\\n\\nHAMLET. Give me your pardon, sir. I have done you wrong; But pardon’t\\nas you are a gentleman. This presence knows, and you must needs have\\nheard, How I am punish’d with sore distraction. What I have done That\\nmight your nature, honour, and exception Roughly awake, I here proclaim\\nwas madness. Was’t Hamlet wrong’d Laertes? Never Hamlet. If Hamlet from\\nhimself be ta’en away, And when he’s not himself does wrong Laertes,\\nThen Hamlet does it not, Hamlet denies it. Who does it, then? His\\nmadness. If’t be so, Hamlet is of the faction that is wrong’d; His\\nmadness is poor Hamlet’s enemy. Sir, in this audience, Let my\\ndisclaiming from a purpos’d evil Free me so far in your most generous\\nthoughts That I have shot my arrow o’er the house And hurt my brother.\\n\\nLAERTES. I am satisfied in nature, Whose motive in this case should\\nstir me most To my revenge. But in my terms of honour I stand aloof,\\nand will no reconcilement Till by some elder masters of known honour I\\nhave a voice and precedent of peace To keep my name ungor’d. But till\\nthat time I do receive your offer’d love like love, And will not wrong\\nit.\\n\\nHAMLET. I embrace it freely, And will this brother’s wager frankly\\nplay.— Give us the foils; come on.\\n\\nLAERTES. Come, one for me.\\n\\nHAMLET. I’ll be your foil, Laertes; in mine ignorance Your skill shall\\nlike a star i’ th’ darkest night, Stick fiery off indeed.\\n\\nLAERTES. You mock me, sir.\\n\\nHAMLET. No, by this hand.\\n\\nKING. Give them the foils, young Osric. Cousin Hamlet, You know the\\nwager?\\n\\nHAMLET. Very well, my lord. Your Grace has laid the odds o’ the weaker\\nside.\\n\\nKING. I do not fear it. I have seen you both; But since he is better’d,\\nwe have therefore odds.\\n\\nLAERTES. This is too heavy. Let me see another.\\n\\nHAMLET. This likes me well. These foils have all a length?\\n\\n [_They prepare to play._]\\n\\nOSRIC. Ay, my good lord.\\n\\nKING. Set me the stoups of wine upon that table. If Hamlet give the\\nfirst or second hit, Or quit in answer of the third exchange, Let all\\nthe battlements their ordnance fire; The King shall drink to Hamlet’s\\nbetter breath, And in the cup an union shall he throw Richer than that\\nwhich four successive kings In Denmark’s crown have worn. Give me the\\ncups; And let the kettle to the trumpet speak, The trumpet to the\\ncannoneer without, The cannons to the heavens, the heavens to earth,\\n‘Now the King drinks to Hamlet.’ Come, begin. And you, the judges, bear\\na wary eye.\\n\\nHAMLET. Come on, sir.\\n\\nLAERTES. Come, my lord.\\n\\n [_They play._]\\n\\nHAMLET. One.\\n\\nLAERTES. No.\\n\\nHAMLET. Judgment.\\n\\nOSRIC. A hit, a very palpable hit.\\n\\nLAERTES. Well; again.\\n\\nKING. Stay, give me drink. Hamlet, this pearl is thine; Here’s to thy\\nhealth.\\n\\n [_Trumpets sound, and cannon shot off within._]\\n\\nGive him the cup.\\n\\nHAMLET. I’ll play this bout first; set it by awhile.\\n\\n [_They play._]\\n\\nCome. Another hit; what say you?\\n\\n\\nLAERTES. A touch, a touch, I do confess.\\n\\nKING. Our son shall win.\\n\\nQUEEN. He’s fat, and scant of breath. Here, Hamlet, take my napkin, rub\\nthy brows. The Queen carouses to thy fortune, Hamlet.\\n\\nHAMLET. Good madam.\\n\\nKING. Gertrude, do not drink.\\n\\nQUEEN. I will, my lord; I pray you pardon me.\\n\\nKING. [_Aside._] It is the poison’d cup; it is too late.\\n\\nHAMLET. I dare not drink yet, madam. By and by.\\n\\nQUEEN. Come, let me wipe thy face.\\n\\nLAERTES. My lord, I’ll hit him now.\\n\\nKING. I do not think’t.\\n\\nLAERTES. [_Aside._] And yet ’tis almost ’gainst my conscience.\\n\\nHAMLET. Come for the third, Laertes. You do but dally. I pray you pass\\nwith your best violence. I am afeard you make a wanton of me.\\n\\nLAERTES. Say you so? Come on.\\n\\n [_They play._]\\n\\nOSRIC. Nothing neither way.\\n\\nLAERTES. Have at you now.\\n\\n [_Laertes wounds Hamlet; then, in scuffling, they change rapiers, and\\n Hamlet wounds Laertes._]\\n\\nKING. Part them; they are incens’d.\\n\\nHAMLET. Nay, come again!\\n\\n [_The Queen falls._]\\n\\nOSRIC. Look to the Queen there, ho!\\n\\nHORATIO. They bleed on both sides. How is it, my lord?\\n\\nOSRIC. How is’t, Laertes?\\n\\nLAERTES. Why, as a woodcock to my own springe, Osric. I am justly\\nkill’d with mine own treachery.\\n\\nHAMLET. How does the Queen?\\n\\nKING. She swoons to see them bleed.\\n\\nQUEEN. No, no, the drink, the drink! O my dear Hamlet! The drink, the\\ndrink! I am poison’d.\\n\\n [_Dies._]\\n\\nHAMLET. O villany! Ho! Let the door be lock’d: Treachery! Seek it out.\\n\\n [_Laertes falls._]\\n\\nLAERTES. It is here, Hamlet. Hamlet, thou art slain. No medicine in the\\nworld can do thee good. In thee there is not half an hour of life; The\\ntreacherous instrument is in thy hand, Unbated and envenom’d. The foul\\npractice Hath turn’d itself on me. Lo, here I lie, Never to rise again.\\nThy mother’s poison’d. I can no more. The King, the King’s to blame.\\n\\nHAMLET. The point envenom’d too! Then, venom, to thy work.\\n\\n [_Stabs the King._]\\n\\nOSRIC and LORDS. Treason! treason!\\n\\nKING. O yet defend me, friends. I am but hurt.\\n\\nHAMLET. Here, thou incestuous, murderous, damned Dane, Drink off this\\npotion. Is thy union here? Follow my mother.\\n\\n [_King dies._]\\n\\nLAERTES. He is justly serv’d. It is a poison temper’d by himself.\\nExchange forgiveness with me, noble Hamlet. Mine and my father’s death\\ncome not upon thee, Nor thine on me.\\n\\n [_Dies._]\\n\\nHAMLET. Heaven make thee free of it! I follow thee. I am dead, Horatio.\\nWretched Queen, adieu. You that look pale and tremble at this chance,\\nThat are but mutes or audience to this act, Had I but time,—as this\\nfell sergeant, death, Is strict in his arrest,—O, I could tell you,—\\nBut let it be. Horatio, I am dead, Thou liv’st; report me and my cause\\naright To the unsatisfied.\\n\\nHORATIO. Never believe it. I am more an antique Roman than a Dane.\\nHere’s yet some liquor left.\\n\\nHAMLET. As th’art a man, Give me the cup. Let go; by Heaven, I’ll\\nhave’t. O good Horatio, what a wounded name, Things standing thus\\nunknown, shall live behind me. If thou didst ever hold me in thy heart,\\nAbsent thee from felicity awhile, And in this harsh world draw thy\\nbreath in pain, To tell my story.\\n\\n [_March afar off, and shot within._]\\n\\nWhat warlike noise is this?\\n\\nOSRIC. Young Fortinbras, with conquest come from Poland, To the\\nambassadors of England gives This warlike volley.\\n\\nHAMLET. O, I die, Horatio. The potent poison quite o’er-crows my\\nspirit: I cannot live to hear the news from England, But I do prophesy\\nth’election lights On Fortinbras. He has my dying voice. So tell him,\\nwith the occurrents more and less, Which have solicited. The rest is\\nsilence.\\n\\n [_Dies._]\\n\\nHORATIO. Now cracks a noble heart. Good night, sweet prince, And\\nflights of angels sing thee to thy rest. Why does the drum come hither?\\n\\n [_March within._]\\n\\n Enter Fortinbras, the English Ambassadors and others.\\n\\nFORTINBRAS. Where is this sight?\\n\\nHORATIO. What is it you would see? If aught of woe or wonder, cease\\nyour search.\\n\\nFORTINBRAS. This quarry cries on havoc. O proud death, What feast is\\ntoward in thine eternal cell, That thou so many princes at a shot So\\nbloodily hast struck?\\n\\nFIRST AMBASSADOR. The sight is dismal; And our affairs from England\\ncome too late. The ears are senseless that should give us hearing, To\\ntell him his commandment is fulfill’d, That Rosencrantz and\\nGuildenstern are dead. Where should we have our thanks?\\n\\nHORATIO. Not from his mouth, Had it th’ability of life to thank you. He\\nnever gave commandment for their death. But since, so jump upon this\\nbloody question, You from the Polack wars, and you from England Are\\nhere arriv’d, give order that these bodies High on a stage be placed to\\nthe view, And let me speak to th’ yet unknowing world How these things\\ncame about. So shall you hear Of carnal, bloody and unnatural acts, Of\\naccidental judgments, casual slaughters, Of deaths put on by cunning\\nand forc’d cause, And, in this upshot, purposes mistook Fall’n on the\\ninventors’ heads. All this can I Truly deliver.\\n\\nFORTINBRAS. Let us haste to hear it, And call the noblest to the\\naudience. For me, with sorrow I embrace my fortune. I have some rights\\nof memory in this kingdom, Which now to claim my vantage doth invite\\nme.\\n\\nHORATIO. Of that I shall have also cause to speak, And from his mouth\\nwhose voice will draw on more. But let this same be presently\\nperform’d, Even while men’s minds are wild, lest more mischance On\\nplots and errors happen.\\n\\nFORTINBRAS. Let four captains Bear Hamlet like a soldier to the stage,\\nFor he was likely, had he been put on, To have prov’d most royally; and\\nfor his passage, The soldiers’ music and the rites of war Speak loudly\\nfor him. Take up the bodies. Such a sight as this Becomes the field,\\nbut here shows much amiss. Go, bid the soldiers shoot.\\n\\n [_A dead march._]\\n\\n [_Exeunt, bearing off the bodies, after which a peal of ordnance is\\n shot off._]\\n\\n\\n\\n'"
      ]
     },
     "execution_count": 26,
     "metadata": {},
     "output_type": "execute_result"
    }
   ],
   "source": [
    "x"
   ]
  },
  {
   "cell_type": "code",
   "execution_count": 27,
   "id": "715650c1-c229-4139-b580-300a2fdff6b2",
   "metadata": {
    "collapsed": true,
    "jupyter": {
     "outputs_hidden": true
    },
    "tags": []
   },
   "outputs": [
    {
     "data": {
      "text/plain": [
       "' VI. Another room in the Castle.\\n\\n Enter Horatio and a Servant.\\n\\nHORATIO. What are they that would speak with me?\\n\\nSERVANT. Sailors, sir. They say they have letters for you.\\n\\nHORATIO. Let them come in.\\n\\n [_Exit Servant._]\\n\\nI do not know from what part of the world I should be greeted, if not\\nfrom Lord Hamlet.\\n\\n Enter Sailors.\\n\\nFIRST SAILOR. God bless you, sir.\\n\\nHORATIO. Let him bless thee too.\\n\\nFIRST SAILOR. He shall, sir, and’t please him. There’s a letter for\\nyou, sir. It comes from th’ambassador that was bound for England; if\\nyour name be Horatio, as I am let to know it is.\\n\\nHORATIO. [_Reads._] ‘Horatio, when thou shalt have overlooked this,\\ngive these fellows some means to the King. They have letters for him.\\nEre we were two days old at sea, a pirate of very warlike appointment\\ngave us chase. Finding ourselves too slow of sail, we put on a\\ncompelled valour, and in the grapple I boarded them. On the instant\\nthey got clear of our ship, so I alone became their prisoner. They have\\ndealt with me like thieves of mercy. But they knew what they did; I am\\nto do a good turn for them. Let the King have the letters I have sent,\\nand repair thou to me with as much haste as thou wouldst fly death. I\\nhave words to speak in thine ear will make thee dumb; yet are they much\\ntoo light for the bore of the matter. These good fellows will bring\\nthee where I am. Rosencrantz and Guildenstern hold their course for\\nEngland: of them I have much to tell thee. Farewell. He that thou\\nknowest thine, HAMLET.’\\n\\nCome, I will give you way for these your letters, And do’t the\\nspeedier, that you may direct me To him from whom you brought them.\\n\\n [_Exeunt._]\\n\\n'"
      ]
     },
     "execution_count": 27,
     "metadata": {},
     "output_type": "execute_result"
    }
   ],
   "source": [
    "x.split('Act')[1].split('SCENE')[1]"
   ]
  },
  {
   "cell_type": "code",
   "execution_count": 82,
   "id": "e732dacf-5322-418c-b82b-97de9723b5be",
   "metadata": {},
   "outputs": [],
   "source": [
    "acts = x.split('ACT')[5:]"
   ]
  },
  {
   "cell_type": "code",
   "execution_count": 83,
   "id": "2fc14246-95b8-4851-93c9-85c5ed0184c1",
   "metadata": {
    "collapsed": true,
    "jupyter": {
     "outputs_hidden": true
    },
    "tags": []
   },
   "outputs": [
    {
     "data": {
      "text/plain": [
       "' V\\n\\nSCENE I. A churchyard.\\n\\n Enter two Clowns with spades, &c.\\n\\nFIRST CLOWN. Is she to be buried in Christian burial, when she wilfully\\nseeks her own salvation?\\n\\nSECOND CLOWN. I tell thee she is, and therefore make her grave\\nstraight. The crowner hath sat on her, and finds it Christian burial.\\n\\nFIRST CLOWN. How can that be, unless she drowned herself in her own\\ndefence?\\n\\nSECOND CLOWN. Why, ’tis found so.\\n\\nFIRST CLOWN. It must be _se offendendo_, it cannot be else. For here\\nlies the point: if I drown myself wittingly, it argues an act: and an\\nact hath three branches. It is to act, to do, and to perform: argal,\\nshe drowned herself wittingly.\\n\\nSECOND CLOWN. Nay, but hear you, goodman delver,—\\n\\nFIRST CLOWN. Give me leave. Here lies the water; good. Here stands the\\nman; good. If the man go to this water and drown himself, it is, will\\nhe nill he, he goes,—mark you that. But if the water come to him and\\ndrown him, he drowns not himself. Argal, he that is not guilty of his\\nown death shortens not his own life.\\n\\nSECOND CLOWN. But is this law?\\n\\nFIRST CLOWN. Ay, marry, is’t, crowner’s quest law.\\n\\nSECOND CLOWN. Will you ha’ the truth on’t? If this had not been a\\ngentlewoman, she should have been buried out o’ Christian burial.\\n\\nFIRST CLOWN. Why, there thou say’st. And the more pity that great folk\\nshould have countenance in this world to drown or hang themselves more\\nthan their even Christian. Come, my spade. There is no ancient\\ngentlemen but gardeners, ditchers, and grave-makers: they hold up\\nAdam’s profession.\\n\\nSECOND CLOWN. Was he a gentleman?\\n\\nFIRST CLOWN. He was the first that ever bore arms.\\n\\nSECOND CLOWN. Why, he had none.\\n\\nFIRST CLOWN. What, art a heathen? How dost thou understand the\\nScripture? The Scripture says Adam digg’d. Could he dig without arms?\\nI’ll put another question to thee. If thou answerest me not to the\\npurpose, confess thyself—\\n\\nSECOND CLOWN. Go to.\\n\\nFIRST CLOWN. What is he that builds stronger than either the mason, the\\nshipwright, or the carpenter?\\n\\nSECOND CLOWN. The gallows-maker; for that frame outlives a thousand\\ntenants.\\n\\nFIRST CLOWN. I like thy wit well in good faith, the gallows does well.\\nBut how does it well? It does well to those that do ill. Now, thou dost\\nill to say the gallows is built stronger than the church; argal, the\\ngallows may do well to thee. To’t again, come.\\n\\nSECOND CLOWN. Who builds stronger than a mason, a shipwright, or a\\ncarpenter?\\n\\nFIRST CLOWN. Ay, tell me that, and unyoke.\\n\\nSECOND CLOWN. Marry, now I can tell.\\n\\nFIRST CLOWN. To’t.\\n\\nSECOND CLOWN. Mass, I cannot tell.\\n\\n Enter Hamlet and Horatio, at a distance.\\n\\nFIRST CLOWN. Cudgel thy brains no more about it, for your dull ass will\\nnot mend his pace with beating; and when you are asked this question\\nnext, say ‘a grave-maker’. The houses he makes last till doomsday. Go,\\nget thee to Yaughan; fetch me a stoup of liquor.\\n\\n [_Exit Second Clown._]\\n\\n[_Digs and sings._]\\n\\n   In youth when I did love, did love, Methought it was very sweet; To\\n   contract, O, the time for, a, my behove, O methought there was\\n   nothing meet.\\n\\nHAMLET. Has this fellow no feeling of his business, that he sings at\\ngrave-making?\\n\\nHORATIO. Custom hath made it in him a property of easiness.\\n\\nHAMLET. ’Tis e’en so; the hand of little employment hath the daintier\\nsense.\\n\\nFIRST CLOWN. [_Sings._] But age with his stealing steps Hath claw’d me\\nin his clutch, And hath shipp’d me into the land, As if I had never\\nbeen such.\\n\\n [_Throws up a skull._]\\n\\nHAMLET. That skull had a tongue in it, and could sing once. How the\\nknave jowls it to th’ ground, as if ’twere Cain’s jawbone, that did the\\nfirst murder! This might be the pate of a politician which this ass now\\no’er-offices, one that would circumvent God, might it not?\\n\\nHORATIO. It might, my lord.\\n\\nHAMLET. Or of a courtier, which could say ‘Good morrow, sweet lord! How\\ndost thou, good lord?’ This might be my lord such-a-one, that praised\\nmy lord such-a-one’s horse when he meant to beg it, might it not?\\n\\nHORATIO. Ay, my lord.\\n\\nHAMLET. Why, e’en so: and now my Lady Worm’s; chapless, and knocked\\nabout the mazard with a sexton’s spade. Here’s fine revolution, an we\\nhad the trick to see’t. Did these bones cost no more the breeding but\\nto play at loggets with ’em? Mine ache to think on’t.\\n\\nFIRST CLOWN. [_Sings._] A pickaxe and a spade, a spade, For and a\\nshrouding-sheet; O, a pit of clay for to be made For such a guest is\\nmeet.\\n\\n [_Throws up another skull._]\\n\\nHAMLET. There’s another. Why may not that be the skull of a lawyer?\\nWhere be his quiddits now, his quillets, his cases, his tenures, and\\nhis tricks? Why does he suffer this rude knave now to knock him about\\nthe sconce with a dirty shovel, and will not tell him of his action of\\nbattery? Hum. This fellow might be in’s time a great buyer of land,\\nwith his statutes, his recognizances, his fines, his double vouchers,\\nhis recoveries. Is this the fine of his fines, and the recovery of his\\nrecoveries, to have his fine pate full of fine dirt? Will his vouchers\\nvouch him no more of his purchases, and double ones too, than the\\nlength and breadth of a pair of indentures? The very conveyances of his\\nlands will scarcely lie in this box; and must the inheritor himself\\nhave no more, ha?\\n\\nHORATIO. Not a jot more, my lord.\\n\\nHAMLET. Is not parchment made of sheep-skins?\\n\\nHORATIO. Ay, my lord, and of calf-skins too.\\n\\nHAMLET. They are sheep and calves which seek out assurance in that. I\\nwill speak to this fellow.—Whose grave’s this, sir?\\n\\nFIRST CLOWN. Mine, sir. [_Sings._] O, a pit of clay for to be made For\\nsuch a guest is meet.\\n\\nHAMLET. I think it be thine indeed, for thou liest in’t.\\n\\nFIRST CLOWN. You lie out on’t, sir, and therefore ’tis not yours. For\\nmy part, I do not lie in’t, yet it is mine.\\n\\nHAMLET. Thou dost lie in’t, to be in’t and say it is thine. ’Tis for\\nthe dead, not for the quick; therefore thou liest.\\n\\nFIRST CLOWN. ’Tis a quick lie, sir; ’t will away again from me to you.\\n\\nHAMLET. What man dost thou dig it for?\\n\\nFIRST CLOWN. For no man, sir.\\n\\nHAMLET. What woman then?\\n\\nFIRST CLOWN. For none neither.\\n\\nHAMLET. Who is to be buried in’t?\\n\\nFIRST CLOWN. One that was a woman, sir; but, rest her soul, she’s dead.\\n\\nHAMLET. How absolute the knave is! We must speak by the card, or\\nequivocation will undo us. By the Lord, Horatio, these three years I\\nhave taken note of it, the age is grown so picked that the toe of the\\npeasant comes so near the heel of the courtier he galls his kibe.—How\\nlong hast thou been a grave-maker?\\n\\nFIRST CLOWN. Of all the days i’ th’ year, I came to’t that day that our\\nlast King Hamlet o’ercame Fortinbras.\\n\\nHAMLET. How long is that since?\\n\\nFIRST CLOWN. Cannot you tell that? Every fool can tell that. It was the\\nvery day that young Hamlet was born,—he that is mad, and sent into\\nEngland.\\n\\nHAMLET. Ay, marry, why was he sent into England?\\n\\nFIRST CLOWN. Why, because he was mad; he shall recover his wits there;\\nor if he do not, it’s no great matter there.\\n\\nHAMLET. Why?\\n\\nFIRST CLOWN. ’Twill not be seen in him there; there the men are as mad\\nas he.\\n\\nHAMLET. How came he mad?\\n\\nFIRST CLOWN. Very strangely, they say.\\n\\nHAMLET. How strangely?\\n\\nFIRST CLOWN. Faith, e’en with losing his wits.\\n\\nHAMLET. Upon what ground?\\n\\nFIRST CLOWN. Why, here in Denmark. I have been sexton here, man and\\nboy, thirty years.\\n\\nHAMLET. How long will a man lie i’ th’earth ere he rot?\\n\\nFIRST CLOWN. Faith, if he be not rotten before he die,—as we have many\\npocky corses nowadays that will scarce hold the laying in,—he will last\\nyou some eight year or nine year. A tanner will last you nine year.\\n\\nHAMLET. Why he more than another?\\n\\nFIRST CLOWN. Why, sir, his hide is so tann’d with his trade that he\\nwill keep out water a great while. And your water is a sore decayer of\\nyour whoreson dead body. Here’s a skull now; this skull hath lain in\\nthe earth three-and-twenty years.\\n\\nHAMLET. Whose was it?\\n\\nFIRST CLOWN. A whoreson, mad fellow’s it was. Whose do you think it\\nwas?\\n\\nHAMLET. Nay, I know not.\\n\\nFIRST CLOWN. A pestilence on him for a mad rogue! A pour’d a flagon of\\nRhenish on my head once. This same skull, sir, was Yorick’s skull, the\\nKing’s jester.\\n\\nHAMLET. This?\\n\\nFIRST CLOWN. E’en that.\\n\\nHAMLET. Let me see. [_Takes the skull._] Alas, poor Yorick. I knew him,\\nHoratio, a fellow of infinite jest, of most excellent fancy. He hath\\nborne me on his back a thousand times; and now, how abhorred in my\\nimagination it is! My gorge rises at it. Here hung those lips that I\\nhave kiss’d I know not how oft. Where be your gibes now? your gambols?\\nyour songs? your flashes of merriment, that were wont to set the table\\non a roar? Not one now, to mock your own grinning? Quite chop-fallen?\\nNow get you to my lady’s chamber, and tell her, let her paint an inch\\nthick, to this favour she must come. Make her laugh at that.—Prythee,\\nHoratio, tell me one thing.\\n\\nHORATIO. What’s that, my lord?\\n\\nHAMLET. Dost thou think Alexander looked o’ this fashion i’ th’earth?\\n\\nHORATIO. E’en so.\\n\\nHAMLET. And smelt so? Pah!\\n\\n [_Throws down the skull._]\\n\\nHORATIO. E’en so, my lord.\\n\\nHAMLET. To what base uses we may return, Horatio! Why may not\\nimagination trace the noble dust of Alexander till he find it stopping\\na bung-hole?\\n\\nHORATIO. ’Twere to consider too curiously to consider so.\\n\\nHAMLET. No, faith, not a jot. But to follow him thither with modesty\\nenough, and likelihood to lead it; as thus. Alexander died, Alexander\\nwas buried, Alexander returneth into dust; the dust is earth; of earth\\nwe make loam; and why of that loam whereto he was converted might they\\nnot stop a beer-barrel? Imperious Caesar, dead and turn’d to clay,\\nMight stop a hole to keep the wind away. O, that that earth which kept\\nthe world in awe Should patch a wall t’expel the winter’s flaw. But\\nsoft! but soft! aside! Here comes the King.\\n\\n Enter priests, &c, in procession; the corpse of Ophelia, Laertes and\\n Mourners following; King, Queen, their Trains, &c.\\n\\nThe Queen, the courtiers. Who is that they follow? And with such maimed\\nrites? This doth betoken The corse they follow did with desperate hand\\nFordo it own life. ’Twas of some estate. Couch we awhile and mark.\\n\\n [_Retiring with Horatio._]\\n\\nLAERTES. What ceremony else?\\n\\nHAMLET. That is Laertes, a very noble youth. Mark.\\n\\nLAERTES. What ceremony else?\\n\\nPRIEST. Her obsequies have been as far enlarg’d As we have warranties.\\nHer death was doubtful; And but that great command o’ersways the order,\\nShe should in ground unsanctified have lodg’d Till the last trumpet.\\nFor charitable prayers, Shards, flints, and pebbles should be thrown on\\nher. Yet here she is allowed her virgin rites, Her maiden strewments,\\nand the bringing home Of bell and burial.\\n\\nLAERTES. Must there no more be done?\\n\\nPRIEST. No more be done. We should profane the service of the dead To\\nsing sage requiem and such rest to her As to peace-parted souls.\\n\\nLAERTES. Lay her i’ th’earth, And from her fair and unpolluted flesh\\nMay violets spring. I tell thee, churlish priest, A minist’ring angel\\nshall my sister be When thou liest howling.\\n\\nHAMLET. What, the fair Ophelia?\\n\\nQUEEN. [_Scattering flowers._] Sweets to the sweet. Farewell. I hop’d\\nthou shouldst have been my Hamlet’s wife; I thought thy bride-bed to\\nhave deck’d, sweet maid, And not have strew’d thy grave.\\n\\nLAERTES. O, treble woe Fall ten times treble on that cursed head Whose\\nwicked deed thy most ingenious sense Depriv’d thee of. Hold off the\\nearth a while, Till I have caught her once more in mine arms. [_Leaps\\ninto the grave._] Now pile your dust upon the quick and dead, Till of\\nthis flat a mountain you have made, To o’ertop old Pelion or the skyish\\nhead Of blue Olympus.\\n\\nHAMLET. [_Advancing._] What is he whose grief Bears such an emphasis?\\nwhose phrase of sorrow Conjures the wand’ring stars, and makes them\\nstand Like wonder-wounded hearers? This is I, Hamlet the Dane. [_Leaps\\ninto the grave._]\\n\\nLAERTES. [_Grappling with him._] The devil take thy soul!\\n\\nHAMLET. Thou pray’st not well. I prythee take thy fingers from my\\nthroat; For though I am not splenative and rash, Yet have I in me\\nsomething dangerous, Which let thy wiseness fear. Away thy hand!\\n\\nKING. Pluck them asunder.\\n\\nQUEEN. Hamlet! Hamlet!\\n\\nAll. Gentlemen!\\n\\nHORATIO. Good my lord, be quiet.\\n\\n [_The Attendants part them, and they come out of the grave._]\\n\\nHAMLET. Why, I will fight with him upon this theme Until my eyelids\\nwill no longer wag.\\n\\nQUEEN. O my son, what theme?\\n\\nHAMLET. I lov’d Ophelia; forty thousand brothers Could not, with all\\ntheir quantity of love, Make up my sum. What wilt thou do for her?\\n\\nKING. O, he is mad, Laertes.\\n\\nQUEEN. For love of God forbear him!\\n\\nHAMLET. ’Swounds, show me what thou’lt do: Woul’t weep? woul’t fight?\\nwoul’t fast? woul’t tear thyself? Woul’t drink up eisel? eat a\\ncrocodile? I’ll do’t. Dost thou come here to whine? To outface me with\\nleaping in her grave? Be buried quick with her, and so will I. And if\\nthou prate of mountains, let them throw Millions of acres on us, till\\nour ground, Singeing his pate against the burning zone, Make Ossa like\\na wart. Nay, an thou’lt mouth, I’ll rant as well as thou.\\n\\nQUEEN. This is mere madness: And thus awhile the fit will work on him;\\nAnon, as patient as the female dove, When that her golden couplets are\\ndisclos’d, His silence will sit drooping.\\n\\nHAMLET. Hear you, sir; What is the reason that you use me thus? I lov’d\\nyou ever. But it is no matter. Let Hercules himself do what he may, The\\ncat will mew, and dog will have his day.\\n\\n [_Exit._]\\n\\nKING. I pray thee, good Horatio, wait upon him.\\n\\n [_Exit Horatio._]\\n\\n[_To Laertes_] Strengthen your patience in our last night’s speech;\\nWe’ll put the matter to the present push.— Good Gertrude, set some\\nwatch over your son. This grave shall have a living monument. An hour\\nof quiet shortly shall we see; Till then in patience our proceeding be.\\n\\n [_Exeunt._]\\n\\nSCENE II. A hall in the Castle.\\n\\n Enter Hamlet and Horatio.\\n\\nHAMLET. So much for this, sir. Now let me see the other; You do\\nremember all the circumstance?\\n\\nHORATIO. Remember it, my lord!\\n\\nHAMLET. Sir, in my heart there was a kind of fighting That would not\\nlet me sleep. Methought I lay Worse than the mutinies in the bilboes.\\nRashly, And prais’d be rashness for it,—let us know, Our indiscretion\\nsometime serves us well, When our deep plots do pall; and that should\\nteach us There’s a divinity that shapes our ends, Rough-hew them how we\\nwill.\\n\\nHORATIO. That is most certain.\\n\\nHAMLET. Up from my cabin, My sea-gown scarf’d about me, in the dark\\nGrop’d I to find out them; had my desire, Finger’d their packet, and in\\nfine, withdrew To mine own room again, making so bold, My fears\\nforgetting manners, to unseal Their grand commission; where I found,\\nHoratio, Oh royal knavery! an exact command, Larded with many several\\nsorts of reasons, Importing Denmark’s health, and England’s too, With\\nho! such bugs and goblins in my life, That on the supervise, no leisure\\nbated, No, not to stay the grinding of the axe, My head should be\\nstruck off.\\n\\nHORATIO. Is’t possible?\\n\\nHAMLET. Here’s the commission, read it at more leisure. But wilt thou\\nhear me how I did proceed?\\n\\nHORATIO. I beseech you.\\n\\nHAMLET. Being thus benetted round with villanies,— Or I could make a\\nprologue to my brains, They had begun the play,—I sat me down, Devis’d\\na new commission, wrote it fair: I once did hold it, as our statists\\ndo, A baseness to write fair, and labour’d much How to forget that\\nlearning; but, sir, now It did me yeoman’s service. Wilt thou know The\\neffect of what I wrote?\\n\\nHORATIO. Ay, good my lord.\\n\\nHAMLET. An earnest conjuration from the King, As England was his\\nfaithful tributary, As love between them like the palm might flourish,\\nAs peace should still her wheaten garland wear And stand a comma ’tween\\ntheir amities, And many such-like ‘as’es of great charge, That on the\\nview and know of these contents, Without debatement further, more or\\nless, He should the bearers put to sudden death, Not shriving-time\\nallow’d.\\n\\nHORATIO. How was this seal’d?\\n\\nHAMLET. Why, even in that was heaven ordinant. I had my father’s signet\\nin my purse, Which was the model of that Danish seal: Folded the writ\\nup in the form of the other, Subscrib’d it: gave’t th’impression;\\nplac’d it safely, The changeling never known. Now, the next day Was our\\nsea-fight, and what to this was sequent Thou know’st already.\\n\\nHORATIO. So Guildenstern and Rosencrantz go to’t.\\n\\nHAMLET. Why, man, they did make love to this employment. They are not\\nnear my conscience; their defeat Does by their own insinuation grow.\\n’Tis dangerous when the baser nature comes Between the pass and fell\\nincensed points Of mighty opposites.\\n\\nHORATIO. Why, what a king is this!\\n\\nHAMLET. Does it not, thinks’t thee, stand me now upon,— He that hath\\nkill’d my king, and whor’d my mother, Popp’d in between th’election and\\nmy hopes, Thrown out his angle for my proper life, And with such\\ncozenage—is’t not perfect conscience To quit him with this arm? And\\nis’t not to be damn’d To let this canker of our nature come In further\\nevil?\\n\\nHORATIO. It must be shortly known to him from England What is the issue\\nof the business there.\\n\\nHAMLET. It will be short. The interim is mine; And a man’s life’s no\\nmore than to say ‘One’. But I am very sorry, good Horatio, That to\\nLaertes I forgot myself; For by the image of my cause I see The\\nportraiture of his. I’ll court his favours. But sure the bravery of his\\ngrief did put me Into a tow’ring passion.\\n\\nHORATIO. Peace, who comes here?\\n\\n Enter Osric.\\n\\nOSRIC. Your lordship is right welcome back to Denmark.\\n\\nHAMLET. I humbly thank you, sir. Dost know this waterfly?\\n\\nHORATIO. No, my good lord.\\n\\nHAMLET. Thy state is the more gracious; for ’tis a vice to know him. He\\nhath much land, and fertile; let a beast be lord of beasts, and his\\ncrib shall stand at the king’s mess; ’tis a chough; but, as I say,\\nspacious in the possession of dirt.\\n\\nOSRIC. Sweet lord, if your lordship were at leisure, I should impart a\\nthing to you from his Majesty.\\n\\nHAMLET. I will receive it with all diligence of spirit. Put your bonnet\\nto his right use; ’tis for the head.\\n\\nOSRIC. I thank your lordship, ’tis very hot.\\n\\nHAMLET. No, believe me, ’tis very cold, the wind is northerly.\\n\\nOSRIC. It is indifferent cold, my lord, indeed.\\n\\nHAMLET. Methinks it is very sultry and hot for my complexion.\\n\\nOSRIC. Exceedingly, my lord; it is very sultry,—as ’twere—I cannot tell\\nhow. But, my lord, his Majesty bade me signify to you that he has laid\\na great wager on your head. Sir, this is the matter,—\\n\\nHAMLET. I beseech you, remember,—\\n\\n [_Hamlet moves him to put on his hat._]\\n\\nOSRIC. Nay, in good faith; for mine ease, in good faith. Sir, here is\\nnewly come to court Laertes; believe me, an absolute gentleman, full of\\nmost excellent differences, of very soft society and great showing.\\nIndeed, to speak feelingly of him, he is the card or calendar of\\ngentry; for you shall find in him the continent of what part a\\ngentleman would see.\\n\\nHAMLET. Sir, his definement suffers no perdition in you, though I know,\\nto divide him inventorially would dizzy th’arithmetic of memory, and\\nyet but yaw neither, in respect of his quick sail. But, in the verity\\nof extolment, I take him to be a soul of great article and his infusion\\nof such dearth and rareness as, to make true diction of him, his\\nsemblable is his mirror and who else would trace him his umbrage,\\nnothing more.\\n\\nOSRIC. Your lordship speaks most infallibly of him.\\n\\nHAMLET. The concernancy, sir? Why do we wrap the gentleman in our more\\nrawer breath?\\n\\nOSRIC. Sir?\\n\\nHORATIO. Is’t not possible to understand in another tongue? You will\\ndo’t, sir, really.\\n\\nHAMLET. What imports the nomination of this gentleman?\\n\\nOSRIC. Of Laertes?\\n\\nHORATIO. His purse is empty already, all’s golden words are spent.\\n\\nHAMLET. Of him, sir.\\n\\nOSRIC. I know you are not ignorant,—\\n\\nHAMLET. I would you did, sir; yet in faith if you did, it would not\\nmuch approve me. Well, sir?\\n\\nOSRIC. You are not ignorant of what excellence Laertes is,—\\n\\nHAMLET. I dare not confess that, lest I should compare with him in\\nexcellence; but to know a man well were to know himself.\\n\\nOSRIC. I mean, sir, for his weapon; but in the imputation laid on him,\\nby them in his meed he’s unfellowed.\\n\\nHAMLET. What’s his weapon?\\n\\nOSRIC. Rapier and dagger.\\n\\nHAMLET. That’s two of his weapons. But well.\\n\\nOSRIC. The King, sir, hath wager’d with him six Barbary horses, against\\nthe which he has imponed, as I take it, six French rapiers and\\nponiards, with their assigns, as girdle, hangers, and so. Three of the\\ncarriages, in faith, are very dear to fancy, very responsive to the\\nhilts, most delicate carriages, and of very liberal conceit.\\n\\nHAMLET. What call you the carriages?\\n\\nHORATIO. I knew you must be edified by the margin ere you had done.\\n\\nOSRIC. The carriages, sir, are the hangers.\\n\\nHAMLET. The phrase would be more german to the matter if we could carry\\ncannon by our sides. I would it might be hangers till then. But on. Six\\nBarbary horses against six French swords, their assigns, and three\\nliberal conceited carriages: that’s the French bet against the Danish.\\nWhy is this all imponed, as you call it?\\n\\nOSRIC. The King, sir, hath laid that in a dozen passes between you and\\nhim, he shall not exceed you three hits. He hath laid on twelve for\\nnine. And it would come to immediate trial if your lordship would\\nvouchsafe the answer.\\n\\nHAMLET. How if I answer no?\\n\\nOSRIC. I mean, my lord, the opposition of your person in trial.\\n\\nHAMLET. Sir, I will walk here in the hall. If it please his Majesty, it\\nis the breathing time of day with me. Let the foils be brought, the\\ngentleman willing, and the King hold his purpose, I will win for him if\\nI can; if not, I will gain nothing but my shame and the odd hits.\\n\\nOSRIC. Shall I re-deliver you e’en so?\\n\\nHAMLET. To this effect, sir; after what flourish your nature will.\\n\\nOSRIC. I commend my duty to your lordship.\\n\\nHAMLET. Yours, yours.\\n\\n [_Exit Osric._]\\n\\nHe does well to commend it himself, there are no tongues else for’s\\nturn.\\n\\nHORATIO. This lapwing runs away with the shell on his head.\\n\\nHAMLET. He did comply with his dug before he suck’d it. Thus has\\nhe,—and many more of the same bevy that I know the drossy age dotes\\non,— only got the tune of the time and outward habit of encounter; a\\nkind of yeasty collection, which carries them through and through the\\nmost fanned and winnowed opinions; and do but blow them to their trial,\\nthe bubbles are out,\\n\\n Enter a Lord.\\n\\nLORD. My lord, his Majesty commended him to you by young Osric, who\\nbrings back to him that you attend him in the hall. He sends to know if\\nyour pleasure hold to play with Laertes or that you will take longer\\ntime.\\n\\nHAMLET. I am constant to my purposes, they follow the King’s pleasure.\\nIf his fitness speaks, mine is ready. Now or whensoever, provided I be\\nso able as now.\\n\\nLORD. The King and Queen and all are coming down.\\n\\nHAMLET. In happy time.\\n\\nLORD. The Queen desires you to use some gentle entertainment to Laertes\\nbefore you fall to play.\\n\\nHAMLET. She well instructs me.\\n\\n [_Exit Lord._]\\n\\nHORATIO. You will lose this wager, my lord.\\n\\nHAMLET. I do not think so. Since he went into France, I have been in\\ncontinual practice. I shall win at the odds. But thou wouldst not think\\nhow ill all’s here about my heart: but it is no matter.\\n\\nHORATIO. Nay, good my lord.\\n\\nHAMLET. It is but foolery; but it is such a kind of gain-giving as\\nwould perhaps trouble a woman.\\n\\nHORATIO. If your mind dislike anything, obey it. I will forestall their\\nrepair hither, and say you are not fit.\\n\\nHAMLET. Not a whit, we defy augury. There’s a special providence in the\\nfall of a sparrow. If it be now, ’tis not to come; if it be not to\\ncome, it will be now; if it be not now, yet it will come. The readiness\\nis all. Since no man has aught of what he leaves, what is’t to leave\\nbetimes?\\n\\n Enter King, Queen, Laertes, Lords, Osric and Attendants with foils &c.\\n\\nKING. Come, Hamlet, come, and take this hand from me.\\n\\n [_The King puts Laertes’s hand into Hamlet’s._]\\n\\nHAMLET. Give me your pardon, sir. I have done you wrong; But pardon’t\\nas you are a gentleman. This presence knows, and you must needs have\\nheard, How I am punish’d with sore distraction. What I have done That\\nmight your nature, honour, and exception Roughly awake, I here proclaim\\nwas madness. Was’t Hamlet wrong’d Laertes? Never Hamlet. If Hamlet from\\nhimself be ta’en away, And when he’s not himself does wrong Laertes,\\nThen Hamlet does it not, Hamlet denies it. Who does it, then? His\\nmadness. If’t be so, Hamlet is of the faction that is wrong’d; His\\nmadness is poor Hamlet’s enemy. Sir, in this audience, Let my\\ndisclaiming from a purpos’d evil Free me so far in your most generous\\nthoughts That I have shot my arrow o’er the house And hurt my brother.\\n\\nLAERTES. I am satisfied in nature, Whose motive in this case should\\nstir me most To my revenge. But in my terms of honour I stand aloof,\\nand will no reconcilement Till by some elder masters of known honour I\\nhave a voice and precedent of peace To keep my name ungor’d. But till\\nthat time I do receive your offer’d love like love, And will not wrong\\nit.\\n\\nHAMLET. I embrace it freely, And will this brother’s wager frankly\\nplay.— Give us the foils; come on.\\n\\nLAERTES. Come, one for me.\\n\\nHAMLET. I’ll be your foil, Laertes; in mine ignorance Your skill shall\\nlike a star i’ th’ darkest night, Stick fiery off indeed.\\n\\nLAERTES. You mock me, sir.\\n\\nHAMLET. No, by this hand.\\n\\nKING. Give them the foils, young Osric. Cousin Hamlet, You know the\\nwager?\\n\\nHAMLET. Very well, my lord. Your Grace has laid the odds o’ the weaker\\nside.\\n\\nKING. I do not fear it. I have seen you both; But since he is better’d,\\nwe have therefore odds.\\n\\nLAERTES. This is too heavy. Let me see another.\\n\\nHAMLET. This likes me well. These foils have all a length?\\n\\n [_They prepare to play._]\\n\\nOSRIC. Ay, my good lord.\\n\\nKING. Set me the stoups of wine upon that table. If Hamlet give the\\nfirst or second hit, Or quit in answer of the third exchange, Let all\\nthe battlements their ordnance fire; The King shall drink to Hamlet’s\\nbetter breath, And in the cup an union shall he throw Richer than that\\nwhich four successive kings In Denmark’s crown have worn. Give me the\\ncups; And let the kettle to the trumpet speak, The trumpet to the\\ncannoneer without, The cannons to the heavens, the heavens to earth,\\n‘Now the King drinks to Hamlet.’ Come, begin. And you, the judges, bear\\na wary eye.\\n\\nHAMLET. Come on, sir.\\n\\nLAERTES. Come, my lord.\\n\\n [_They play._]\\n\\nHAMLET. One.\\n\\nLAERTES. No.\\n\\nHAMLET. Judgment.\\n\\nOSRIC. A hit, a very palpable hit.\\n\\nLAERTES. Well; again.\\n\\nKING. Stay, give me drink. Hamlet, this pearl is thine; Here’s to thy\\nhealth.\\n\\n [_Trumpets sound, and cannon shot off within._]\\n\\nGive him the cup.\\n\\nHAMLET. I’ll play this bout first; set it by awhile.\\n\\n [_They play._]\\n\\nCome. Another hit; what say you?\\n\\n\\nLAERTES. A touch, a touch, I do confess.\\n\\nKING. Our son shall win.\\n\\nQUEEN. He’s fat, and scant of breath. Here, Hamlet, take my napkin, rub\\nthy brows. The Queen carouses to thy fortune, Hamlet.\\n\\nHAMLET. Good madam.\\n\\nKING. Gertrude, do not drink.\\n\\nQUEEN. I will, my lord; I pray you pardon me.\\n\\nKING. [_Aside._] It is the poison’d cup; it is too late.\\n\\nHAMLET. I dare not drink yet, madam. By and by.\\n\\nQUEEN. Come, let me wipe thy face.\\n\\nLAERTES. My lord, I’ll hit him now.\\n\\nKING. I do not think’t.\\n\\nLAERTES. [_Aside._] And yet ’tis almost ’gainst my conscience.\\n\\nHAMLET. Come for the third, Laertes. You do but dally. I pray you pass\\nwith your best violence. I am afeard you make a wanton of me.\\n\\nLAERTES. Say you so? Come on.\\n\\n [_They play._]\\n\\nOSRIC. Nothing neither way.\\n\\nLAERTES. Have at you now.\\n\\n [_Laertes wounds Hamlet; then, in scuffling, they change rapiers, and\\n Hamlet wounds Laertes._]\\n\\nKING. Part them; they are incens’d.\\n\\nHAMLET. Nay, come again!\\n\\n [_The Queen falls._]\\n\\nOSRIC. Look to the Queen there, ho!\\n\\nHORATIO. They bleed on both sides. How is it, my lord?\\n\\nOSRIC. How is’t, Laertes?\\n\\nLAERTES. Why, as a woodcock to my own springe, Osric. I am justly\\nkill’d with mine own treachery.\\n\\nHAMLET. How does the Queen?\\n\\nKING. She swoons to see them bleed.\\n\\nQUEEN. No, no, the drink, the drink! O my dear Hamlet! The drink, the\\ndrink! I am poison’d.\\n\\n [_Dies._]\\n\\nHAMLET. O villany! Ho! Let the door be lock’d: Treachery! Seek it out.\\n\\n [_Laertes falls._]\\n\\nLAERTES. It is here, Hamlet. Hamlet, thou art slain. No medicine in the\\nworld can do thee good. In thee there is not half an hour of life; The\\ntreacherous instrument is in thy hand, Unbated and envenom’d. The foul\\npractice Hath turn’d itself on me. Lo, here I lie, Never to rise again.\\nThy mother’s poison’d. I can no more. The King, the King’s to blame.\\n\\nHAMLET. The point envenom’d too! Then, venom, to thy work.\\n\\n [_Stabs the King._]\\n\\nOSRIC and LORDS. Treason! treason!\\n\\nKING. O yet defend me, friends. I am but hurt.\\n\\nHAMLET. Here, thou incestuous, murderous, damned Dane, Drink off this\\npotion. Is thy union here? Follow my mother.\\n\\n [_King dies._]\\n\\nLAERTES. He is justly serv’d. It is a poison temper’d by himself.\\nExchange forgiveness with me, noble Hamlet. Mine and my father’s death\\ncome not upon thee, Nor thine on me.\\n\\n [_Dies._]\\n\\nHAMLET. Heaven make thee free of it! I follow thee. I am dead, Horatio.\\nWretched Queen, adieu. You that look pale and tremble at this chance,\\nThat are but mutes or audience to this act, Had I but time,—as this\\nfell sergeant, death, Is strict in his arrest,—O, I could tell you,—\\nBut let it be. Horatio, I am dead, Thou liv’st; report me and my cause\\naright To the unsatisfied.\\n\\nHORATIO. Never believe it. I am more an antique Roman than a Dane.\\nHere’s yet some liquor left.\\n\\nHAMLET. As th’art a man, Give me the cup. Let go; by Heaven, I’ll\\nhave’t. O good Horatio, what a wounded name, Things standing thus\\nunknown, shall live behind me. If thou didst ever hold me in thy heart,\\nAbsent thee from felicity awhile, And in this harsh world draw thy\\nbreath in pain, To tell my story.\\n\\n [_March afar off, and shot within._]\\n\\nWhat warlike noise is this?\\n\\nOSRIC. Young Fortinbras, with conquest come from Poland, To the\\nambassadors of England gives This warlike volley.\\n\\nHAMLET. O, I die, Horatio. The potent poison quite o’er-crows my\\nspirit: I cannot live to hear the news from England, But I do prophesy\\nth’election lights On Fortinbras. He has my dying voice. So tell him,\\nwith the occurrents more and less, Which have solicited. The rest is\\nsilence.\\n\\n [_Dies._]\\n\\nHORATIO. Now cracks a noble heart. Good night, sweet prince, And\\nflights of angels sing thee to thy rest. Why does the drum come hither?\\n\\n [_March within._]\\n\\n Enter Fortinbras, the English Ambassadors and others.\\n\\nFORTINBRAS. Where is this sight?\\n\\nHORATIO. What is it you would see? If aught of woe or wonder, cease\\nyour search.\\n\\nFORTINBRAS. This quarry cries on havoc. O proud death, What feast is\\ntoward in thine eternal cell, That thou so many princes at a shot So\\nbloodily hast struck?\\n\\nFIRST AMBASSADOR. The sight is dismal; And our affairs from England\\ncome too late. The ears are senseless that should give us hearing, To\\ntell him his commandment is fulfill’d, That Rosencrantz and\\nGuildenstern are dead. Where should we have our thanks?\\n\\nHORATIO. Not from his mouth, Had it th’ability of life to thank you. He\\nnever gave commandment for their death. But since, so jump upon this\\nbloody question, You from the Polack wars, and you from England Are\\nhere arriv’d, give order that these bodies High on a stage be placed to\\nthe view, And let me speak to th’ yet unknowing world How these things\\ncame about. So shall you hear Of carnal, bloody and unnatural acts, Of\\naccidental judgments, casual slaughters, Of deaths put on by cunning\\nand forc’d cause, And, in this upshot, purposes mistook Fall’n on the\\ninventors’ heads. All this can I Truly deliver.\\n\\nFORTINBRAS. Let us haste to hear it, And call the noblest to the\\naudience. For me, with sorrow I embrace my fortune. I have some rights\\nof memory in this kingdom, Which now to claim my vantage doth invite\\nme.\\n\\nHORATIO. Of that I shall have also cause to speak, And from his mouth\\nwhose voice will draw on more. But let this same be presently\\nperform’d, Even while men’s minds are wild, lest more mischance On\\nplots and errors happen.\\n\\nFORTINBRAS. Let four captains Bear Hamlet like a soldier to the stage,\\nFor he was likely, had he been put on, To have prov’d most royally; and\\nfor his passage, The soldiers’ music and the rites of war Speak loudly\\nfor him. Take up the bodies. Such a sight as this Becomes the field,\\nbut here shows much amiss. Go, bid the soldiers shoot.\\n\\n [_A dead march._]\\n\\n [_Exeunt, bearing off the bodies, after which a peal of ordnance is\\n shot off._]\\n\\n\\n\\n'"
      ]
     },
     "execution_count": 83,
     "metadata": {},
     "output_type": "execute_result"
    }
   ],
   "source": [
    "acts[-1]"
   ]
  },
  {
   "cell_type": "code",
   "execution_count": 84,
   "id": "05305dd6-3bfb-4204-9745-4dabd449726f",
   "metadata": {
    "tags": []
   },
   "outputs": [
    {
     "data": {
      "text/plain": [
       "' V. A more remote part of the Castle.\\n\\n Enter Ghost and Hamlet.\\n\\nHAMLET. Whither wilt thou lead me? Speak, I’ll go no further.\\n\\nGHOST. Mark me.\\n\\nHAMLET. I will.\\n\\nGHOST. My hour is almost come, When I to sulph’rous and tormenting\\nflames Must render up myself.\\n\\nHAMLET. Alas, poor ghost!\\n\\nGHOST. Pity me not, but lend thy serious hearing To what I shall\\nunfold.\\n\\nHAMLET. Speak, I am bound to hear.\\n\\nGHOST. So art thou to revenge, when thou shalt hear.\\n\\nHAMLET. What?\\n\\nGHOST. I am thy father’s spirit, Doom’d for a certain term to walk the\\nnight, And for the day confin’d to fast in fires, Till the foul crimes\\ndone in my days of nature Are burnt and purg’d away. But that I am\\nforbid To tell the secrets of my prison-house, I could a tale unfold\\nwhose lightest word Would harrow up thy soul; freeze thy young blood,\\nMake thy two eyes like stars start from their spheres, Thy knotted and\\ncombined locks to part, And each particular hair to stand on end Like\\nquills upon the fretful porcupine. But this eternal blazon must not be\\nTo ears of flesh and blood. List, list, O, list! If thou didst ever thy\\ndear father love—\\n\\nHAMLET. O God!\\n\\nGHOST. Revenge his foul and most unnatural murder.\\n\\nHAMLET. Murder!\\n\\nGHOST. Murder most foul, as in the best it is; But this most foul,\\nstrange, and unnatural.\\n\\nHAMLET. Haste me to know’t, that I, with wings as swift As meditation\\nor the thoughts of love May sweep to my revenge.\\n\\nGHOST. I find thee apt; And duller shouldst thou be than the fat weed\\nThat rots itself in ease on Lethe wharf, Wouldst thou not stir in this.\\nNow, Hamlet, hear. ’Tis given out that, sleeping in my orchard, A\\nserpent stung me; so the whole ear of Denmark Is by a forged process of\\nmy death Rankly abus’d; but know, thou noble youth, The serpent that\\ndid sting thy father’s life Now wears his crown.\\n\\nHAMLET. O my prophetic soul! Mine uncle!\\n\\nGHOST. Ay, that incestuous, that adulterate beast, With witchcraft of\\nhis wit, with traitorous gifts,— O wicked wit, and gifts, that have the\\npower So to seduce!—won to his shameful lust The will of my most\\nseeming-virtuous queen. O Hamlet, what a falling off was there, From\\nme, whose love was of that dignity That it went hand in hand even with\\nthe vow I made to her in marriage; and to decline Upon a wretch whose\\nnatural gifts were poor To those of mine. But virtue, as it never will\\nbe mov’d, Though lewdness court it in a shape of heaven; So lust,\\nthough to a radiant angel link’d, Will sate itself in a celestial bed\\nAnd prey on garbage. But soft! methinks I scent the morning air; Brief\\nlet me be. Sleeping within my orchard, My custom always of the\\nafternoon, Upon my secure hour thy uncle stole With juice of cursed\\nhebenon in a vial, And in the porches of my ears did pour The leperous\\ndistilment, whose effect Holds such an enmity with blood of man That\\nswift as quicksilver it courses through The natural gates and alleys of\\nthe body; And with a sudden vigour it doth posset And curd, like eager\\ndroppings into milk, The thin and wholesome blood. So did it mine; And\\na most instant tetter bark’d about, Most lazar-like, with vile and\\nloathsome crust All my smooth body. Thus was I, sleeping, by a\\nbrother’s hand, Of life, of crown, of queen at once dispatch’d: Cut off\\neven in the blossoms of my sin, Unhous’led, disappointed, unanel’d; No\\nreckoning made, but sent to my account With all my imperfections on my\\nhead. O horrible! O horrible! most horrible! If thou hast nature in\\nthee, bear it not; Let not the royal bed of Denmark be A couch for\\nluxury and damned incest. But howsoever thou pursu’st this act, Taint\\nnot thy mind, nor let thy soul contrive Against thy mother aught; leave\\nher to heaven, And to those thorns that in her bosom lodge, To prick\\nand sting her. Fare thee well at once! The glow-worm shows the matin to\\nbe near, And ’gins to pale his uneffectual fire. Adieu, adieu, adieu.\\nHamlet, remember me.\\n\\n [_Exit._]\\n\\nHAMLET. O all you host of heaven! O earth! What else? And shall I\\ncouple hell? O, fie! Hold, my heart; And you, my sinews, grow not\\ninstant old, But bear me stiffly up. Remember thee? Ay, thou poor\\nghost, while memory holds a seat In this distracted globe. Remember\\nthee? Yea, from the table of my memory I’ll wipe away all trivial fond\\nrecords, All saws of books, all forms, all pressures past, That youth\\nand observation copied there; And thy commandment all alone shall live\\nWithin the book and volume of my brain, Unmix’d with baser matter. Yes,\\nby heaven! O most pernicious woman! O villain, villain, smiling damned\\nvillain! My tables. Meet it is I set it down, That one may smile, and\\nsmile, and be a villain! At least I am sure it may be so in Denmark.\\n\\n [_Writing._]\\n\\nSo, uncle, there you are. Now to my word; It is ‘Adieu, adieu, remember\\nme.’ I have sworn’t.\\n\\nHORATIO and MARCELLUS. [_Within._] My lord, my lord.\\n\\nMARCELLUS. [_Within._] Lord Hamlet.\\n\\nHORATIO. [_Within._] Heaven secure him.\\n\\nHAMLET. So be it!\\n\\nMARCELLUS. [_Within._] Illo, ho, ho, my lord!\\n\\nHAMLET. Hillo, ho, ho, boy! Come, bird, come.\\n\\n Enter Horatio and Marcellus.\\n\\nMARCELLUS. How is’t, my noble lord?\\n\\nHORATIO. What news, my lord?\\n\\nHAMLET. O, wonderful!\\n\\nHORATIO. Good my lord, tell it.\\n\\nHAMLET. No, you’ll reveal it.\\n\\nHORATIO. Not I, my lord, by heaven.\\n\\nMARCELLUS. Nor I, my lord.\\n\\nHAMLET. How say you then, would heart of man once think it?— But you’ll\\nbe secret?\\n\\nHORATIO and MARCELLUS. Ay, by heaven, my lord.\\n\\nHAMLET. There’s ne’er a villain dwelling in all Denmark But he’s an\\narrant knave.\\n\\nHORATIO. There needs no ghost, my lord, come from the grave To tell us\\nthis.\\n\\nHAMLET. Why, right; you are i’ the right; And so, without more\\ncircumstance at all, I hold it fit that we shake hands and part: You,\\nas your business and desires shall point you,— For every man hath\\nbusiness and desire, Such as it is;—and for my own poor part, Look you,\\nI’ll go pray.\\n\\nHORATIO. These are but wild and whirling words, my lord.\\n\\nHAMLET. I’m sorry they offend you, heartily; Yes faith, heartily.\\n\\nHORATIO. There’s no offence, my lord.\\n\\nHAMLET. Yes, by Saint Patrick, but there is, Horatio, And much offence\\ntoo. Touching this vision here, It is an honest ghost, that let me tell\\nyou. For your desire to know what is between us, O’ermaster’t as you\\nmay. And now, good friends, As you are friends, scholars, and soldiers,\\nGive me one poor request.\\n\\nHORATIO. What is’t, my lord? We will.\\n\\nHAMLET. Never make known what you have seen tonight.\\n\\nHORATIO and MARCELLUS. My lord, we will not.\\n\\nHAMLET. Nay, but swear’t.\\n\\nHORATIO. In faith, my lord, not I.\\n\\nMARCELLUS. Nor I, my lord, in faith.\\n\\nHAMLET. Upon my sword.\\n\\nMARCELLUS. We have sworn, my lord, already.\\n\\nHAMLET. Indeed, upon my sword, indeed.\\n\\nGHOST. [_Cries under the stage._] Swear.\\n\\nHAMLET. Ha, ha boy, say’st thou so? Art thou there, truepenny? Come on,\\nyou hear this fellow in the cellarage. Consent to swear.\\n\\nHORATIO. Propose the oath, my lord.\\n\\nHAMLET. Never to speak of this that you have seen. Swear by my sword.\\n\\nGHOST. [_Beneath._] Swear.\\n\\nHAMLET. _Hic et ubique?_ Then we’ll shift our ground. Come hither,\\ngentlemen, And lay your hands again upon my sword. Never to speak of\\nthis that you have heard. Swear by my sword.\\n\\nGHOST. [_Beneath._] Swear.\\n\\nHAMLET. Well said, old mole! Canst work i’ th’earth so fast? A worthy\\npioner! Once more remove, good friends.\\n\\nHORATIO. O day and night, but this is wondrous strange.\\n\\nHAMLET. And therefore as a stranger give it welcome. There are more\\nthings in heaven and earth, Horatio, Than are dreamt of in your\\nphilosophy. But come, Here, as before, never, so help you mercy, How\\nstrange or odd soe’er I bear myself,— As I perchance hereafter shall\\nthink meet To put an antic disposition on— That you, at such times\\nseeing me, never shall, With arms encumber’d thus, or this head-shake,\\nOr by pronouncing of some doubtful phrase, As ‘Well, we know’, or ‘We\\ncould and if we would’, Or ‘If we list to speak’; or ‘There be and if\\nthey might’, Or such ambiguous giving out, to note That you know aught\\nof me:—this not to do. So grace and mercy at your most need help you,\\nSwear.\\n\\nGHOST. [_Beneath._] Swear.\\n\\nHAMLET. Rest, rest, perturbed spirit. So, gentlemen, With all my love I\\ndo commend me to you; And what so poor a man as Hamlet is May do\\nt’express his love and friending to you, God willing, shall not lack.\\nLet us go in together, And still your fingers on your lips, I pray. The\\ntime is out of joint. O cursed spite, That ever I was born to set it\\nright. Nay, come, let’s go together.\\n\\n [_Exeunt._]\\n\\n\\n\\n'"
      ]
     },
     "execution_count": 84,
     "metadata": {},
     "output_type": "execute_result"
    }
   ],
   "source": [
    "acts[1].split('SCENE')[-1]"
   ]
  },
  {
   "cell_type": "code",
   "execution_count": 85,
   "id": "5f259533-a720-43ad-8916-12fd43c6a280",
   "metadata": {},
   "outputs": [
    {
     "data": {
      "text/plain": [
       "65"
      ]
     },
     "execution_count": 85,
     "metadata": {},
     "output_type": "execute_result"
    }
   ],
   "source": [
    "acts[1].split('SCENE')[-1].find('HAMLET')"
   ]
  },
  {
   "cell_type": "code",
   "execution_count": 86,
   "id": "f33bebaf-8a56-4348-8e17-cc2e8ec96be6",
   "metadata": {},
   "outputs": [],
   "source": [
    "characters = ['HAMLET', 'QUEEN GERTRUDE', 'KING CLAUDIUS', 'OPHELIA', 'LAERTES', 'POLONIUS','REYNALDO', 'HORATIO', 'VOLTEMAND', 'CORNELIUS', 'ROSENCRANTZ', 'GUILDENSTERN', 'OSRIC', 'GENTLEMAN', 'FRANCISCO', 'BARNARDO', 'MARCELLUS', 'FORTINBRAS', 'LORDS']"
   ]
  },
  {
   "cell_type": "code",
   "execution_count": 87,
   "id": "465e0ad7-9187-4493-bcca-d1b31b510198",
   "metadata": {},
   "outputs": [
    {
     "data": {
      "text/plain": [
       "6"
      ]
     },
     "execution_count": 87,
     "metadata": {},
     "output_type": "execute_result"
    }
   ],
   "source": [
    "len(acts)"
   ]
  },
  {
   "cell_type": "code",
   "execution_count": 88,
   "id": "efb8651c-a428-4848-8112-c097932525c3",
   "metadata": {},
   "outputs": [],
   "source": [
    "charnum = {}\n",
    "\n",
    "connections = {}\n",
    "for i in range(len(characters)-1):\n",
    "    for j in range(i+1,len(characters)):\n",
    "        connections[(characters[i],characters[j])] = 0\n",
    "\n",
    "for k in characters:\n",
    "    charnum[k] = 0\n",
    "\n",
    "for i in acts:\n",
    "    for j in i.split('SCENE')[1:]:\n",
    "        scenechars = []\n",
    "        for k in characters:\n",
    "            if j.find(k) != -1:\n",
    "                scenechars.append(k)\n",
    "                charnum[k] += 1\n",
    "        for a in range(len(scenechars)-1):\n",
    "            for b in range(a+1,len(scenechars)):\n",
    "                connections[(scenechars[a],scenechars[b])] += 1"
   ]
  },
  {
   "cell_type": "code",
   "execution_count": 89,
   "id": "1c584f5a-04f2-42d9-a6ff-42eda0f4a0cc",
   "metadata": {},
   "outputs": [
    {
     "data": {
      "text/plain": [
       "{'HAMLET': 15,\n",
       " 'QUEEN GERTRUDE': 0,\n",
       " 'KING CLAUDIUS': 0,\n",
       " 'OPHELIA': 5,\n",
       " 'LAERTES': 6,\n",
       " 'POLONIUS': 8,\n",
       " 'REYNALDO': 1,\n",
       " 'HORATIO': 8,\n",
       " 'VOLTEMAND': 2,\n",
       " 'CORNELIUS': 1,\n",
       " 'ROSENCRANTZ': 7,\n",
       " 'GUILDENSTERN': 5,\n",
       " 'OSRIC': 1,\n",
       " 'GENTLEMAN': 1,\n",
       " 'FRANCISCO': 1,\n",
       " 'BARNARDO': 2,\n",
       " 'MARCELLUS': 4,\n",
       " 'FORTINBRAS': 2,\n",
       " 'LORDS': 1}"
      ]
     },
     "execution_count": 89,
     "metadata": {},
     "output_type": "execute_result"
    }
   ],
   "source": [
    "charnum"
   ]
  },
  {
   "cell_type": "code",
   "execution_count": 90,
   "id": "014736e5-a091-4f9b-80d6-69c57fc940c1",
   "metadata": {},
   "outputs": [
    {
     "data": {
      "text/plain": [
       "{('HAMLET', 'QUEEN GERTRUDE'): 0,\n",
       " ('HAMLET', 'KING CLAUDIUS'): 0,\n",
       " ('HAMLET', 'OPHELIA'): 2,\n",
       " ('HAMLET', 'LAERTES'): 4,\n",
       " ('HAMLET', 'POLONIUS'): 6,\n",
       " ('HAMLET', 'REYNALDO'): 0,\n",
       " ('HAMLET', 'HORATIO'): 7,\n",
       " ('HAMLET', 'VOLTEMAND'): 2,\n",
       " ('HAMLET', 'CORNELIUS'): 1,\n",
       " ('HAMLET', 'ROSENCRANTZ'): 7,\n",
       " ('HAMLET', 'GUILDENSTERN'): 5,\n",
       " ('HAMLET', 'OSRIC'): 1,\n",
       " ('HAMLET', 'GENTLEMAN'): 0,\n",
       " ('HAMLET', 'FRANCISCO'): 0,\n",
       " ('HAMLET', 'BARNARDO'): 1,\n",
       " ('HAMLET', 'MARCELLUS'): 3,\n",
       " ('HAMLET', 'FORTINBRAS'): 2,\n",
       " ('HAMLET', 'LORDS'): 1,\n",
       " ('QUEEN GERTRUDE', 'KING CLAUDIUS'): 0,\n",
       " ('QUEEN GERTRUDE', 'OPHELIA'): 0,\n",
       " ('QUEEN GERTRUDE', 'LAERTES'): 0,\n",
       " ('QUEEN GERTRUDE', 'POLONIUS'): 0,\n",
       " ('QUEEN GERTRUDE', 'REYNALDO'): 0,\n",
       " ('QUEEN GERTRUDE', 'HORATIO'): 0,\n",
       " ('QUEEN GERTRUDE', 'VOLTEMAND'): 0,\n",
       " ('QUEEN GERTRUDE', 'CORNELIUS'): 0,\n",
       " ('QUEEN GERTRUDE', 'ROSENCRANTZ'): 0,\n",
       " ('QUEEN GERTRUDE', 'GUILDENSTERN'): 0,\n",
       " ('QUEEN GERTRUDE', 'OSRIC'): 0,\n",
       " ('QUEEN GERTRUDE', 'GENTLEMAN'): 0,\n",
       " ('QUEEN GERTRUDE', 'FRANCISCO'): 0,\n",
       " ('QUEEN GERTRUDE', 'BARNARDO'): 0,\n",
       " ('QUEEN GERTRUDE', 'MARCELLUS'): 0,\n",
       " ('QUEEN GERTRUDE', 'FORTINBRAS'): 0,\n",
       " ('QUEEN GERTRUDE', 'LORDS'): 0,\n",
       " ('KING CLAUDIUS', 'OPHELIA'): 0,\n",
       " ('KING CLAUDIUS', 'LAERTES'): 0,\n",
       " ('KING CLAUDIUS', 'POLONIUS'): 0,\n",
       " ('KING CLAUDIUS', 'REYNALDO'): 0,\n",
       " ('KING CLAUDIUS', 'HORATIO'): 0,\n",
       " ('KING CLAUDIUS', 'VOLTEMAND'): 0,\n",
       " ('KING CLAUDIUS', 'CORNELIUS'): 0,\n",
       " ('KING CLAUDIUS', 'ROSENCRANTZ'): 0,\n",
       " ('KING CLAUDIUS', 'GUILDENSTERN'): 0,\n",
       " ('KING CLAUDIUS', 'OSRIC'): 0,\n",
       " ('KING CLAUDIUS', 'GENTLEMAN'): 0,\n",
       " ('KING CLAUDIUS', 'FRANCISCO'): 0,\n",
       " ('KING CLAUDIUS', 'BARNARDO'): 0,\n",
       " ('KING CLAUDIUS', 'MARCELLUS'): 0,\n",
       " ('KING CLAUDIUS', 'FORTINBRAS'): 0,\n",
       " ('KING CLAUDIUS', 'LORDS'): 0,\n",
       " ('OPHELIA', 'LAERTES'): 2,\n",
       " ('OPHELIA', 'POLONIUS'): 4,\n",
       " ('OPHELIA', 'REYNALDO'): 1,\n",
       " ('OPHELIA', 'HORATIO'): 1,\n",
       " ('OPHELIA', 'VOLTEMAND'): 0,\n",
       " ('OPHELIA', 'CORNELIUS'): 0,\n",
       " ('OPHELIA', 'ROSENCRANTZ'): 2,\n",
       " ('OPHELIA', 'GUILDENSTERN'): 2,\n",
       " ('OPHELIA', 'OSRIC'): 0,\n",
       " ('OPHELIA', 'GENTLEMAN'): 1,\n",
       " ('OPHELIA', 'FRANCISCO'): 0,\n",
       " ('OPHELIA', 'BARNARDO'): 0,\n",
       " ('OPHELIA', 'MARCELLUS'): 0,\n",
       " ('OPHELIA', 'FORTINBRAS'): 0,\n",
       " ('OPHELIA', 'LORDS'): 0,\n",
       " ('LAERTES', 'POLONIUS'): 2,\n",
       " ('LAERTES', 'REYNALDO'): 0,\n",
       " ('LAERTES', 'HORATIO'): 3,\n",
       " ('LAERTES', 'VOLTEMAND'): 1,\n",
       " ('LAERTES', 'CORNELIUS'): 1,\n",
       " ('LAERTES', 'ROSENCRANTZ'): 0,\n",
       " ('LAERTES', 'GUILDENSTERN'): 0,\n",
       " ('LAERTES', 'OSRIC'): 1,\n",
       " ('LAERTES', 'GENTLEMAN'): 1,\n",
       " ('LAERTES', 'FRANCISCO'): 0,\n",
       " ('LAERTES', 'BARNARDO'): 1,\n",
       " ('LAERTES', 'MARCELLUS'): 1,\n",
       " ('LAERTES', 'FORTINBRAS'): 1,\n",
       " ('LAERTES', 'LORDS'): 1,\n",
       " ('POLONIUS', 'REYNALDO'): 1,\n",
       " ('POLONIUS', 'HORATIO'): 2,\n",
       " ('POLONIUS', 'VOLTEMAND'): 2,\n",
       " ('POLONIUS', 'CORNELIUS'): 1,\n",
       " ('POLONIUS', 'ROSENCRANTZ'): 4,\n",
       " ('POLONIUS', 'GUILDENSTERN'): 4,\n",
       " ('POLONIUS', 'OSRIC'): 0,\n",
       " ('POLONIUS', 'GENTLEMAN'): 0,\n",
       " ('POLONIUS', 'FRANCISCO'): 0,\n",
       " ('POLONIUS', 'BARNARDO'): 1,\n",
       " ('POLONIUS', 'MARCELLUS'): 1,\n",
       " ('POLONIUS', 'FORTINBRAS'): 0,\n",
       " ('POLONIUS', 'LORDS'): 0,\n",
       " ('REYNALDO', 'HORATIO'): 0,\n",
       " ('REYNALDO', 'VOLTEMAND'): 0,\n",
       " ('REYNALDO', 'CORNELIUS'): 0,\n",
       " ('REYNALDO', 'ROSENCRANTZ'): 0,\n",
       " ('REYNALDO', 'GUILDENSTERN'): 0,\n",
       " ('REYNALDO', 'OSRIC'): 0,\n",
       " ('REYNALDO', 'GENTLEMAN'): 0,\n",
       " ('REYNALDO', 'FRANCISCO'): 0,\n",
       " ('REYNALDO', 'BARNARDO'): 0,\n",
       " ('REYNALDO', 'MARCELLUS'): 0,\n",
       " ('REYNALDO', 'FORTINBRAS'): 0,\n",
       " ('REYNALDO', 'LORDS'): 0,\n",
       " ('HORATIO', 'VOLTEMAND'): 1,\n",
       " ('HORATIO', 'CORNELIUS'): 1,\n",
       " ('HORATIO', 'ROSENCRANTZ'): 1,\n",
       " ('HORATIO', 'GUILDENSTERN'): 1,\n",
       " ('HORATIO', 'OSRIC'): 1,\n",
       " ('HORATIO', 'GENTLEMAN'): 0,\n",
       " ('HORATIO', 'FRANCISCO'): 1,\n",
       " ('HORATIO', 'BARNARDO'): 2,\n",
       " ('HORATIO', 'MARCELLUS'): 4,\n",
       " ('HORATIO', 'FORTINBRAS'): 1,\n",
       " ('HORATIO', 'LORDS'): 1,\n",
       " ('VOLTEMAND', 'CORNELIUS'): 1,\n",
       " ('VOLTEMAND', 'ROSENCRANTZ'): 1,\n",
       " ('VOLTEMAND', 'GUILDENSTERN'): 1,\n",
       " ('VOLTEMAND', 'OSRIC'): 0,\n",
       " ('VOLTEMAND', 'GENTLEMAN'): 0,\n",
       " ('VOLTEMAND', 'FRANCISCO'): 0,\n",
       " ('VOLTEMAND', 'BARNARDO'): 1,\n",
       " ('VOLTEMAND', 'MARCELLUS'): 1,\n",
       " ('VOLTEMAND', 'FORTINBRAS'): 0,\n",
       " ('VOLTEMAND', 'LORDS'): 0,\n",
       " ('CORNELIUS', 'ROSENCRANTZ'): 0,\n",
       " ('CORNELIUS', 'GUILDENSTERN'): 0,\n",
       " ('CORNELIUS', 'OSRIC'): 0,\n",
       " ('CORNELIUS', 'GENTLEMAN'): 0,\n",
       " ('CORNELIUS', 'FRANCISCO'): 0,\n",
       " ('CORNELIUS', 'BARNARDO'): 1,\n",
       " ('CORNELIUS', 'MARCELLUS'): 1,\n",
       " ('CORNELIUS', 'FORTINBRAS'): 0,\n",
       " ('CORNELIUS', 'LORDS'): 0,\n",
       " ('ROSENCRANTZ', 'GUILDENSTERN'): 5,\n",
       " ('ROSENCRANTZ', 'OSRIC'): 0,\n",
       " ('ROSENCRANTZ', 'GENTLEMAN'): 0,\n",
       " ('ROSENCRANTZ', 'FRANCISCO'): 0,\n",
       " ('ROSENCRANTZ', 'BARNARDO'): 0,\n",
       " ('ROSENCRANTZ', 'MARCELLUS'): 0,\n",
       " ('ROSENCRANTZ', 'FORTINBRAS'): 1,\n",
       " ('ROSENCRANTZ', 'LORDS'): 0,\n",
       " ('GUILDENSTERN', 'OSRIC'): 0,\n",
       " ('GUILDENSTERN', 'GENTLEMAN'): 0,\n",
       " ('GUILDENSTERN', 'FRANCISCO'): 0,\n",
       " ('GUILDENSTERN', 'BARNARDO'): 0,\n",
       " ('GUILDENSTERN', 'MARCELLUS'): 0,\n",
       " ('GUILDENSTERN', 'FORTINBRAS'): 0,\n",
       " ('GUILDENSTERN', 'LORDS'): 0,\n",
       " ('OSRIC', 'GENTLEMAN'): 0,\n",
       " ('OSRIC', 'FRANCISCO'): 0,\n",
       " ('OSRIC', 'BARNARDO'): 0,\n",
       " ('OSRIC', 'MARCELLUS'): 0,\n",
       " ('OSRIC', 'FORTINBRAS'): 1,\n",
       " ('OSRIC', 'LORDS'): 1,\n",
       " ('GENTLEMAN', 'FRANCISCO'): 0,\n",
       " ('GENTLEMAN', 'BARNARDO'): 0,\n",
       " ('GENTLEMAN', 'MARCELLUS'): 0,\n",
       " ('GENTLEMAN', 'FORTINBRAS'): 0,\n",
       " ('GENTLEMAN', 'LORDS'): 0,\n",
       " ('FRANCISCO', 'BARNARDO'): 1,\n",
       " ('FRANCISCO', 'MARCELLUS'): 1,\n",
       " ('FRANCISCO', 'FORTINBRAS'): 0,\n",
       " ('FRANCISCO', 'LORDS'): 0,\n",
       " ('BARNARDO', 'MARCELLUS'): 2,\n",
       " ('BARNARDO', 'FORTINBRAS'): 0,\n",
       " ('BARNARDO', 'LORDS'): 0,\n",
       " ('MARCELLUS', 'FORTINBRAS'): 0,\n",
       " ('MARCELLUS', 'LORDS'): 0,\n",
       " ('FORTINBRAS', 'LORDS'): 1}"
      ]
     },
     "execution_count": 90,
     "metadata": {},
     "output_type": "execute_result"
    }
   ],
   "source": [
    "connections"
   ]
  },
  {
   "cell_type": "code",
   "execution_count": 91,
   "id": "03a8e96f-904a-4aa6-a063-b77c7872fc07",
   "metadata": {},
   "outputs": [
    {
     "name": "stdout",
     "output_type": "stream",
     "text": [
      "HAMLET 15\n",
      "QUEEN GERTRUDE 0\n",
      "KING CLAUDIUS 0\n",
      "OPHELIA 5\n",
      "LAERTES 6\n",
      "POLONIUS 8\n",
      "REYNALDO 1\n",
      "HORATIO 8\n",
      "VOLTEMAND 2\n",
      "CORNELIUS 1\n",
      "ROSENCRANTZ 7\n",
      "GUILDENSTERN 5\n",
      "OSRIC 1\n",
      "GENTLEMAN 1\n",
      "FRANCISCO 1\n",
      "BARNARDO 2\n",
      "MARCELLUS 4\n",
      "FORTINBRAS 2\n",
      "LORDS 1\n"
     ]
    }
   ],
   "source": [
    "for k,v in charnum.items():\n",
    "    print(k,v)"
   ]
  },
  {
   "cell_type": "code",
   "execution_count": 92,
   "id": "8044c28d-4679-4b53-8980-777269044412",
   "metadata": {},
   "outputs": [
    {
     "data": {
      "text/plain": [
       "[{'data': {'id': 'HAMLET', 'label': 'Hamlet', 'size': '15'}},\n",
       " {'data': {'id': 'QUEEN GERTRUDE', 'label': 'Queen Gertrude', 'size': '0'}},\n",
       " {'data': {'id': 'KING CLAUDIUS', 'label': 'King Claudius', 'size': '0'}},\n",
       " {'data': {'id': 'OPHELIA', 'label': 'Ophelia', 'size': '5'}},\n",
       " {'data': {'id': 'LAERTES', 'label': 'Laertes', 'size': '6'}},\n",
       " {'data': {'id': 'POLONIUS', 'label': 'Polonius', 'size': '8'}},\n",
       " {'data': {'id': 'REYNALDO', 'label': 'Reynaldo', 'size': '1'}},\n",
       " {'data': {'id': 'HORATIO', 'label': 'Horatio', 'size': '8'}},\n",
       " {'data': {'id': 'VOLTEMAND', 'label': 'Voltemand', 'size': '2'}},\n",
       " {'data': {'id': 'CORNELIUS', 'label': 'Cornelius', 'size': '1'}},\n",
       " {'data': {'id': 'ROSENCRANTZ', 'label': 'Rosencrantz', 'size': '7'}},\n",
       " {'data': {'id': 'GUILDENSTERN', 'label': 'Guildenstern', 'size': '5'}},\n",
       " {'data': {'id': 'OSRIC', 'label': 'Osric', 'size': '1'}},\n",
       " {'data': {'id': 'GENTLEMAN', 'label': 'Gentleman', 'size': '1'}},\n",
       " {'data': {'id': 'FRANCISCO', 'label': 'Francisco', 'size': '1'}},\n",
       " {'data': {'id': 'BARNARDO', 'label': 'Barnardo', 'size': '2'}},\n",
       " {'data': {'id': 'MARCELLUS', 'label': 'Marcellus', 'size': '4'}},\n",
       " {'data': {'id': 'FORTINBRAS', 'label': 'Fortinbras', 'size': '2'}},\n",
       " {'data': {'id': 'LORDS', 'label': 'Lords', 'size': '1'}}]"
      ]
     },
     "execution_count": 92,
     "metadata": {},
     "output_type": "execute_result"
    }
   ],
   "source": [
    "graphitems = []\n",
    "\n",
    "for k,v in charnum.items():\n",
    "    dashnode = {'data': {'id': k,\n",
    "                         'label': k.title(),\n",
    "                         'size': str(v)}}\n",
    "    graphitems.append(dashnode)\n",
    "    \n",
    "graphitems"
   ]
  },
  {
   "cell_type": "code",
   "execution_count": 93,
   "id": "8ff71462-6ff3-4231-b3ec-2cba8821f5a9",
   "metadata": {
    "tags": []
   },
   "outputs": [
    {
     "data": {
      "text/plain": [
       "[{'data': {'id': 'HAMLET', 'label': 'Hamlet', 'size': '15'}},\n",
       " {'data': {'id': 'QUEEN GERTRUDE', 'label': 'Queen Gertrude', 'size': '0'}},\n",
       " {'data': {'id': 'KING CLAUDIUS', 'label': 'King Claudius', 'size': '0'}},\n",
       " {'data': {'id': 'OPHELIA', 'label': 'Ophelia', 'size': '5'}},\n",
       " {'data': {'id': 'LAERTES', 'label': 'Laertes', 'size': '6'}},\n",
       " {'data': {'id': 'POLONIUS', 'label': 'Polonius', 'size': '8'}},\n",
       " {'data': {'id': 'REYNALDO', 'label': 'Reynaldo', 'size': '1'}},\n",
       " {'data': {'id': 'HORATIO', 'label': 'Horatio', 'size': '8'}},\n",
       " {'data': {'id': 'VOLTEMAND', 'label': 'Voltemand', 'size': '2'}},\n",
       " {'data': {'id': 'CORNELIUS', 'label': 'Cornelius', 'size': '1'}},\n",
       " {'data': {'id': 'ROSENCRANTZ', 'label': 'Rosencrantz', 'size': '7'}},\n",
       " {'data': {'id': 'GUILDENSTERN', 'label': 'Guildenstern', 'size': '5'}},\n",
       " {'data': {'id': 'OSRIC', 'label': 'Osric', 'size': '1'}},\n",
       " {'data': {'id': 'GENTLEMAN', 'label': 'Gentleman', 'size': '1'}},\n",
       " {'data': {'id': 'FRANCISCO', 'label': 'Francisco', 'size': '1'}},\n",
       " {'data': {'id': 'BARNARDO', 'label': 'Barnardo', 'size': '2'}},\n",
       " {'data': {'id': 'MARCELLUS', 'label': 'Marcellus', 'size': '4'}},\n",
       " {'data': {'id': 'FORTINBRAS', 'label': 'Fortinbras', 'size': '2'}},\n",
       " {'data': {'id': 'LORDS', 'label': 'Lords', 'size': '1'}},\n",
       " {'data': {'source': 'HAMLET', 'target': 'OPHELIA', 'weight': 2}},\n",
       " {'data': {'source': 'HAMLET', 'target': 'LAERTES', 'weight': 4}},\n",
       " {'data': {'source': 'HAMLET', 'target': 'POLONIUS', 'weight': 6}},\n",
       " {'data': {'source': 'HAMLET', 'target': 'HORATIO', 'weight': 7}},\n",
       " {'data': {'source': 'HAMLET', 'target': 'VOLTEMAND', 'weight': 2}},\n",
       " {'data': {'source': 'HAMLET', 'target': 'CORNELIUS', 'weight': 1}},\n",
       " {'data': {'source': 'HAMLET', 'target': 'ROSENCRANTZ', 'weight': 7}},\n",
       " {'data': {'source': 'HAMLET', 'target': 'GUILDENSTERN', 'weight': 5}},\n",
       " {'data': {'source': 'HAMLET', 'target': 'OSRIC', 'weight': 1}},\n",
       " {'data': {'source': 'HAMLET', 'target': 'BARNARDO', 'weight': 1}},\n",
       " {'data': {'source': 'HAMLET', 'target': 'MARCELLUS', 'weight': 3}},\n",
       " {'data': {'source': 'HAMLET', 'target': 'FORTINBRAS', 'weight': 2}},\n",
       " {'data': {'source': 'HAMLET', 'target': 'LORDS', 'weight': 1}},\n",
       " {'data': {'source': 'OPHELIA', 'target': 'LAERTES', 'weight': 2}},\n",
       " {'data': {'source': 'OPHELIA', 'target': 'POLONIUS', 'weight': 4}},\n",
       " {'data': {'source': 'OPHELIA', 'target': 'REYNALDO', 'weight': 1}},\n",
       " {'data': {'source': 'OPHELIA', 'target': 'HORATIO', 'weight': 1}},\n",
       " {'data': {'source': 'OPHELIA', 'target': 'ROSENCRANTZ', 'weight': 2}},\n",
       " {'data': {'source': 'OPHELIA', 'target': 'GUILDENSTERN', 'weight': 2}},\n",
       " {'data': {'source': 'OPHELIA', 'target': 'GENTLEMAN', 'weight': 1}},\n",
       " {'data': {'source': 'LAERTES', 'target': 'POLONIUS', 'weight': 2}},\n",
       " {'data': {'source': 'LAERTES', 'target': 'HORATIO', 'weight': 3}},\n",
       " {'data': {'source': 'LAERTES', 'target': 'VOLTEMAND', 'weight': 1}},\n",
       " {'data': {'source': 'LAERTES', 'target': 'CORNELIUS', 'weight': 1}},\n",
       " {'data': {'source': 'LAERTES', 'target': 'OSRIC', 'weight': 1}},\n",
       " {'data': {'source': 'LAERTES', 'target': 'GENTLEMAN', 'weight': 1}},\n",
       " {'data': {'source': 'LAERTES', 'target': 'BARNARDO', 'weight': 1}},\n",
       " {'data': {'source': 'LAERTES', 'target': 'MARCELLUS', 'weight': 1}},\n",
       " {'data': {'source': 'LAERTES', 'target': 'FORTINBRAS', 'weight': 1}},\n",
       " {'data': {'source': 'LAERTES', 'target': 'LORDS', 'weight': 1}},\n",
       " {'data': {'source': 'POLONIUS', 'target': 'REYNALDO', 'weight': 1}},\n",
       " {'data': {'source': 'POLONIUS', 'target': 'HORATIO', 'weight': 2}},\n",
       " {'data': {'source': 'POLONIUS', 'target': 'VOLTEMAND', 'weight': 2}},\n",
       " {'data': {'source': 'POLONIUS', 'target': 'CORNELIUS', 'weight': 1}},\n",
       " {'data': {'source': 'POLONIUS', 'target': 'ROSENCRANTZ', 'weight': 4}},\n",
       " {'data': {'source': 'POLONIUS', 'target': 'GUILDENSTERN', 'weight': 4}},\n",
       " {'data': {'source': 'POLONIUS', 'target': 'BARNARDO', 'weight': 1}},\n",
       " {'data': {'source': 'POLONIUS', 'target': 'MARCELLUS', 'weight': 1}},\n",
       " {'data': {'source': 'HORATIO', 'target': 'VOLTEMAND', 'weight': 1}},\n",
       " {'data': {'source': 'HORATIO', 'target': 'CORNELIUS', 'weight': 1}},\n",
       " {'data': {'source': 'HORATIO', 'target': 'ROSENCRANTZ', 'weight': 1}},\n",
       " {'data': {'source': 'HORATIO', 'target': 'GUILDENSTERN', 'weight': 1}},\n",
       " {'data': {'source': 'HORATIO', 'target': 'OSRIC', 'weight': 1}},\n",
       " {'data': {'source': 'HORATIO', 'target': 'FRANCISCO', 'weight': 1}},\n",
       " {'data': {'source': 'HORATIO', 'target': 'BARNARDO', 'weight': 2}},\n",
       " {'data': {'source': 'HORATIO', 'target': 'MARCELLUS', 'weight': 4}},\n",
       " {'data': {'source': 'HORATIO', 'target': 'FORTINBRAS', 'weight': 1}},\n",
       " {'data': {'source': 'HORATIO', 'target': 'LORDS', 'weight': 1}},\n",
       " {'data': {'source': 'VOLTEMAND', 'target': 'CORNELIUS', 'weight': 1}},\n",
       " {'data': {'source': 'VOLTEMAND', 'target': 'ROSENCRANTZ', 'weight': 1}},\n",
       " {'data': {'source': 'VOLTEMAND', 'target': 'GUILDENSTERN', 'weight': 1}},\n",
       " {'data': {'source': 'VOLTEMAND', 'target': 'BARNARDO', 'weight': 1}},\n",
       " {'data': {'source': 'VOLTEMAND', 'target': 'MARCELLUS', 'weight': 1}},\n",
       " {'data': {'source': 'CORNELIUS', 'target': 'BARNARDO', 'weight': 1}},\n",
       " {'data': {'source': 'CORNELIUS', 'target': 'MARCELLUS', 'weight': 1}},\n",
       " {'data': {'source': 'ROSENCRANTZ', 'target': 'GUILDENSTERN', 'weight': 5}},\n",
       " {'data': {'source': 'ROSENCRANTZ', 'target': 'FORTINBRAS', 'weight': 1}},\n",
       " {'data': {'source': 'OSRIC', 'target': 'FORTINBRAS', 'weight': 1}},\n",
       " {'data': {'source': 'OSRIC', 'target': 'LORDS', 'weight': 1}},\n",
       " {'data': {'source': 'FRANCISCO', 'target': 'BARNARDO', 'weight': 1}},\n",
       " {'data': {'source': 'FRANCISCO', 'target': 'MARCELLUS', 'weight': 1}},\n",
       " {'data': {'source': 'BARNARDO', 'target': 'MARCELLUS', 'weight': 2}},\n",
       " {'data': {'source': 'FORTINBRAS', 'target': 'LORDS', 'weight': 1}}]"
      ]
     },
     "execution_count": 93,
     "metadata": {},
     "output_type": "execute_result"
    }
   ],
   "source": [
    "graphitems = []\n",
    "\n",
    "for k,v in charnum.items():\n",
    "    dashnode = {'data': {'id': k,\n",
    "                         'label': k.title(),\n",
    "                         'size': str(v)}}\n",
    "    graphitems.append(dashnode)\n",
    "\n",
    "for k,v in connections.items():\n",
    "    if v != 0:\n",
    "        dashedge = {'data': {'source': k[0],\n",
    "                             'target': k[1],\n",
    "                             'weight': v}}\n",
    "        graphitems.append(dashedge)\n",
    "    \n",
    "graphitems"
   ]
  },
  {
   "cell_type": "code",
   "execution_count": 94,
   "id": "7028c672-94dc-4a50-b860-8c807b0d0948",
   "metadata": {},
   "outputs": [
    {
     "name": "stdout",
     "output_type": "stream",
     "text": [
      "Dash app running on https://jupyter.idre.ucla.edu/user/carolcheng25@gmail.com/proxy/8050/\n"
     ]
    }
   ],
   "source": [
    "app = JupyterDash(__name__)\n",
    "\n",
    "app.layout = html.Div([\n",
    "    cyto.Cytoscape(\n",
    "        layout={'name': 'cose'},\n",
    "        elements=graphitems\n",
    "    )\n",
    "])\n",
    "\n",
    "app.run_server(debug=True)"
   ]
  },
  {
   "cell_type": "code",
   "execution_count": 95,
   "id": "ca2114d3-d8c6-477e-9e00-6e2a74a81c39",
   "metadata": {},
   "outputs": [
    {
     "name": "stdout",
     "output_type": "stream",
     "text": [
      "Dash app running on https://jupyter.idre.ucla.edu/user/carolcheng25@gmail.com/proxy/8050/\n"
     ]
    }
   ],
   "source": [
    "app = JupyterDash(__name__)\n",
    "\n",
    "app.layout = html.Div([\n",
    "    cyto.Cytoscape(\n",
    "        layout={'name': 'cose'},\n",
    "        elements=graphitems,\n",
    "        style={'width': '100%', 'height': '750px'},\n",
    "    )\n",
    "])\n",
    "\n",
    "app.run_server(debug=True)"
   ]
  },
  {
   "cell_type": "code",
   "execution_count": 96,
   "id": "f89478d1-4651-4cab-afe9-5a04acd800f5",
   "metadata": {},
   "outputs": [
    {
     "name": "stdout",
     "output_type": "stream",
     "text": [
      "Dash app running on https://jupyter.idre.ucla.edu/user/carolcheng25@gmail.com/proxy/8050/\n"
     ]
    }
   ],
   "source": [
    "app = JupyterDash(__name__)\n",
    "\n",
    "app.layout = html.Div([\n",
    "    cyto.Cytoscape(\n",
    "        layout={'name': 'cose'},\n",
    "        elements=graphitems,\n",
    "        style={'width': '100%', 'height': '750px'},\n",
    "        stylesheet=[\n",
    "            {\n",
    "                'selector': 'node',\n",
    "                'style': {\n",
    "                    'content':'data(label)',\n",
    "                    'text-halign':'center',\n",
    "                    'text-valign':'center',\n",
    "                    'width': 'data(size)',\n",
    "                    'height': 'data(size)',\n",
    "                    'font-size':4,\n",
    "                    'color': 'blue',\n",
    "                    'text-outline-color': 'white',\n",
    "                    'text-outline-width': 0.2,\n",
    "                    'shape':'circle'\n",
    "                }\n",
    "            },\n",
    "            {\n",
    "                'selector':'edge',\n",
    "                'style': {\n",
    "                    'width':'data(str(int(weight)/10))',\n",
    "                    'line-color': 'blue',\n",
    "                  }\n",
    "            },\n",
    "        ]\n",
    "    )\n",
    "])\n",
    "\n",
    "app.run_server(debug=True)"
   ]
  },
  {
   "cell_type": "code",
   "execution_count": 97,
   "id": "3e0b7de4-ef0e-4e46-93d8-0d183c2c6853",
   "metadata": {},
   "outputs": [
    {
     "name": "stdout",
     "output_type": "stream",
     "text": [
      "7\n"
     ]
    }
   ],
   "source": [
    "graphitems = []\n",
    "\n",
    "for k,v in charnum.items():\n",
    "    dashnode = {'data': {'id': k,\n",
    "                         'label': k.title(),\n",
    "                         'size': str(v)}}\n",
    "    graphitems.append(dashnode)\n",
    "\n",
    "correction_factor = max(connections.values())\n",
    "print(correction_factor)\n",
    "for k,v in connections.items():\n",
    "    if v != 0:\n",
    "        dashedge = {'data': {'source': k[0],\n",
    "                             'target': k[1],\n",
    "                             'weight': v/correction_factor}}\n",
    "        graphitems.append(dashedge)"
   ]
  },
  {
   "cell_type": "code",
   "execution_count": 98,
   "id": "4dc2c70f-8a57-480b-8af4-54eab5264a29",
   "metadata": {},
   "outputs": [
    {
     "name": "stdout",
     "output_type": "stream",
     "text": [
      "Dash app running on https://jupyter.idre.ucla.edu/user/carolcheng25@gmail.com/proxy/8050/\n"
     ]
    }
   ],
   "source": [
    "app = JupyterDash(__name__)\n",
    "\n",
    "app.layout = html.Div([\n",
    "    cyto.Cytoscape(\n",
    "        layout={'name': 'cose'},\n",
    "        elements=graphitems,\n",
    "        style={'width': '100%', 'height': '750px'},\n",
    "        stylesheet=[\n",
    "            {\n",
    "                'selector': 'node',\n",
    "                'style': {\n",
    "                    'content':'data(label)',\n",
    "                    'text-halign':'center',\n",
    "                    'text-valign':'center',\n",
    "                    'width': 'data(size)',\n",
    "                    'height': 'data(size)',\n",
    "                    'font-size':4,\n",
    "                    'color': 'black',\n",
    "                    'background-color': 'red',\n",
    "                    'text-outline-color': 'white',\n",
    "                    'text-outline-width': 0.2,\n",
    "                    'shape':'circle'\n",
    "                }\n",
    "            },\n",
    "            {\n",
    "                'selector':'edge',\n",
    "                'style': {\n",
    "                    'width':'data(weight)',\n",
    "                    'line-color': 'blue',\n",
    "                  }\n",
    "            },\n",
    "        ]\n",
    "    )\n",
    "])\n",
    "\n",
    "app.run_server(debug=True)"
   ]
  },
  {
   "cell_type": "code",
   "execution_count": 99,
   "id": "8dae7d62-6095-429a-9f5a-f498e2f8e1bc",
   "metadata": {
    "tags": []
   },
   "outputs": [
    {
     "data": {
      "text/plain": [
       "[{'data': {'id': 'HAMLET', 'label': 'Hamlet', 'size': '15'}},\n",
       " {'data': {'id': 'QUEEN GERTRUDE', 'label': 'Queen Gertrude', 'size': '0'}},\n",
       " {'data': {'id': 'KING CLAUDIUS', 'label': 'King Claudius', 'size': '0'}},\n",
       " {'data': {'id': 'OPHELIA', 'label': 'Ophelia', 'size': '5'}},\n",
       " {'data': {'id': 'LAERTES', 'label': 'Laertes', 'size': '6'}},\n",
       " {'data': {'id': 'POLONIUS', 'label': 'Polonius', 'size': '8'}},\n",
       " {'data': {'id': 'REYNALDO', 'label': 'Reynaldo', 'size': '1'}},\n",
       " {'data': {'id': 'HORATIO', 'label': 'Horatio', 'size': '8'}},\n",
       " {'data': {'id': 'VOLTEMAND', 'label': 'Voltemand', 'size': '2'}},\n",
       " {'data': {'id': 'CORNELIUS', 'label': 'Cornelius', 'size': '1'}},\n",
       " {'data': {'id': 'ROSENCRANTZ', 'label': 'Rosencrantz', 'size': '7'}},\n",
       " {'data': {'id': 'GUILDENSTERN', 'label': 'Guildenstern', 'size': '5'}},\n",
       " {'data': {'id': 'OSRIC', 'label': 'Osric', 'size': '1'}},\n",
       " {'data': {'id': 'GENTLEMAN', 'label': 'Gentleman', 'size': '1'}},\n",
       " {'data': {'id': 'FRANCISCO', 'label': 'Francisco', 'size': '1'}},\n",
       " {'data': {'id': 'BARNARDO', 'label': 'Barnardo', 'size': '2'}},\n",
       " {'data': {'id': 'MARCELLUS', 'label': 'Marcellus', 'size': '4'}},\n",
       " {'data': {'id': 'FORTINBRAS', 'label': 'Fortinbras', 'size': '2'}},\n",
       " {'data': {'id': 'LORDS', 'label': 'Lords', 'size': '1'}},\n",
       " {'data': {'source': 'HAMLET',\n",
       "   'target': 'OPHELIA',\n",
       "   'weight': 0.2857142857142857}},\n",
       " {'data': {'source': 'HAMLET',\n",
       "   'target': 'LAERTES',\n",
       "   'weight': 0.5714285714285714}},\n",
       " {'data': {'source': 'HAMLET',\n",
       "   'target': 'POLONIUS',\n",
       "   'weight': 0.8571428571428571}},\n",
       " {'data': {'source': 'HAMLET', 'target': 'HORATIO', 'weight': 1.0}},\n",
       " {'data': {'source': 'HAMLET',\n",
       "   'target': 'VOLTEMAND',\n",
       "   'weight': 0.2857142857142857}},\n",
       " {'data': {'source': 'HAMLET',\n",
       "   'target': 'CORNELIUS',\n",
       "   'weight': 0.14285714285714285}},\n",
       " {'data': {'source': 'HAMLET', 'target': 'ROSENCRANTZ', 'weight': 1.0}},\n",
       " {'data': {'source': 'HAMLET',\n",
       "   'target': 'GUILDENSTERN',\n",
       "   'weight': 0.7142857142857143}},\n",
       " {'data': {'source': 'HAMLET',\n",
       "   'target': 'OSRIC',\n",
       "   'weight': 0.14285714285714285}},\n",
       " {'data': {'source': 'HAMLET',\n",
       "   'target': 'BARNARDO',\n",
       "   'weight': 0.14285714285714285}},\n",
       " {'data': {'source': 'HAMLET',\n",
       "   'target': 'MARCELLUS',\n",
       "   'weight': 0.42857142857142855}},\n",
       " {'data': {'source': 'HAMLET',\n",
       "   'target': 'FORTINBRAS',\n",
       "   'weight': 0.2857142857142857}},\n",
       " {'data': {'source': 'HAMLET',\n",
       "   'target': 'LORDS',\n",
       "   'weight': 0.14285714285714285}},\n",
       " {'data': {'source': 'OPHELIA',\n",
       "   'target': 'LAERTES',\n",
       "   'weight': 0.2857142857142857}},\n",
       " {'data': {'source': 'OPHELIA',\n",
       "   'target': 'POLONIUS',\n",
       "   'weight': 0.5714285714285714}},\n",
       " {'data': {'source': 'OPHELIA',\n",
       "   'target': 'REYNALDO',\n",
       "   'weight': 0.14285714285714285}},\n",
       " {'data': {'source': 'OPHELIA',\n",
       "   'target': 'HORATIO',\n",
       "   'weight': 0.14285714285714285}},\n",
       " {'data': {'source': 'OPHELIA',\n",
       "   'target': 'ROSENCRANTZ',\n",
       "   'weight': 0.2857142857142857}},\n",
       " {'data': {'source': 'OPHELIA',\n",
       "   'target': 'GUILDENSTERN',\n",
       "   'weight': 0.2857142857142857}},\n",
       " {'data': {'source': 'OPHELIA',\n",
       "   'target': 'GENTLEMAN',\n",
       "   'weight': 0.14285714285714285}},\n",
       " {'data': {'source': 'LAERTES',\n",
       "   'target': 'POLONIUS',\n",
       "   'weight': 0.2857142857142857}},\n",
       " {'data': {'source': 'LAERTES',\n",
       "   'target': 'HORATIO',\n",
       "   'weight': 0.42857142857142855}},\n",
       " {'data': {'source': 'LAERTES',\n",
       "   'target': 'VOLTEMAND',\n",
       "   'weight': 0.14285714285714285}},\n",
       " {'data': {'source': 'LAERTES',\n",
       "   'target': 'CORNELIUS',\n",
       "   'weight': 0.14285714285714285}},\n",
       " {'data': {'source': 'LAERTES',\n",
       "   'target': 'OSRIC',\n",
       "   'weight': 0.14285714285714285}},\n",
       " {'data': {'source': 'LAERTES',\n",
       "   'target': 'GENTLEMAN',\n",
       "   'weight': 0.14285714285714285}},\n",
       " {'data': {'source': 'LAERTES',\n",
       "   'target': 'BARNARDO',\n",
       "   'weight': 0.14285714285714285}},\n",
       " {'data': {'source': 'LAERTES',\n",
       "   'target': 'MARCELLUS',\n",
       "   'weight': 0.14285714285714285}},\n",
       " {'data': {'source': 'LAERTES',\n",
       "   'target': 'FORTINBRAS',\n",
       "   'weight': 0.14285714285714285}},\n",
       " {'data': {'source': 'LAERTES',\n",
       "   'target': 'LORDS',\n",
       "   'weight': 0.14285714285714285}},\n",
       " {'data': {'source': 'POLONIUS',\n",
       "   'target': 'REYNALDO',\n",
       "   'weight': 0.14285714285714285}},\n",
       " {'data': {'source': 'POLONIUS',\n",
       "   'target': 'HORATIO',\n",
       "   'weight': 0.2857142857142857}},\n",
       " {'data': {'source': 'POLONIUS',\n",
       "   'target': 'VOLTEMAND',\n",
       "   'weight': 0.2857142857142857}},\n",
       " {'data': {'source': 'POLONIUS',\n",
       "   'target': 'CORNELIUS',\n",
       "   'weight': 0.14285714285714285}},\n",
       " {'data': {'source': 'POLONIUS',\n",
       "   'target': 'ROSENCRANTZ',\n",
       "   'weight': 0.5714285714285714}},\n",
       " {'data': {'source': 'POLONIUS',\n",
       "   'target': 'GUILDENSTERN',\n",
       "   'weight': 0.5714285714285714}},\n",
       " {'data': {'source': 'POLONIUS',\n",
       "   'target': 'BARNARDO',\n",
       "   'weight': 0.14285714285714285}},\n",
       " {'data': {'source': 'POLONIUS',\n",
       "   'target': 'MARCELLUS',\n",
       "   'weight': 0.14285714285714285}},\n",
       " {'data': {'source': 'HORATIO',\n",
       "   'target': 'VOLTEMAND',\n",
       "   'weight': 0.14285714285714285}},\n",
       " {'data': {'source': 'HORATIO',\n",
       "   'target': 'CORNELIUS',\n",
       "   'weight': 0.14285714285714285}},\n",
       " {'data': {'source': 'HORATIO',\n",
       "   'target': 'ROSENCRANTZ',\n",
       "   'weight': 0.14285714285714285}},\n",
       " {'data': {'source': 'HORATIO',\n",
       "   'target': 'GUILDENSTERN',\n",
       "   'weight': 0.14285714285714285}},\n",
       " {'data': {'source': 'HORATIO',\n",
       "   'target': 'OSRIC',\n",
       "   'weight': 0.14285714285714285}},\n",
       " {'data': {'source': 'HORATIO',\n",
       "   'target': 'FRANCISCO',\n",
       "   'weight': 0.14285714285714285}},\n",
       " {'data': {'source': 'HORATIO',\n",
       "   'target': 'BARNARDO',\n",
       "   'weight': 0.2857142857142857}},\n",
       " {'data': {'source': 'HORATIO',\n",
       "   'target': 'MARCELLUS',\n",
       "   'weight': 0.5714285714285714}},\n",
       " {'data': {'source': 'HORATIO',\n",
       "   'target': 'FORTINBRAS',\n",
       "   'weight': 0.14285714285714285}},\n",
       " {'data': {'source': 'HORATIO',\n",
       "   'target': 'LORDS',\n",
       "   'weight': 0.14285714285714285}},\n",
       " {'data': {'source': 'VOLTEMAND',\n",
       "   'target': 'CORNELIUS',\n",
       "   'weight': 0.14285714285714285}},\n",
       " {'data': {'source': 'VOLTEMAND',\n",
       "   'target': 'ROSENCRANTZ',\n",
       "   'weight': 0.14285714285714285}},\n",
       " {'data': {'source': 'VOLTEMAND',\n",
       "   'target': 'GUILDENSTERN',\n",
       "   'weight': 0.14285714285714285}},\n",
       " {'data': {'source': 'VOLTEMAND',\n",
       "   'target': 'BARNARDO',\n",
       "   'weight': 0.14285714285714285}},\n",
       " {'data': {'source': 'VOLTEMAND',\n",
       "   'target': 'MARCELLUS',\n",
       "   'weight': 0.14285714285714285}},\n",
       " {'data': {'source': 'CORNELIUS',\n",
       "   'target': 'BARNARDO',\n",
       "   'weight': 0.14285714285714285}},\n",
       " {'data': {'source': 'CORNELIUS',\n",
       "   'target': 'MARCELLUS',\n",
       "   'weight': 0.14285714285714285}},\n",
       " {'data': {'source': 'ROSENCRANTZ',\n",
       "   'target': 'GUILDENSTERN',\n",
       "   'weight': 0.7142857142857143}},\n",
       " {'data': {'source': 'ROSENCRANTZ',\n",
       "   'target': 'FORTINBRAS',\n",
       "   'weight': 0.14285714285714285}},\n",
       " {'data': {'source': 'OSRIC',\n",
       "   'target': 'FORTINBRAS',\n",
       "   'weight': 0.14285714285714285}},\n",
       " {'data': {'source': 'OSRIC',\n",
       "   'target': 'LORDS',\n",
       "   'weight': 0.14285714285714285}},\n",
       " {'data': {'source': 'FRANCISCO',\n",
       "   'target': 'BARNARDO',\n",
       "   'weight': 0.14285714285714285}},\n",
       " {'data': {'source': 'FRANCISCO',\n",
       "   'target': 'MARCELLUS',\n",
       "   'weight': 0.14285714285714285}},\n",
       " {'data': {'source': 'BARNARDO',\n",
       "   'target': 'MARCELLUS',\n",
       "   'weight': 0.2857142857142857}},\n",
       " {'data': {'source': 'FORTINBRAS',\n",
       "   'target': 'LORDS',\n",
       "   'weight': 0.14285714285714285}}]"
      ]
     },
     "execution_count": 99,
     "metadata": {},
     "output_type": "execute_result"
    }
   ],
   "source": [
    "graphitems"
   ]
  },
  {
   "cell_type": "code",
   "execution_count": 100,
   "id": "8c1f65f3-4c4e-4243-9254-f014c942ffa6",
   "metadata": {},
   "outputs": [],
   "source": [
    "import networkx as nx\n",
    "import matplotlib.pyplot as plt"
   ]
  },
  {
   "cell_type": "code",
   "execution_count": 101,
   "id": "4ddac26a-3608-4d04-a28c-683f26dda585",
   "metadata": {
    "tags": []
   },
   "outputs": [
    {
     "data": {
      "text/plain": [
       "[('HAMLET', 'OPHELIA'),\n",
       " ('HAMLET', 'LAERTES'),\n",
       " ('HAMLET', 'POLONIUS'),\n",
       " ('HAMLET', 'HORATIO'),\n",
       " ('HAMLET', 'VOLTEMAND'),\n",
       " ('HAMLET', 'CORNELIUS'),\n",
       " ('HAMLET', 'ROSENCRANTZ'),\n",
       " ('HAMLET', 'GUILDENSTERN'),\n",
       " ('HAMLET', 'OSRIC'),\n",
       " ('HAMLET', 'BARNARDO'),\n",
       " ('HAMLET', 'MARCELLUS'),\n",
       " ('HAMLET', 'FORTINBRAS'),\n",
       " ('HAMLET', 'LORDS'),\n",
       " ('OPHELIA', 'LAERTES'),\n",
       " ('OPHELIA', 'POLONIUS'),\n",
       " ('OPHELIA', 'REYNALDO'),\n",
       " ('OPHELIA', 'HORATIO'),\n",
       " ('OPHELIA', 'ROSENCRANTZ'),\n",
       " ('OPHELIA', 'GUILDENSTERN'),\n",
       " ('OPHELIA', 'GENTLEMAN'),\n",
       " ('LAERTES', 'POLONIUS'),\n",
       " ('LAERTES', 'HORATIO'),\n",
       " ('LAERTES', 'VOLTEMAND'),\n",
       " ('LAERTES', 'CORNELIUS'),\n",
       " ('LAERTES', 'OSRIC'),\n",
       " ('LAERTES', 'GENTLEMAN'),\n",
       " ('LAERTES', 'BARNARDO'),\n",
       " ('LAERTES', 'MARCELLUS'),\n",
       " ('LAERTES', 'FORTINBRAS'),\n",
       " ('LAERTES', 'LORDS'),\n",
       " ('POLONIUS', 'REYNALDO'),\n",
       " ('POLONIUS', 'HORATIO'),\n",
       " ('POLONIUS', 'VOLTEMAND'),\n",
       " ('POLONIUS', 'CORNELIUS'),\n",
       " ('POLONIUS', 'ROSENCRANTZ'),\n",
       " ('POLONIUS', 'GUILDENSTERN'),\n",
       " ('POLONIUS', 'BARNARDO'),\n",
       " ('POLONIUS', 'MARCELLUS'),\n",
       " ('HORATIO', 'VOLTEMAND'),\n",
       " ('HORATIO', 'CORNELIUS'),\n",
       " ('HORATIO', 'ROSENCRANTZ'),\n",
       " ('HORATIO', 'GUILDENSTERN'),\n",
       " ('HORATIO', 'OSRIC'),\n",
       " ('HORATIO', 'FRANCISCO'),\n",
       " ('HORATIO', 'BARNARDO'),\n",
       " ('HORATIO', 'MARCELLUS'),\n",
       " ('HORATIO', 'FORTINBRAS'),\n",
       " ('HORATIO', 'LORDS'),\n",
       " ('VOLTEMAND', 'CORNELIUS'),\n",
       " ('VOLTEMAND', 'ROSENCRANTZ'),\n",
       " ('VOLTEMAND', 'GUILDENSTERN'),\n",
       " ('VOLTEMAND', 'BARNARDO'),\n",
       " ('VOLTEMAND', 'MARCELLUS'),\n",
       " ('CORNELIUS', 'BARNARDO'),\n",
       " ('CORNELIUS', 'MARCELLUS'),\n",
       " ('ROSENCRANTZ', 'GUILDENSTERN'),\n",
       " ('ROSENCRANTZ', 'FORTINBRAS'),\n",
       " ('OSRIC', 'FORTINBRAS'),\n",
       " ('OSRIC', 'LORDS'),\n",
       " ('FRANCISCO', 'BARNARDO'),\n",
       " ('FRANCISCO', 'MARCELLUS'),\n",
       " ('BARNARDO', 'MARCELLUS'),\n",
       " ('FORTINBRAS', 'LORDS')]"
      ]
     },
     "execution_count": 101,
     "metadata": {},
     "output_type": "execute_result"
    }
   ],
   "source": [
    "nxgraphitems = []\n",
    "\n",
    "for k,v in connections.items():\n",
    "    if v != 0:\n",
    "        dashedge = (k[0],k[1])\n",
    "        nxgraphitems.append(dashedge)\n",
    "    \n",
    "nxgraphitems"
   ]
  },
  {
   "cell_type": "code",
   "execution_count": 102,
   "id": "0af1f8b3-badd-4adb-8950-e5b653d7751c",
   "metadata": {},
   "outputs": [],
   "source": [
    "G = nx.Graph()"
   ]
  },
  {
   "cell_type": "code",
   "execution_count": 103,
   "id": "4bd99dc9-f3a4-4591-9af2-16754e89bb5e",
   "metadata": {},
   "outputs": [],
   "source": [
    "G.add_edges_from(nxgraphitems)"
   ]
  },
  {
   "cell_type": "code",
   "execution_count": 104,
   "id": "59970a7b-eddd-4f9f-911f-ccaaffffac34",
   "metadata": {},
   "outputs": [
    {
     "data": {
      "text/plain": [
       "NodeView(('HAMLET', 'OPHELIA', 'LAERTES', 'POLONIUS', 'HORATIO', 'VOLTEMAND', 'CORNELIUS', 'ROSENCRANTZ', 'GUILDENSTERN', 'OSRIC', 'BARNARDO', 'MARCELLUS', 'FORTINBRAS', 'LORDS', 'REYNALDO', 'GENTLEMAN', 'FRANCISCO'))"
      ]
     },
     "execution_count": 104,
     "metadata": {},
     "output_type": "execute_result"
    }
   ],
   "source": [
    "G.nodes"
   ]
  },
  {
   "cell_type": "code",
   "execution_count": 105,
   "id": "e33c7698-0ea2-465d-9c10-35f1d95cfd95",
   "metadata": {
    "tags": []
   },
   "outputs": [
    {
     "data": {
      "text/plain": [
       "{'HAMLET': 0.8125,\n",
       " 'OPHELIA': 0.5,\n",
       " 'LAERTES': 0.75,\n",
       " 'POLONIUS': 0.6875,\n",
       " 'HORATIO': 0.875,\n",
       " 'VOLTEMAND': 0.5625,\n",
       " 'CORNELIUS': 0.4375,\n",
       " 'ROSENCRANTZ': 0.4375,\n",
       " 'GUILDENSTERN': 0.375,\n",
       " 'OSRIC': 0.3125,\n",
       " 'BARNARDO': 0.5,\n",
       " 'MARCELLUS': 0.5,\n",
       " 'FORTINBRAS': 0.375,\n",
       " 'LORDS': 0.3125,\n",
       " 'REYNALDO': 0.125,\n",
       " 'GENTLEMAN': 0.125,\n",
       " 'FRANCISCO': 0.1875}"
      ]
     },
     "execution_count": 105,
     "metadata": {},
     "output_type": "execute_result"
    }
   ],
   "source": [
    "nx.degree_centrality(G)"
   ]
  },
  {
   "cell_type": "code",
   "execution_count": 106,
   "id": "be9efe18-be30-41bd-bc60-c0792011a8f6",
   "metadata": {},
   "outputs": [
    {
     "name": "stdout",
     "output_type": "stream",
     "text": [
      "Horatio        : 0.875\n",
      "Hamlet         : 0.812\n",
      "Laertes        : 0.750\n",
      "Polonius       : 0.688\n",
      "Voltemand      : 0.562\n",
      "Ophelia        : 0.500\n",
      "Barnardo       : 0.500\n",
      "Marcellus      : 0.500\n",
      "Cornelius      : 0.438\n",
      "Rosencrantz    : 0.438\n",
      "Guildenstern   : 0.375\n",
      "Fortinbras     : 0.375\n",
      "Osric          : 0.312\n",
      "Lords          : 0.312\n",
      "Francisco      : 0.188\n",
      "Reynaldo       : 0.125\n",
      "Gentleman      : 0.125\n"
     ]
    }
   ],
   "source": [
    "dc = nx.degree_centrality(G)\n",
    "for i in sorted(dc, key=dc.get, reverse=True):\n",
    "    print('{:15s}: {:.3f}'.format(i.title(), dc[i]))"
   ]
  },
  {
   "cell_type": "code",
   "execution_count": 107,
   "id": "233637b0-d3e0-477c-ac3f-5788c69c89dc",
   "metadata": {},
   "outputs": [
    {
     "data": {
      "text/plain": [
       "['OPHELIA',\n",
       " 'LAERTES',\n",
       " 'POLONIUS',\n",
       " 'HORATIO',\n",
       " 'VOLTEMAND',\n",
       " 'CORNELIUS',\n",
       " 'ROSENCRANTZ',\n",
       " 'GUILDENSTERN',\n",
       " 'OSRIC',\n",
       " 'BARNARDO',\n",
       " 'MARCELLUS',\n",
       " 'FORTINBRAS',\n",
       " 'LORDS']"
      ]
     },
     "execution_count": 107,
     "metadata": {},
     "output_type": "execute_result"
    }
   ],
   "source": [
    "list(G.neighbors('HAMLET'))"
   ]
  },
  {
   "cell_type": "code",
   "execution_count": 108,
   "id": "49776a5d-cded-4c02-9c9a-cec434f09957",
   "metadata": {},
   "outputs": [
    {
     "data": {
      "text/plain": [
       "['HAMLET', 'HORATIO']"
      ]
     },
     "execution_count": 108,
     "metadata": {},
     "output_type": "execute_result"
    }
   ],
   "source": [
    "nx.shortest_path(G,'HAMLET','HORATIO')"
   ]
  },
  {
   "cell_type": "code",
   "execution_count": 109,
   "id": "e99ead0a-4195-44b3-a904-d5ed6849c274",
   "metadata": {},
   "outputs": [
    {
     "data": {
      "text/plain": [
       "{'HAMLET': 0.09541666666666668,\n",
       " 'OPHELIA': 0.07805555555555556,\n",
       " 'LAERTES': 0.14027777777777778,\n",
       " 'POLONIUS': 0.0961111111111111,\n",
       " 'HORATIO': 0.1676388888888889,\n",
       " 'VOLTEMAND': 0.015555555555555555,\n",
       " 'CORNELIUS': 0.0,\n",
       " 'ROSENCRANTZ': 0.0125,\n",
       " 'GUILDENSTERN': 0.0013888888888888887,\n",
       " 'OSRIC': 0.0,\n",
       " 'BARNARDO': 0.018055555555555557,\n",
       " 'MARCELLUS': 0.018055555555555557,\n",
       " 'FORTINBRAS': 0.006944444444444444,\n",
       " 'LORDS': 0.0,\n",
       " 'REYNALDO': 0.0,\n",
       " 'GENTLEMAN': 0.0,\n",
       " 'FRANCISCO': 0.0}"
      ]
     },
     "execution_count": 109,
     "metadata": {},
     "output_type": "execute_result"
    }
   ],
   "source": [
    "nx.betweenness_centrality(G)"
   ]
  },
  {
   "cell_type": "code",
   "execution_count": 110,
   "id": "7aba0e76-1ff8-41a0-8a0a-9060b7b4d83d",
   "metadata": {},
   "outputs": [
    {
     "name": "stdout",
     "output_type": "stream",
     "text": [
      "Horatio        : 0.168\n",
      "Laertes        : 0.140\n",
      "Polonius       : 0.096\n",
      "Hamlet         : 0.095\n",
      "Ophelia        : 0.078\n",
      "Barnardo       : 0.018\n",
      "Marcellus      : 0.018\n",
      "Voltemand      : 0.016\n",
      "Rosencrantz    : 0.013\n",
      "Fortinbras     : 0.007\n",
      "Guildenstern   : 0.001\n",
      "Cornelius      : 0.000\n",
      "Osric          : 0.000\n",
      "Lords          : 0.000\n",
      "Reynaldo       : 0.000\n",
      "Gentleman      : 0.000\n",
      "Francisco      : 0.000\n"
     ]
    }
   ],
   "source": [
    "dc = nx.betweenness_centrality(G)\n",
    "for i in sorted(dc, key=dc.get, reverse=True):\n",
    "    print('{:15s}: {:.3f}'.format(i.title(), dc[i]))"
   ]
  },
  {
   "cell_type": "code",
   "execution_count": 125,
   "id": "c68bb720-20cc-40ef-89f8-e712390aa85d",
   "metadata": {},
   "outputs": [],
   "source": [
    "from networkx.algorithms.community.centrality import girvan_newman"
   ]
  },
  {
   "cell_type": "code",
   "execution_count": 126,
   "id": "33ab9784-98a2-4592-b7ec-5a4578a97555",
   "metadata": {},
   "outputs": [],
   "source": [
    "communities = girvan_newman(G)"
   ]
  },
  {
   "cell_type": "code",
   "execution_count": 127,
   "id": "bfee42d7-e554-4240-ae6a-f2c9ab2b0521",
   "metadata": {},
   "outputs": [
    {
     "name": "stdout",
     "output_type": "stream",
     "text": [
      "[['REYNALDO', 'OPHELIA', 'CORNELIUS', 'FORTINBRAS', 'BARNARDO', 'HAMLET', 'LORDS', 'LAERTES', 'POLONIUS', 'ROSENCRANTZ', 'FRANCISCO', 'MARCELLUS', 'OSRIC', 'GUILDENSTERN', 'HORATIO', 'VOLTEMAND'], ['GENTLEMAN']]\n"
     ]
    },
    {
     "data": {
      "image/png": "[encoded data removed]",
      "text/plain": [
       "<Figure size 432x288 with 1 Axes>"
      ]
     },
     "metadata": {},
     "output_type": "display_data"
    }
   ],
   "source": [
    "node_groups = []\n",
    "for com in next(communities):\n",
    "    node_groups.append(list(com))\n",
    " \n",
    "print(node_groups)\n",
    " \n",
    "color_map = []\n",
    "for node in G:\n",
    "    if node in node_groups[0]:\n",
    "        color_map.append('pink')\n",
    "    else:\n",
    "        color_map.append('lavender')\n",
    "nx.draw(G, node_color=color_map, with_labels=True)\n",
    "plt.show()"
   ]
  },
  {
   "cell_type": "markdown",
   "id": "db1006b4-c8ea-4d48-8eeb-fc2560e21d5a",
   "metadata": {},
   "source": [
    "THis is graphing the connections all the the characters have and how many times the appear in the act together. The ones with the least amount of connections are in purple whereas those with many connections are pink."
   ]
  },
  {
   "cell_type": "code",
   "execution_count": 114,
   "id": "9a58ee5b-eac9-45e0-987c-a967ceb48acd",
   "metadata": {},
   "outputs": [
    {
     "data": {
      "text/plain": [
       "0.4632352941176471"
      ]
     },
     "execution_count": 114,
     "metadata": {},
     "output_type": "execute_result"
    }
   ],
   "source": [
    "nx.density(G)"
   ]
  },
  {
   "cell_type": "code",
   "execution_count": 115,
   "id": "f8104262-3b4b-4e7f-bf10-7a354eb7dde6",
   "metadata": {},
   "outputs": [],
   "source": [
    "from networkx.algorithms.community import greedy_modularity_communities"
   ]
  },
  {
   "cell_type": "code",
   "execution_count": 72,
   "id": "e9e7c5fa-09e7-4156-b977-38682082940e",
   "metadata": {},
   "outputs": [
    {
     "data": {
      "text/plain": [
       "[frozenset({'FORTINBRAS', 'GENTLEMAN', 'HAMLET', 'LAERTES', 'LORDS', 'OSRIC'}),\n",
       " frozenset({'BARNARDO',\n",
       "            'CORNELIUS',\n",
       "            'FRANCISCO',\n",
       "            'HORATIO',\n",
       "            'MARCELLUS',\n",
       "            'VOLTEMAND'}),\n",
       " frozenset({'GUILDENSTERN', 'OPHELIA', 'POLONIUS', 'REYNALDO', 'ROSENCRANTZ'})]"
      ]
     },
     "execution_count": 72,
     "metadata": {},
     "output_type": "execute_result"
    }
   ],
   "source": [
    "greedy_modularity_communities(G)"
   ]
  },
  {
   "cell_type": "code",
   "execution_count": 73,
   "id": "0e79e863-9972-4f2a-b876-208eb30fd35b",
   "metadata": {},
   "outputs": [],
   "source": [
    "communities = greedy_modularity_communities(G)\n",
    "modularity_class = {}\n",
    "for community_number, community in enumerate(communities):\n",
    "    for name in community:\n",
    "        modularity_class[name] = community_number"
   ]
  },
  {
   "cell_type": "code",
   "execution_count": 74,
   "id": "355faaf2-b317-421d-b1d8-567314f80774",
   "metadata": {},
   "outputs": [
    {
     "data": {
      "text/plain": [
       "{'FORTINBRAS': 0,\n",
       " 'LORDS': 0,\n",
       " 'HAMLET': 0,\n",
       " 'LAERTES': 0,\n",
       " 'OSRIC': 0,\n",
       " 'GENTLEMAN': 0,\n",
       " 'CORNELIUS': 1,\n",
       " 'BARNARDO': 1,\n",
       " 'FRANCISCO': 1,\n",
       " 'MARCELLUS': 1,\n",
       " 'HORATIO': 1,\n",
       " 'VOLTEMAND': 1,\n",
       " 'REYNALDO': 2,\n",
       " 'OPHELIA': 2,\n",
       " 'POLONIUS': 2,\n",
       " 'ROSENCRANTZ': 2,\n",
       " 'GUILDENSTERN': 2}"
      ]
     },
     "execution_count": 74,
     "metadata": {},
     "output_type": "execute_result"
    }
   ],
   "source": [
    "modularity_class"
   ]
  },
  {
   "cell_type": "code",
   "execution_count": 122,
   "id": "ef8381d3-eec4-4dc6-988c-6dbd934364bc",
   "metadata": {},
   "outputs": [
    {
     "name": "stdout",
     "output_type": "stream",
     "text": [
      "[['FORTINBRAS', 'LORDS', 'HAMLET', 'LAERTES', 'OSRIC', 'GENTLEMAN'], ['CORNELIUS', 'BARNARDO', 'FRANCISCO', 'MARCELLUS', 'HORATIO', 'VOLTEMAND'], ['REYNALDO', 'OPHELIA', 'POLONIUS', 'ROSENCRANTZ', 'GUILDENSTERN']]\n"
     ]
    },
    {
     "data": {
      "image/png": "[encoded data removed]",
      "text/plain": [
       "<Figure size 432x288 with 1 Axes>"
      ]
     },
     "metadata": {},
     "output_type": "display_data"
    }
   ],
   "source": [
    "communities = greedy_modularity_communities(G)\n",
    "\n",
    "node_groups = []\n",
    "for com in communities:\n",
    "    node_groups.append(list(com))\n",
    " \n",
    "print(node_groups)\n",
    " \n",
    "color_map = []\n",
    "for node in G:\n",
    "    if node in node_groups[0]:\n",
    "        color_map.append('pink')\n",
    "    elif node in node_groups[1]:\n",
    "        color_map.append('lavender')\n",
    "    else:\n",
    "        color_map.append('lightblue')\n",
    "nx.draw(G, node_color=color_map, with_labels=True)\n",
    "plt.show()"
   ]
  },
  {
   "cell_type": "code",
   "execution_count": null,
   "id": "0acb0a94-eef8-499c-85aa-fa378cb65f31",
   "metadata": {},
   "outputs": [],
   "source": []
  },
  {
   "cell_type": "code",
   "execution_count": 76,
   "id": "7246adbe-4b7c-490d-8b10-d8afee6ba864",
   "metadata": {
    "collapsed": true,
    "jupyter": {
     "outputs_hidden": true
    },
    "tags": []
   },
   "outputs": [
    {
     "name": "stdout",
     "output_type": "stream",
     "text": [
      "7\n"
     ]
    },
    {
     "data": {
      "text/plain": [
       "[{'data': {'id': 'HAMLET',\n",
       "   'label': 'Hamlet',\n",
       "   'size': '15',\n",
       "   'modularity': 'blue'}},\n",
       " {'data': {'id': 'QUEEN GERTRUDE',\n",
       "   'label': 'Queen Gertrude',\n",
       "   'size': '0',\n",
       "   'modularity': 'red'}},\n",
       " {'data': {'id': 'KING CLAUDIUS',\n",
       "   'label': 'King Claudius',\n",
       "   'size': '0',\n",
       "   'modularity': 'red'}},\n",
       " {'data': {'id': 'OPHELIA',\n",
       "   'label': 'Ophelia',\n",
       "   'size': '5',\n",
       "   'modularity': 'red'}},\n",
       " {'data': {'id': 'LAERTES',\n",
       "   'label': 'Laertes',\n",
       "   'size': '6',\n",
       "   'modularity': 'blue'}},\n",
       " {'data': {'id': 'POLONIUS',\n",
       "   'label': 'Polonius',\n",
       "   'size': '8',\n",
       "   'modularity': 'red'}},\n",
       " {'data': {'id': 'REYNALDO',\n",
       "   'label': 'Reynaldo',\n",
       "   'size': '1',\n",
       "   'modularity': 'red'}},\n",
       " {'data': {'id': 'HORATIO',\n",
       "   'label': 'Horatio',\n",
       "   'size': '8',\n",
       "   'modularity': 'green'}},\n",
       " {'data': {'id': 'VOLTEMAND',\n",
       "   'label': 'Voltemand',\n",
       "   'size': '2',\n",
       "   'modularity': 'green'}},\n",
       " {'data': {'id': 'CORNELIUS',\n",
       "   'label': 'Cornelius',\n",
       "   'size': '1',\n",
       "   'modularity': 'green'}},\n",
       " {'data': {'id': 'ROSENCRANTZ',\n",
       "   'label': 'Rosencrantz',\n",
       "   'size': '7',\n",
       "   'modularity': 'red'}},\n",
       " {'data': {'id': 'GUILDENSTERN',\n",
       "   'label': 'Guildenstern',\n",
       "   'size': '5',\n",
       "   'modularity': 'red'}},\n",
       " {'data': {'id': 'OSRIC',\n",
       "   'label': 'Osric',\n",
       "   'size': '1',\n",
       "   'modularity': 'blue'}},\n",
       " {'data': {'id': 'GENTLEMAN',\n",
       "   'label': 'Gentleman',\n",
       "   'size': '1',\n",
       "   'modularity': 'blue'}},\n",
       " {'data': {'id': 'FRANCISCO',\n",
       "   'label': 'Francisco',\n",
       "   'size': '1',\n",
       "   'modularity': 'green'}},\n",
       " {'data': {'id': 'BARNARDO',\n",
       "   'label': 'Barnardo',\n",
       "   'size': '2',\n",
       "   'modularity': 'green'}},\n",
       " {'data': {'id': 'MARCELLUS',\n",
       "   'label': 'Marcellus',\n",
       "   'size': '4',\n",
       "   'modularity': 'green'}},\n",
       " {'data': {'id': 'FORTINBRAS',\n",
       "   'label': 'Fortinbras',\n",
       "   'size': '2',\n",
       "   'modularity': 'blue'}},\n",
       " {'data': {'id': 'LORDS',\n",
       "   'label': 'Lords',\n",
       "   'size': '1',\n",
       "   'modularity': 'blue'}},\n",
       " {'data': {'source': 'HAMLET',\n",
       "   'target': 'OPHELIA',\n",
       "   'weight': 0.2857142857142857}},\n",
       " {'data': {'source': 'HAMLET',\n",
       "   'target': 'LAERTES',\n",
       "   'weight': 0.5714285714285714}},\n",
       " {'data': {'source': 'HAMLET',\n",
       "   'target': 'POLONIUS',\n",
       "   'weight': 0.8571428571428571}},\n",
       " {'data': {'source': 'HAMLET', 'target': 'HORATIO', 'weight': 1.0}},\n",
       " {'data': {'source': 'HAMLET',\n",
       "   'target': 'VOLTEMAND',\n",
       "   'weight': 0.2857142857142857}},\n",
       " {'data': {'source': 'HAMLET',\n",
       "   'target': 'CORNELIUS',\n",
       "   'weight': 0.14285714285714285}},\n",
       " {'data': {'source': 'HAMLET', 'target': 'ROSENCRANTZ', 'weight': 1.0}},\n",
       " {'data': {'source': 'HAMLET',\n",
       "   'target': 'GUILDENSTERN',\n",
       "   'weight': 0.7142857142857143}},\n",
       " {'data': {'source': 'HAMLET',\n",
       "   'target': 'OSRIC',\n",
       "   'weight': 0.14285714285714285}},\n",
       " {'data': {'source': 'HAMLET',\n",
       "   'target': 'BARNARDO',\n",
       "   'weight': 0.14285714285714285}},\n",
       " {'data': {'source': 'HAMLET',\n",
       "   'target': 'MARCELLUS',\n",
       "   'weight': 0.42857142857142855}},\n",
       " {'data': {'source': 'HAMLET',\n",
       "   'target': 'FORTINBRAS',\n",
       "   'weight': 0.2857142857142857}},\n",
       " {'data': {'source': 'HAMLET',\n",
       "   'target': 'LORDS',\n",
       "   'weight': 0.14285714285714285}},\n",
       " {'data': {'source': 'OPHELIA',\n",
       "   'target': 'LAERTES',\n",
       "   'weight': 0.2857142857142857}},\n",
       " {'data': {'source': 'OPHELIA',\n",
       "   'target': 'POLONIUS',\n",
       "   'weight': 0.5714285714285714}},\n",
       " {'data': {'source': 'OPHELIA',\n",
       "   'target': 'REYNALDO',\n",
       "   'weight': 0.14285714285714285}},\n",
       " {'data': {'source': 'OPHELIA',\n",
       "   'target': 'HORATIO',\n",
       "   'weight': 0.14285714285714285}},\n",
       " {'data': {'source': 'OPHELIA',\n",
       "   'target': 'ROSENCRANTZ',\n",
       "   'weight': 0.2857142857142857}},\n",
       " {'data': {'source': 'OPHELIA',\n",
       "   'target': 'GUILDENSTERN',\n",
       "   'weight': 0.2857142857142857}},\n",
       " {'data': {'source': 'OPHELIA',\n",
       "   'target': 'GENTLEMAN',\n",
       "   'weight': 0.14285714285714285}},\n",
       " {'data': {'source': 'LAERTES',\n",
       "   'target': 'POLONIUS',\n",
       "   'weight': 0.2857142857142857}},\n",
       " {'data': {'source': 'LAERTES',\n",
       "   'target': 'HORATIO',\n",
       "   'weight': 0.42857142857142855}},\n",
       " {'data': {'source': 'LAERTES',\n",
       "   'target': 'VOLTEMAND',\n",
       "   'weight': 0.14285714285714285}},\n",
       " {'data': {'source': 'LAERTES',\n",
       "   'target': 'CORNELIUS',\n",
       "   'weight': 0.14285714285714285}},\n",
       " {'data': {'source': 'LAERTES',\n",
       "   'target': 'OSRIC',\n",
       "   'weight': 0.14285714285714285}},\n",
       " {'data': {'source': 'LAERTES',\n",
       "   'target': 'GENTLEMAN',\n",
       "   'weight': 0.14285714285714285}},\n",
       " {'data': {'source': 'LAERTES',\n",
       "   'target': 'BARNARDO',\n",
       "   'weight': 0.14285714285714285}},\n",
       " {'data': {'source': 'LAERTES',\n",
       "   'target': 'MARCELLUS',\n",
       "   'weight': 0.14285714285714285}},\n",
       " {'data': {'source': 'LAERTES',\n",
       "   'target': 'FORTINBRAS',\n",
       "   'weight': 0.14285714285714285}},\n",
       " {'data': {'source': 'LAERTES',\n",
       "   'target': 'LORDS',\n",
       "   'weight': 0.14285714285714285}},\n",
       " {'data': {'source': 'POLONIUS',\n",
       "   'target': 'REYNALDO',\n",
       "   'weight': 0.14285714285714285}},\n",
       " {'data': {'source': 'POLONIUS',\n",
       "   'target': 'HORATIO',\n",
       "   'weight': 0.2857142857142857}},\n",
       " {'data': {'source': 'POLONIUS',\n",
       "   'target': 'VOLTEMAND',\n",
       "   'weight': 0.2857142857142857}},\n",
       " {'data': {'source': 'POLONIUS',\n",
       "   'target': 'CORNELIUS',\n",
       "   'weight': 0.14285714285714285}},\n",
       " {'data': {'source': 'POLONIUS',\n",
       "   'target': 'ROSENCRANTZ',\n",
       "   'weight': 0.5714285714285714}},\n",
       " {'data': {'source': 'POLONIUS',\n",
       "   'target': 'GUILDENSTERN',\n",
       "   'weight': 0.5714285714285714}},\n",
       " {'data': {'source': 'POLONIUS',\n",
       "   'target': 'BARNARDO',\n",
       "   'weight': 0.14285714285714285}},\n",
       " {'data': {'source': 'POLONIUS',\n",
       "   'target': 'MARCELLUS',\n",
       "   'weight': 0.14285714285714285}},\n",
       " {'data': {'source': 'HORATIO',\n",
       "   'target': 'VOLTEMAND',\n",
       "   'weight': 0.14285714285714285}},\n",
       " {'data': {'source': 'HORATIO',\n",
       "   'target': 'CORNELIUS',\n",
       "   'weight': 0.14285714285714285}},\n",
       " {'data': {'source': 'HORATIO',\n",
       "   'target': 'ROSENCRANTZ',\n",
       "   'weight': 0.14285714285714285}},\n",
       " {'data': {'source': 'HORATIO',\n",
       "   'target': 'GUILDENSTERN',\n",
       "   'weight': 0.14285714285714285}},\n",
       " {'data': {'source': 'HORATIO',\n",
       "   'target': 'OSRIC',\n",
       "   'weight': 0.14285714285714285}},\n",
       " {'data': {'source': 'HORATIO',\n",
       "   'target': 'FRANCISCO',\n",
       "   'weight': 0.14285714285714285}},\n",
       " {'data': {'source': 'HORATIO',\n",
       "   'target': 'BARNARDO',\n",
       "   'weight': 0.2857142857142857}},\n",
       " {'data': {'source': 'HORATIO',\n",
       "   'target': 'MARCELLUS',\n",
       "   'weight': 0.5714285714285714}},\n",
       " {'data': {'source': 'HORATIO',\n",
       "   'target': 'FORTINBRAS',\n",
       "   'weight': 0.14285714285714285}},\n",
       " {'data': {'source': 'HORATIO',\n",
       "   'target': 'LORDS',\n",
       "   'weight': 0.14285714285714285}},\n",
       " {'data': {'source': 'VOLTEMAND',\n",
       "   'target': 'CORNELIUS',\n",
       "   'weight': 0.14285714285714285}},\n",
       " {'data': {'source': 'VOLTEMAND',\n",
       "   'target': 'ROSENCRANTZ',\n",
       "   'weight': 0.14285714285714285}},\n",
       " {'data': {'source': 'VOLTEMAND',\n",
       "   'target': 'GUILDENSTERN',\n",
       "   'weight': 0.14285714285714285}},\n",
       " {'data': {'source': 'VOLTEMAND',\n",
       "   'target': 'BARNARDO',\n",
       "   'weight': 0.14285714285714285}},\n",
       " {'data': {'source': 'VOLTEMAND',\n",
       "   'target': 'MARCELLUS',\n",
       "   'weight': 0.14285714285714285}},\n",
       " {'data': {'source': 'CORNELIUS',\n",
       "   'target': 'BARNARDO',\n",
       "   'weight': 0.14285714285714285}},\n",
       " {'data': {'source': 'CORNELIUS',\n",
       "   'target': 'MARCELLUS',\n",
       "   'weight': 0.14285714285714285}},\n",
       " {'data': {'source': 'ROSENCRANTZ',\n",
       "   'target': 'GUILDENSTERN',\n",
       "   'weight': 0.7142857142857143}},\n",
       " {'data': {'source': 'ROSENCRANTZ',\n",
       "   'target': 'FORTINBRAS',\n",
       "   'weight': 0.14285714285714285}},\n",
       " {'data': {'source': 'OSRIC',\n",
       "   'target': 'FORTINBRAS',\n",
       "   'weight': 0.14285714285714285}},\n",
       " {'data': {'source': 'OSRIC',\n",
       "   'target': 'LORDS',\n",
       "   'weight': 0.14285714285714285}},\n",
       " {'data': {'source': 'FRANCISCO',\n",
       "   'target': 'BARNARDO',\n",
       "   'weight': 0.14285714285714285}},\n",
       " {'data': {'source': 'FRANCISCO',\n",
       "   'target': 'MARCELLUS',\n",
       "   'weight': 0.14285714285714285}},\n",
       " {'data': {'source': 'BARNARDO',\n",
       "   'target': 'MARCELLUS',\n",
       "   'weight': 0.2857142857142857}},\n",
       " {'data': {'source': 'FORTINBRAS',\n",
       "   'target': 'LORDS',\n",
       "   'weight': 0.14285714285714285}}]"
      ]
     },
     "execution_count": 76,
     "metadata": {},
     "output_type": "execute_result"
    }
   ],
   "source": [
    "graphitems = []\n",
    "\n",
    "for k,v in charnum.items():\n",
    "    if k in node_groups[0]:\n",
    "        modularity = 'blue'\n",
    "    elif k in node_groups[1]:\n",
    "        modularity = 'green'\n",
    "    else:\n",
    "        modularity = 'red'\n",
    "    dashnode = {'data': {'id': k,\n",
    "                         'label': k.title(),\n",
    "                         'size': str(v),'modularity': modularity}}\n",
    "    graphitems.append(dashnode)\n",
    "\n",
    "correction_factor = max(connections.values())\n",
    "print(correction_factor)\n",
    "for k,v in connections.items():\n",
    "    if v != 0:\n",
    "        dashedge = {'data': {'source': k[0],\n",
    "                             'target': k[1],\n",
    "                             'weight': v/correction_factor}}\n",
    "        graphitems.append(dashedge)\n",
    "    \n",
    "graphitems"
   ]
  },
  {
   "cell_type": "code",
   "execution_count": 77,
   "id": "fee1bdf0-6091-4304-8714-6237df0073ad",
   "metadata": {},
   "outputs": [
    {
     "name": "stderr",
     "output_type": "stream",
     "text": [
      "/opt/conda/lib/python3.9/site-packages/jupyter_dash/jupyter_app.py:139: UserWarning: The 'environ['werkzeug.server.shutdown']' function is deprecated and will be removed in Werkzeug 2.1.\n",
      "  func()\n"
     ]
    },
    {
     "name": "stdout",
     "output_type": "stream",
     "text": [
      "Dash app running on https://jupyter.idre.ucla.edu/user/carolcheng25@gmail.com/proxy/8050/\n"
     ]
    }
   ],
   "source": [
    "app = JupyterDash(__name__)\n",
    "\n",
    "app.layout = html.Div([\n",
    "    cyto.Cytoscape(\n",
    "        layout={'name': 'cose'},\n",
    "        elements=graphitems,\n",
    "        style={'width': '100%', 'height': '750px'},\n",
    "        stylesheet=[\n",
    "            {\n",
    "                'selector': 'node',\n",
    "                'style': {\n",
    "                    'content':'data(label)',\n",
    "                    'text-halign':'center',\n",
    "                    'text-valign':'center',\n",
    "                    'width': 'data(size)',\n",
    "                    'height': 'data(size)',\n",
    "                    'font-size': 4,\n",
    "                    'color': 'black',\n",
    "                    'background-color': 'data(modularity)',\n",
    "                    'text-outline-color': 'white',\n",
    "                    'text-outline-width': 0.2,\n",
    "                    'shape':'circle'\n",
    "                }\n",
    "            },\n",
    "            {\n",
    "                'selector':'edge',\n",
    "                'style': {\n",
    "                    'width':'data(weight)',\n",
    "                    'line-color': 'blue',\n",
    "                  }\n",
    "            },\n",
    "        ]\n",
    "    )\n",
    "])\n",
    "\n",
    "app.run_server(debug=True)"
   ]
  },
  {
   "cell_type": "code",
   "execution_count": null,
   "id": "d29b0456-3beb-4306-abae-849f2dec358a",
   "metadata": {},
   "outputs": [],
   "source": []
  }
 ],
 "metadata": {
  "kernelspec": {
   "display_name": "Python 3 (ipykernel)",
   "language": "python",
   "name": "python3"
  },
  "language_info": {
   "codemirror_mode": {
    "name": "ipython",
    "version": 3
   },
   "file_extension": ".py",
   "mimetype": "text/x-python",
   "name": "python",
   "nbconvert_exporter": "python",
   "pygments_lexer": "ipython3",
   "version": "3.9.6"
  }
 },
 "nbformat": 4,
 "nbformat_minor": 5
}
