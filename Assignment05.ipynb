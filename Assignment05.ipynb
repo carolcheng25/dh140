{
 "cells": [
  {
   "cell_type": "markdown",
   "id": "b5fcdc3b-2f12-40e2-ad5b-cec4b07b708f",
   "metadata": {},
   "source": [
    "# Step 2 #"
   ]
  },
  {
   "cell_type": "code",
   "execution_count": 2,
   "id": "33ea18fb-4020-4e4f-a0d2-419673de608d",
   "metadata": {},
   "outputs": [],
   "source": [
    "import requests"
   ]
  },
  {
   "cell_type": "code",
   "execution_count": 3,
   "id": "88d05980-5368-41ee-a262-eba72f75e6d8",
   "metadata": {},
   "outputs": [],
   "source": [
    "response = requests.get('https://corgis-edu.github.io/corgis/csv/')"
   ]
  },
  {
   "cell_type": "code",
   "execution_count": 4,
   "id": "63a0b429-8c5f-4750-94b7-8070ec44d737",
   "metadata": {},
   "outputs": [
    {
     "data": {
      "text/plain": [
       "<Response [200]>"
      ]
     },
     "execution_count": 4,
     "metadata": {},
     "output_type": "execute_result"
    }
   ],
   "source": [
    "response"
   ]
  },
  {
   "cell_type": "code",
   "execution_count": 5,
   "id": "3c49c5c3-3aae-4a68-91ad-6bb3e9ba6d8b",
   "metadata": {},
   "outputs": [],
   "source": [
    "from bs4 import BeautifulSoup"
   ]
  },
  {
   "cell_type": "code",
   "execution_count": 6,
   "id": "b921c220-2f03-4b37-9087-bab51658499a",
   "metadata": {},
   "outputs": [],
   "source": [
    "html_string = response.text"
   ]
  },
  {
   "cell_type": "code",
   "execution_count": 7,
   "id": "cb9c4ef0-2e1b-476e-85c1-658be772e022",
   "metadata": {},
   "outputs": [],
   "source": [
    "document = BeautifulSoup(html_string, \"html.parser\")"
   ]
  },
  {
   "cell_type": "code",
   "execution_count": 9,
   "id": "6273efa8-3670-4cd9-95f2-e03d83f546e8",
   "metadata": {},
   "outputs": [
    {
     "name": "stdout",
     "output_type": "stream",
     "text": [
      "Aids\n",
      "Airlines\n",
      "Billionaires\n",
      "Broadway\n",
      "Business Dynamics\n",
      "Cancer\n",
      "Cars\n",
      "Classics\n",
      "Construction Permits\n",
      "Construction Spending\n",
      "County Demographics\n",
      "Covid\n",
      "Drugs\n",
      "Earthquakes\n",
      "Election\n",
      "Electricity\n",
      "Emissions\n",
      "Energy\n",
      "Finance\n",
      "Food\n",
      "Food Access\n",
      "Global Development\n",
      "Graduates\n",
      "Health\n",
      "Hospitals\n",
      "Hydropower\n",
      "Ingredients\n",
      "Injuries\n",
      "Labor\n",
      "Medal Of Honor\n",
      "Music\n",
      "Opioids\n",
      "Police Shootings\n",
      "Publishers\n",
      "Real Estate\n",
      "Retail Services\n",
      "School Scores\n",
      "Skyscrapers\n",
      "Slavery\n",
      "State Crime\n",
      "State Demographics\n",
      "State Fragility\n",
      "Suicide Attacks\n",
      "Supreme Court\n",
      "Tate\n",
      "Video Games\n",
      "Weather\n",
      "Wind Turbines\n"
     ]
    }
   ],
   "source": [
    "#document.find_all('h3')\n",
    "for i in document.find_all('h3'):\n",
    "    print(i.text.strip())"
   ]
  },
  {
   "cell_type": "markdown",
   "id": "7d8e325e-0b28-4a94-924d-902dad3d71de",
   "metadata": {},
   "source": [
    "# Step 3 #"
   ]
  },
  {
   "cell_type": "code",
   "execution_count": 10,
   "id": "06d73aba-c3a5-4ec5-bd6e-2745da8dbb78",
   "metadata": {},
   "outputs": [],
   "source": [
    "import pandas as pd"
   ]
  },
  {
   "cell_type": "code",
   "execution_count": 13,
   "id": "35e8b490-3391-4753-8140-7766246425f8",
   "metadata": {},
   "outputs": [],
   "source": [
    "def pdcorgis(a):\n",
    "    a = a.lower()\n",
    "    print(a)\n",
    "    response_ = requests.get('https://corgis-edu.github.io/corgis/csv/' + a + '/')\n",
    "   \n",
    "    html_string = response_.text\n",
    "    document = BeautifulSoup(html_string, \"html.parser\")\n",
    "    \n",
    "    for i in document.find_all('a'):\n",
    "        if i.has_attr('download') == True:\n",
    "            b = i['href']\n",
    "            download_link = 'https://corgis-edu.github.io/corgis/csv/' + a + '/' + b\n",
    "            corgisdf = pd.read_csv(download_link)\n",
    "            return corgisdf\n",
    "        else:\n",
    "            print('not available')"
   ]
  },
  {
   "cell_type": "code",
   "execution_count": 14,
   "id": "fb3b5160-8dba-471d-9173-2e74c0a16f4a",
   "metadata": {},
   "outputs": [
    {
     "name": "stdout",
     "output_type": "stream",
     "text": [
      "cancer\n",
      "not available\n"
     ]
    }
   ],
   "source": [
    "df = pdcorgis(\"Cancer\")"
   ]
  },
  {
   "cell_type": "code",
   "execution_count": 16,
   "id": "6ee07041-89c9-439e-a97d-225ad8178a7d",
   "metadata": {},
   "outputs": [
    {
     "data": {
      "text/html": [
       "<div>\n",
       "<style scoped>\n",
       "    .dataframe tbody tr th:only-of-type {\n",
       "        vertical-align: middle;\n",
       "    }\n",
       "\n",
       "    .dataframe tbody tr th {\n",
       "        vertical-align: top;\n",
       "    }\n",
       "\n",
       "    .dataframe thead th {\n",
       "        text-align: right;\n",
       "    }\n",
       "</style>\n",
       "<table border=\"1\" class=\"dataframe\">\n",
       "  <thead>\n",
       "    <tr style=\"text-align: right;\">\n",
       "      <th></th>\n",
       "      <th>State</th>\n",
       "      <th>Total.Rate</th>\n",
       "      <th>Total.Number</th>\n",
       "      <th>Total.Population</th>\n",
       "      <th>Rates.Age.&lt; 18</th>\n",
       "      <th>Rates.Age.18-45</th>\n",
       "      <th>Rates.Age.45-64</th>\n",
       "      <th>Rates.Age.&gt; 64</th>\n",
       "      <th>Rates.Age and Sex.&lt; 18.Female</th>\n",
       "      <th>Rates.Age and Sex.&lt; 18.Male</th>\n",
       "      <th>...</th>\n",
       "      <th>Types.Lung.Age and Sex.Male.45 - 64</th>\n",
       "      <th>Types.Lung.Age and Sex.Female.&gt; 64</th>\n",
       "      <th>Types.Lung.Age and Sex.Male.&gt; 64</th>\n",
       "      <th>Types.Lung.Race.White</th>\n",
       "      <th>Types.Lung.Race.White non-Hispanic</th>\n",
       "      <th>Types.Lung.Race.Black</th>\n",
       "      <th>Types.Lung.Race.Black non-Hispanic</th>\n",
       "      <th>Types.Lung.Race.Asian</th>\n",
       "      <th>Types.Lung.Race.Indigenous</th>\n",
       "      <th>Types.Lung.Race.Hispanic</th>\n",
       "    </tr>\n",
       "  </thead>\n",
       "  <tbody>\n",
       "    <tr>\n",
       "      <th>0</th>\n",
       "      <td>Alabama</td>\n",
       "      <td>214.2</td>\n",
       "      <td>71529.0</td>\n",
       "      <td>33387205.0</td>\n",
       "      <td>2.0</td>\n",
       "      <td>18.5</td>\n",
       "      <td>244.7</td>\n",
       "      <td>1017.8</td>\n",
       "      <td>2.0</td>\n",
       "      <td>2.1</td>\n",
       "      <td>...</td>\n",
       "      <td>102.9</td>\n",
       "      <td>221.7</td>\n",
       "      <td>457.4</td>\n",
       "      <td>59.9</td>\n",
       "      <td>60.4</td>\n",
       "      <td>52.6</td>\n",
       "      <td>52.8</td>\n",
       "      <td>23.0</td>\n",
       "      <td>22.9</td>\n",
       "      <td>14.8</td>\n",
       "    </tr>\n",
       "    <tr>\n",
       "      <th>1</th>\n",
       "      <td>Alaska</td>\n",
       "      <td>128.1</td>\n",
       "      <td>6361.0</td>\n",
       "      <td>4966180.0</td>\n",
       "      <td>1.7</td>\n",
       "      <td>11.8</td>\n",
       "      <td>170.9</td>\n",
       "      <td>965.2</td>\n",
       "      <td>0.0</td>\n",
       "      <td>0.0</td>\n",
       "      <td>...</td>\n",
       "      <td>50.3</td>\n",
       "      <td>268.3</td>\n",
       "      <td>335.0</td>\n",
       "      <td>48.7</td>\n",
       "      <td>49.5</td>\n",
       "      <td>45.6</td>\n",
       "      <td>47.9</td>\n",
       "      <td>33.0</td>\n",
       "      <td>74.4</td>\n",
       "      <td>0.0</td>\n",
       "    </tr>\n",
       "    <tr>\n",
       "      <th>2</th>\n",
       "      <td>Arizona</td>\n",
       "      <td>165.6</td>\n",
       "      <td>74286.0</td>\n",
       "      <td>44845598.0</td>\n",
       "      <td>2.5</td>\n",
       "      <td>13.6</td>\n",
       "      <td>173.6</td>\n",
       "      <td>840.2</td>\n",
       "      <td>2.6</td>\n",
       "      <td>2.5</td>\n",
       "      <td>...</td>\n",
       "      <td>47.0</td>\n",
       "      <td>191.9</td>\n",
       "      <td>275.8</td>\n",
       "      <td>39.5</td>\n",
       "      <td>42.2</td>\n",
       "      <td>38.2</td>\n",
       "      <td>40.4</td>\n",
       "      <td>21.3</td>\n",
       "      <td>11.1</td>\n",
       "      <td>21.6</td>\n",
       "    </tr>\n",
       "    <tr>\n",
       "      <th>3</th>\n",
       "      <td>Arkansas</td>\n",
       "      <td>223.9</td>\n",
       "      <td>45627.0</td>\n",
       "      <td>20382448.0</td>\n",
       "      <td>2.3</td>\n",
       "      <td>17.6</td>\n",
       "      <td>250.1</td>\n",
       "      <td>1048.3</td>\n",
       "      <td>2.6</td>\n",
       "      <td>2.0</td>\n",
       "      <td>...</td>\n",
       "      <td>106.5</td>\n",
       "      <td>248.7</td>\n",
       "      <td>484.7</td>\n",
       "      <td>63.4</td>\n",
       "      <td>64.2</td>\n",
       "      <td>62.9</td>\n",
       "      <td>63.0</td>\n",
       "      <td>18.1</td>\n",
       "      <td>16.2</td>\n",
       "      <td>14.6</td>\n",
       "    </tr>\n",
       "    <tr>\n",
       "      <th>4</th>\n",
       "      <td>California</td>\n",
       "      <td>150.9</td>\n",
       "      <td>393980.0</td>\n",
       "      <td>261135696.0</td>\n",
       "      <td>2.6</td>\n",
       "      <td>13.7</td>\n",
       "      <td>163.7</td>\n",
       "      <td>902.4</td>\n",
       "      <td>2.4</td>\n",
       "      <td>2.8</td>\n",
       "      <td>...</td>\n",
       "      <td>36.8</td>\n",
       "      <td>192.5</td>\n",
       "      <td>269.0</td>\n",
       "      <td>37.2</td>\n",
       "      <td>42.6</td>\n",
       "      <td>46.5</td>\n",
       "      <td>48.6</td>\n",
       "      <td>25.8</td>\n",
       "      <td>18.4</td>\n",
       "      <td>18.3</td>\n",
       "    </tr>\n",
       "  </tbody>\n",
       "</table>\n",
       "<p>5 rows × 75 columns</p>\n",
       "</div>"
      ],
      "text/plain": [
       "        State  Total.Rate  Total.Number  Total.Population  Rates.Age.< 18  \\\n",
       "0     Alabama       214.2       71529.0        33387205.0             2.0   \n",
       "1      Alaska       128.1        6361.0         4966180.0             1.7   \n",
       "2     Arizona       165.6       74286.0        44845598.0             2.5   \n",
       "3    Arkansas       223.9       45627.0        20382448.0             2.3   \n",
       "4  California       150.9      393980.0       261135696.0             2.6   \n",
       "\n",
       "   Rates.Age.18-45  Rates.Age.45-64  Rates.Age.> 64  \\\n",
       "0             18.5            244.7          1017.8   \n",
       "1             11.8            170.9           965.2   \n",
       "2             13.6            173.6           840.2   \n",
       "3             17.6            250.1          1048.3   \n",
       "4             13.7            163.7           902.4   \n",
       "\n",
       "   Rates.Age and Sex.< 18.Female  Rates.Age and Sex.< 18.Male  ...  \\\n",
       "0                            2.0                          2.1  ...   \n",
       "1                            0.0                          0.0  ...   \n",
       "2                            2.6                          2.5  ...   \n",
       "3                            2.6                          2.0  ...   \n",
       "4                            2.4                          2.8  ...   \n",
       "\n",
       "   Types.Lung.Age and Sex.Male.45 - 64  Types.Lung.Age and Sex.Female.> 64  \\\n",
       "0                                102.9                               221.7   \n",
       "1                                 50.3                               268.3   \n",
       "2                                 47.0                               191.9   \n",
       "3                                106.5                               248.7   \n",
       "4                                 36.8                               192.5   \n",
       "\n",
       "   Types.Lung.Age and Sex.Male.> 64  Types.Lung.Race.White  \\\n",
       "0                             457.4                   59.9   \n",
       "1                             335.0                   48.7   \n",
       "2                             275.8                   39.5   \n",
       "3                             484.7                   63.4   \n",
       "4                             269.0                   37.2   \n",
       "\n",
       "   Types.Lung.Race.White non-Hispanic  Types.Lung.Race.Black  \\\n",
       "0                                60.4                   52.6   \n",
       "1                                49.5                   45.6   \n",
       "2                                42.2                   38.2   \n",
       "3                                64.2                   62.9   \n",
       "4                                42.6                   46.5   \n",
       "\n",
       "   Types.Lung.Race.Black non-Hispanic  Types.Lung.Race.Asian  \\\n",
       "0                                52.8                   23.0   \n",
       "1                                47.9                   33.0   \n",
       "2                                40.4                   21.3   \n",
       "3                                63.0                   18.1   \n",
       "4                                48.6                   25.8   \n",
       "\n",
       "   Types.Lung.Race.Indigenous  Types.Lung.Race.Hispanic  \n",
       "0                        22.9                      14.8  \n",
       "1                        74.4                       0.0  \n",
       "2                        11.1                      21.6  \n",
       "3                        16.2                      14.6  \n",
       "4                        18.4                      18.3  \n",
       "\n",
       "[5 rows x 75 columns]"
      ]
     },
     "execution_count": 16,
     "metadata": {},
     "output_type": "execute_result"
    }
   ],
   "source": [
    "df.head()"
   ]
  },
  {
   "cell_type": "code",
   "execution_count": 42,
   "id": "823db22c-d6ea-47f4-869a-e8f28aa79388",
   "metadata": {
    "collapsed": true,
    "jupyter": {
     "outputs_hidden": true
    },
    "tags": []
   },
   "outputs": [
    {
     "data": {
      "text/plain": [
       "0     52.6\n",
       "1     45.6\n",
       "2     38.2\n",
       "3     62.9\n",
       "4     46.5\n",
       "5     40.4\n",
       "6     38.4\n",
       "7     49.3\n",
       "8     53.6\n",
       "9     38.1\n",
       "10    45.1\n",
       "11    39.6\n",
       "12     0.0\n",
       "13    60.1\n",
       "14    64.3\n",
       "15    66.0\n",
       "16    59.9\n",
       "17    73.2\n",
       "18    61.6\n",
       "19     0.0\n",
       "20    47.0\n",
       "21    34.1\n",
       "22    59.3\n",
       "23    40.3\n",
       "24    60.1\n",
       "25    60.2\n",
       "26     0.0\n",
       "27    62.7\n",
       "28    44.7\n",
       "29    32.6\n",
       "30    42.8\n",
       "31    42.9\n",
       "32    35.6\n",
       "33    51.8\n",
       "34     0.0\n",
       "35    62.9\n",
       "36    59.7\n",
       "37    55.3\n",
       "38    60.2\n",
       "39    33.7\n",
       "40    49.4\n",
       "41     0.0\n",
       "42    62.1\n",
       "43    54.1\n",
       "44    31.1\n",
       "45     0.0\n",
       "46    52.6\n",
       "47    46.6\n",
       "48    59.1\n",
       "49    70.6\n",
       "50     0.0\n",
       "Name: Types.Lung.Race.Black, dtype: float64"
      ]
     },
     "execution_count": 42,
     "metadata": {},
     "output_type": "execute_result"
    }
   ],
   "source": [
    "df['Types.Lung.Race.Black']"
   ]
  },
  {
   "cell_type": "code",
   "execution_count": 18,
   "id": "930af068-f5bf-445e-a8b6-a2cfb4f24500",
   "metadata": {},
   "outputs": [
    {
     "data": {
      "text/plain": [
       "<AxesSubplot:xlabel='State'>"
      ]
     },
     "execution_count": 18,
     "metadata": {},
     "output_type": "execute_result"
    },
    {
     "data": {
      "image/png": "[encoded data removed]",
      "text/plain": [
       "<Figure size 432x288 with 1 Axes>"
      ]
     },
     "metadata": {
      "needs_background": "light"
     },
     "output_type": "display_data"
    }
   ],
   "source": [
    "import matplotlib.pyplot as plt\n",
    "df.plot(kind = 'bar', x = 'State', y = 'Types.Lung.Race.Black')"
   ]
  },
  {
   "cell_type": "code",
   "execution_count": 47,
   "id": "c841b8cf-6555-495b-805a-453fa48fe9bb",
   "metadata": {},
   "outputs": [],
   "source": [
    "def pdcorgis(a):\n",
    "    a = a.lower()\n",
    "    print(a)\n",
    "    response_ = requests.get('https://corgis-edu.github.io/corgis/csv/' + a + '/')\n",
    "   \n",
    "    html_string = response_.text\n",
    "    document = BeautifulSoup(html_string, \"html.parser\")\n",
    "    \n",
    "    for i in document.find_all('a'):\n",
    "        if i.has_attr('download') == True:\n",
    "            b = i['href']\n",
    "            download_link = 'https://corgis-edu.github.io/corgis/csv/' + a + '/' + b\n",
    "            corgisdf = pd.read_csv(download_link)\n",
    "            return corgisdf\n",
    "    else:\n",
    "        print('not available')"
   ]
  },
  {
   "cell_type": "code",
   "execution_count": 23,
   "id": "69e8032d-35fb-44e3-9792-a9ab33decb7d",
   "metadata": {},
   "outputs": [
    {
     "name": "stdout",
     "output_type": "stream",
     "text": [
      "cars\n",
      "not available\n"
     ]
    }
   ],
   "source": [
    "df = pdcorgis(\"Cars\")"
   ]
  },
  {
   "cell_type": "code",
   "execution_count": 24,
   "id": "c670f385-0085-48f9-b059-93de25d7daf1",
   "metadata": {},
   "outputs": [
    {
     "data": {
      "text/html": [
       "<div>\n",
       "<style scoped>\n",
       "    .dataframe tbody tr th:only-of-type {\n",
       "        vertical-align: middle;\n",
       "    }\n",
       "\n",
       "    .dataframe tbody tr th {\n",
       "        vertical-align: top;\n",
       "    }\n",
       "\n",
       "    .dataframe thead th {\n",
       "        text-align: right;\n",
       "    }\n",
       "</style>\n",
       "<table border=\"1\" class=\"dataframe\">\n",
       "  <thead>\n",
       "    <tr style=\"text-align: right;\">\n",
       "      <th></th>\n",
       "      <th>Dimensions.Height</th>\n",
       "      <th>Dimensions.Length</th>\n",
       "      <th>Dimensions.Width</th>\n",
       "      <th>Engine Information.Driveline</th>\n",
       "      <th>Engine Information.Engine Type</th>\n",
       "      <th>Engine Information.Hybrid</th>\n",
       "      <th>Engine Information.Number of Forward Gears</th>\n",
       "      <th>Engine Information.Transmission</th>\n",
       "      <th>Fuel Information.City mpg</th>\n",
       "      <th>Fuel Information.Fuel Type</th>\n",
       "      <th>Fuel Information.Highway mpg</th>\n",
       "      <th>Identification.Classification</th>\n",
       "      <th>Identification.ID</th>\n",
       "      <th>Identification.Make</th>\n",
       "      <th>Identification.Model Year</th>\n",
       "      <th>Identification.Year</th>\n",
       "      <th>Engine Information.Engine Statistics.Horsepower</th>\n",
       "      <th>Engine Information.Engine Statistics.Torque</th>\n",
       "    </tr>\n",
       "  </thead>\n",
       "  <tbody>\n",
       "    <tr>\n",
       "      <th>0</th>\n",
       "      <td>140</td>\n",
       "      <td>143</td>\n",
       "      <td>202</td>\n",
       "      <td>All-wheel drive</td>\n",
       "      <td>Audi 3.2L 6 cylinder 250hp 236ft-lbs</td>\n",
       "      <td>True</td>\n",
       "      <td>6</td>\n",
       "      <td>6 Speed Automatic Select Shift</td>\n",
       "      <td>18</td>\n",
       "      <td>Gasoline</td>\n",
       "      <td>25</td>\n",
       "      <td>Automatic transmission</td>\n",
       "      <td>2009 Audi A3 3.2</td>\n",
       "      <td>Audi</td>\n",
       "      <td>2009 Audi A3</td>\n",
       "      <td>2009</td>\n",
       "      <td>250</td>\n",
       "      <td>236</td>\n",
       "    </tr>\n",
       "    <tr>\n",
       "      <th>1</th>\n",
       "      <td>140</td>\n",
       "      <td>143</td>\n",
       "      <td>202</td>\n",
       "      <td>Front-wheel drive</td>\n",
       "      <td>Audi 2.0L 4 cylinder 200 hp 207 ft-lbs Turbo</td>\n",
       "      <td>True</td>\n",
       "      <td>6</td>\n",
       "      <td>6 Speed Automatic Select Shift</td>\n",
       "      <td>22</td>\n",
       "      <td>Gasoline</td>\n",
       "      <td>28</td>\n",
       "      <td>Automatic transmission</td>\n",
       "      <td>2009 Audi A3 2.0 T AT</td>\n",
       "      <td>Audi</td>\n",
       "      <td>2009 Audi A3</td>\n",
       "      <td>2009</td>\n",
       "      <td>200</td>\n",
       "      <td>207</td>\n",
       "    </tr>\n",
       "    <tr>\n",
       "      <th>2</th>\n",
       "      <td>140</td>\n",
       "      <td>143</td>\n",
       "      <td>202</td>\n",
       "      <td>Front-wheel drive</td>\n",
       "      <td>Audi 2.0L 4 cylinder 200 hp 207 ft-lbs Turbo</td>\n",
       "      <td>True</td>\n",
       "      <td>6</td>\n",
       "      <td>6 Speed Manual</td>\n",
       "      <td>21</td>\n",
       "      <td>Gasoline</td>\n",
       "      <td>30</td>\n",
       "      <td>Manual transmission</td>\n",
       "      <td>2009 Audi A3 2.0 T</td>\n",
       "      <td>Audi</td>\n",
       "      <td>2009 Audi A3</td>\n",
       "      <td>2009</td>\n",
       "      <td>200</td>\n",
       "      <td>207</td>\n",
       "    </tr>\n",
       "    <tr>\n",
       "      <th>3</th>\n",
       "      <td>140</td>\n",
       "      <td>143</td>\n",
       "      <td>202</td>\n",
       "      <td>All-wheel drive</td>\n",
       "      <td>Audi 2.0L 4 cylinder 200 hp 207 ft-lbs Turbo</td>\n",
       "      <td>True</td>\n",
       "      <td>6</td>\n",
       "      <td>6 Speed Automatic Select Shift</td>\n",
       "      <td>21</td>\n",
       "      <td>Gasoline</td>\n",
       "      <td>28</td>\n",
       "      <td>Automatic transmission</td>\n",
       "      <td>2009 Audi A3 2.0 T Quattro</td>\n",
       "      <td>Audi</td>\n",
       "      <td>2009 Audi A3</td>\n",
       "      <td>2009</td>\n",
       "      <td>200</td>\n",
       "      <td>207</td>\n",
       "    </tr>\n",
       "    <tr>\n",
       "      <th>4</th>\n",
       "      <td>140</td>\n",
       "      <td>143</td>\n",
       "      <td>202</td>\n",
       "      <td>All-wheel drive</td>\n",
       "      <td>Audi 2.0L 4 cylinder 200 hp 207 ft-lbs Turbo</td>\n",
       "      <td>True</td>\n",
       "      <td>6</td>\n",
       "      <td>6 Speed Automatic Select Shift</td>\n",
       "      <td>21</td>\n",
       "      <td>Gasoline</td>\n",
       "      <td>28</td>\n",
       "      <td>Automatic transmission</td>\n",
       "      <td>2009 Audi A3 2.0 T Quattro</td>\n",
       "      <td>Audi</td>\n",
       "      <td>2009 Audi A3</td>\n",
       "      <td>2009</td>\n",
       "      <td>200</td>\n",
       "      <td>207</td>\n",
       "    </tr>\n",
       "  </tbody>\n",
       "</table>\n",
       "</div>"
      ],
      "text/plain": [
       "   Dimensions.Height  Dimensions.Length  Dimensions.Width  \\\n",
       "0                140                143               202   \n",
       "1                140                143               202   \n",
       "2                140                143               202   \n",
       "3                140                143               202   \n",
       "4                140                143               202   \n",
       "\n",
       "  Engine Information.Driveline                Engine Information.Engine Type  \\\n",
       "0              All-wheel drive          Audi 3.2L 6 cylinder 250hp 236ft-lbs   \n",
       "1            Front-wheel drive  Audi 2.0L 4 cylinder 200 hp 207 ft-lbs Turbo   \n",
       "2            Front-wheel drive  Audi 2.0L 4 cylinder 200 hp 207 ft-lbs Turbo   \n",
       "3              All-wheel drive  Audi 2.0L 4 cylinder 200 hp 207 ft-lbs Turbo   \n",
       "4              All-wheel drive  Audi 2.0L 4 cylinder 200 hp 207 ft-lbs Turbo   \n",
       "\n",
       "   Engine Information.Hybrid  Engine Information.Number of Forward Gears  \\\n",
       "0                       True                                           6   \n",
       "1                       True                                           6   \n",
       "2                       True                                           6   \n",
       "3                       True                                           6   \n",
       "4                       True                                           6   \n",
       "\n",
       "  Engine Information.Transmission  Fuel Information.City mpg  \\\n",
       "0  6 Speed Automatic Select Shift                         18   \n",
       "1  6 Speed Automatic Select Shift                         22   \n",
       "2                  6 Speed Manual                         21   \n",
       "3  6 Speed Automatic Select Shift                         21   \n",
       "4  6 Speed Automatic Select Shift                         21   \n",
       "\n",
       "  Fuel Information.Fuel Type  Fuel Information.Highway mpg  \\\n",
       "0                   Gasoline                            25   \n",
       "1                   Gasoline                            28   \n",
       "2                   Gasoline                            30   \n",
       "3                   Gasoline                            28   \n",
       "4                   Gasoline                            28   \n",
       "\n",
       "  Identification.Classification           Identification.ID  \\\n",
       "0        Automatic transmission            2009 Audi A3 3.2   \n",
       "1        Automatic transmission       2009 Audi A3 2.0 T AT   \n",
       "2           Manual transmission          2009 Audi A3 2.0 T   \n",
       "3        Automatic transmission  2009 Audi A3 2.0 T Quattro   \n",
       "4        Automatic transmission  2009 Audi A3 2.0 T Quattro   \n",
       "\n",
       "  Identification.Make Identification.Model Year  Identification.Year  \\\n",
       "0                Audi              2009 Audi A3                 2009   \n",
       "1                Audi              2009 Audi A3                 2009   \n",
       "2                Audi              2009 Audi A3                 2009   \n",
       "3                Audi              2009 Audi A3                 2009   \n",
       "4                Audi              2009 Audi A3                 2009   \n",
       "\n",
       "   Engine Information.Engine Statistics.Horsepower  \\\n",
       "0                                              250   \n",
       "1                                              200   \n",
       "2                                              200   \n",
       "3                                              200   \n",
       "4                                              200   \n",
       "\n",
       "   Engine Information.Engine Statistics.Torque  \n",
       "0                                          236  \n",
       "1                                          207  \n",
       "2                                          207  \n",
       "3                                          207  \n",
       "4                                          207  "
      ]
     },
     "execution_count": 24,
     "metadata": {},
     "output_type": "execute_result"
    }
   ],
   "source": [
    "df.head()"
   ]
  },
  {
   "cell_type": "code",
   "execution_count": 27,
   "id": "3ecbd0d0-9ba8-4f2e-a72a-21a17de9f35b",
   "metadata": {},
   "outputs": [
    {
     "data": {
      "text/plain": [
       "<AxesSubplot:ylabel='Frequency'>"
      ]
     },
     "execution_count": 27,
     "metadata": {},
     "output_type": "execute_result"
    },
    {
     "data": {
      "image/png": "[encoded data removed]",
      "text/plain": [
       "<Figure size 432x288 with 1 Axes>"
      ]
     },
     "metadata": {
      "needs_background": "light"
     },
     "output_type": "display_data"
    }
   ],
   "source": [
    "df.plot(kind = 'hist', y = 'Fuel Information.City mpg')"
   ]
  },
  {
   "cell_type": "code",
   "execution_count": 48,
   "id": "163f1ae2-708b-493e-abfe-f3a8d51390de",
   "metadata": {},
   "outputs": [
    {
     "name": "stdout",
     "output_type": "stream",
     "text": [
      "covid\n",
      "not available\n"
     ]
    }
   ],
   "source": [
    "df = pdcorgis(\"Covid\")"
   ]
  },
  {
   "cell_type": "code",
   "execution_count": 49,
   "id": "922afbd2-7f0c-434c-88a9-591b70da7ae1",
   "metadata": {},
   "outputs": [
    {
     "data": {
      "text/html": [
       "<div>\n",
       "<style scoped>\n",
       "    .dataframe tbody tr th:only-of-type {\n",
       "        vertical-align: middle;\n",
       "    }\n",
       "\n",
       "    .dataframe tbody tr th {\n",
       "        vertical-align: top;\n",
       "    }\n",
       "\n",
       "    .dataframe thead th {\n",
       "        text-align: right;\n",
       "    }\n",
       "</style>\n",
       "<table border=\"1\" class=\"dataframe\">\n",
       "  <thead>\n",
       "    <tr style=\"text-align: right;\">\n",
       "      <th></th>\n",
       "      <th>Date.Day</th>\n",
       "      <th>Date.Month</th>\n",
       "      <th>Date.Year</th>\n",
       "      <th>Data.Cases</th>\n",
       "      <th>Data.Deaths</th>\n",
       "      <th>Location.Country</th>\n",
       "      <th>Location.Code</th>\n",
       "      <th>Data.Population</th>\n",
       "      <th>Location.Continent</th>\n",
       "      <th>Data.Rate</th>\n",
       "    </tr>\n",
       "  </thead>\n",
       "  <tbody>\n",
       "    <tr>\n",
       "      <th>0</th>\n",
       "      <td>31</td>\n",
       "      <td>12</td>\n",
       "      <td>2019</td>\n",
       "      <td>0</td>\n",
       "      <td>0</td>\n",
       "      <td>Afghanistan</td>\n",
       "      <td>AFG</td>\n",
       "      <td>38041757</td>\n",
       "      <td>Asia</td>\n",
       "      <td>0.0</td>\n",
       "    </tr>\n",
       "    <tr>\n",
       "      <th>1</th>\n",
       "      <td>31</td>\n",
       "      <td>12</td>\n",
       "      <td>2019</td>\n",
       "      <td>0</td>\n",
       "      <td>0</td>\n",
       "      <td>Algeria</td>\n",
       "      <td>DZA</td>\n",
       "      <td>43053054</td>\n",
       "      <td>Africa</td>\n",
       "      <td>0.0</td>\n",
       "    </tr>\n",
       "    <tr>\n",
       "      <th>2</th>\n",
       "      <td>31</td>\n",
       "      <td>12</td>\n",
       "      <td>2019</td>\n",
       "      <td>0</td>\n",
       "      <td>0</td>\n",
       "      <td>Armenia</td>\n",
       "      <td>ARM</td>\n",
       "      <td>2957728</td>\n",
       "      <td>Europe</td>\n",
       "      <td>0.0</td>\n",
       "    </tr>\n",
       "    <tr>\n",
       "      <th>3</th>\n",
       "      <td>31</td>\n",
       "      <td>12</td>\n",
       "      <td>2019</td>\n",
       "      <td>0</td>\n",
       "      <td>0</td>\n",
       "      <td>Australia</td>\n",
       "      <td>AUS</td>\n",
       "      <td>25203200</td>\n",
       "      <td>Oceania</td>\n",
       "      <td>0.0</td>\n",
       "    </tr>\n",
       "    <tr>\n",
       "      <th>4</th>\n",
       "      <td>31</td>\n",
       "      <td>12</td>\n",
       "      <td>2019</td>\n",
       "      <td>0</td>\n",
       "      <td>0</td>\n",
       "      <td>Austria</td>\n",
       "      <td>AUT</td>\n",
       "      <td>8858775</td>\n",
       "      <td>Europe</td>\n",
       "      <td>0.0</td>\n",
       "    </tr>\n",
       "  </tbody>\n",
       "</table>\n",
       "</div>"
      ],
      "text/plain": [
       "   Date.Day  Date.Month  Date.Year  Data.Cases  Data.Deaths Location.Country  \\\n",
       "0        31          12       2019           0            0      Afghanistan   \n",
       "1        31          12       2019           0            0          Algeria   \n",
       "2        31          12       2019           0            0          Armenia   \n",
       "3        31          12       2019           0            0        Australia   \n",
       "4        31          12       2019           0            0          Austria   \n",
       "\n",
       "  Location.Code  Data.Population Location.Continent  Data.Rate  \n",
       "0           AFG         38041757               Asia        0.0  \n",
       "1           DZA         43053054             Africa        0.0  \n",
       "2           ARM          2957728             Europe        0.0  \n",
       "3           AUS         25203200            Oceania        0.0  \n",
       "4           AUT          8858775             Europe        0.0  "
      ]
     },
     "execution_count": 49,
     "metadata": {},
     "output_type": "execute_result"
    }
   ],
   "source": [
    "df.head()"
   ]
  },
  {
   "cell_type": "code",
   "execution_count": 52,
   "id": "ac316b5f-e96c-498d-b3b1-dd6df282a8dc",
   "metadata": {},
   "outputs": [
    {
     "data": {
      "text/plain": [
       "<AxesSubplot:xlabel='Date.Month'>"
      ]
     },
     "execution_count": 52,
     "metadata": {},
     "output_type": "execute_result"
    },
    {
     "data": {
      "image/png": "[encoded data removed]",
      "text/plain": [
       "<Figure size 432x288 with 1 Axes>"
      ]
     },
     "metadata": {
      "needs_background": "light"
     },
     "output_type": "display_data"
    }
   ],
   "source": [
    "df2 = df.loc[df['Location.Country'] == 'Algeria']\n",
    "df3 = df2.loc[df2['Date.Year'] == 2020]\n",
    "df3.plot(kind = 'line', x = 'Date.Month', y = 'Data.Cases')"
   ]
  },
  {
   "cell_type": "code",
   "execution_count": null,
   "id": "f2a630dd-8620-469f-829c-4d908c1eeddd",
   "metadata": {},
   "outputs": [],
   "source": []
  }
 ],
 "metadata": {
  "kernelspec": {
   "display_name": "Python 3 (ipykernel)",
   "language": "python",
   "name": "python3"
  },
  "language_info": {
   "codemirror_mode": {
    "name": "ipython",
    "version": 3
   },
   "file_extension": ".py",
   "mimetype": "text/x-python",
   "name": "python",
   "nbconvert_exporter": "python",
   "pygments_lexer": "ipython3",
   "version": "3.9.6"
  }
 },
 "nbformat": 4,
 "nbformat_minor": 5
}
